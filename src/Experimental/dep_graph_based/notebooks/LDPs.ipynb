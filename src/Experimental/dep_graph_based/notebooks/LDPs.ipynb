{
 "cells": [
  {
   "cell_type": "markdown",
   "id": "627ea853-7dbe-420f-8d25-1e9980fafe3f",
   "metadata": {},
   "source": [
    "# Recipes For Translating A BUGS Model To LogDensityProblems"
   ]
  },
  {
   "cell_type": "markdown",
   "id": "ec84e4ff-2111-42b7-bcc2-530af837dd1f",
   "metadata": {},
   "source": [
    "# `Rats` Model"
   ]
  },
  {
   "cell_type": "code",
   "execution_count": null,
   "id": "85409c26-2446-4531-85e9-80446e474460",
   "metadata": {},
   "outputs": [],
   "source": [
    "# JuliaBUGS\n",
    "@bugsast begin\n",
    "    for i in 1:N\n",
    "        for j in 1:T\n",
    "            Y[i, j] ~ dnorm(mu[i, j], tau_c)\n",
    "            mu[i, j] = alpha[i] + beta[i] * (x[j] - xbar)\n",
    "        end\n",
    "        alpha[i] ~ dnorm(alpha_c, alpha_tau)\n",
    "        beta[i] ~ dnorm(beta_c, beta_tau)\n",
    "    end\n",
    "    tau_c ~ dgamma(0.001, 0.001)\n",
    "    sigma = 1 / sqrt(tau_c)\n",
    "    alpha_c ~ dnorm(0.0, 1.0E-6)\n",
    "    alpha_tau ~ dgamma(0.001, 0.001)\n",
    "    beta_c ~ dnorm(0.0, 1.0E-6)\n",
    "    beta_tau ~ dgamma(0.001, 0.001)\n",
    "    alpha0 = alpha_c - xbar * beta_c\n",
    "end"
   ]
  },
  {
   "cell_type": "code",
   "execution_count": 2,
   "id": "7276d62a-c0f6-4d75-8097-0cc99c8633bc",
   "metadata": {},
   "outputs": [],
   "source": [
    "# data\n",
    "x = [8.0, 15.0, 22.0, 29.0, 36.0]\n",
    "xbar = 22\n",
    "N = 30\n",
    "T = 5\n",
    "Y = [\n",
    "    151 199 246 283 320\n",
    "    145 199 249 293 354\n",
    "    147 214 263 312 328\n",
    "    155 200 237 272 297\n",
    "    135 188 230 280 323\n",
    "    159 210 252 298 331\n",
    "    141 189 231 275 305\n",
    "    159 201 248 297 338\n",
    "    177 236 285 350 376\n",
    "    134 182 220 260 296\n",
    "    160 208 261 313 352\n",
    "    143 188 220 273 314\n",
    "    154 200 244 289 325\n",
    "    171 221 270 326 358\n",
    "    163 216 242 281 312\n",
    "    160 207 248 288 324\n",
    "    142 187 234 280 316\n",
    "    156 203 243 283 317\n",
    "    157 212 259 307 336\n",
    "    152 203 246 286 321\n",
    "    154 205 253 298 334\n",
    "    139 190 225 267 302\n",
    "    146 191 229 272 302\n",
    "    157 211 250 285 323\n",
    "    132 185 237 286 331\n",
    "    160 207 257 303 345\n",
    "    169 216 261 295 333\n",
    "    157 205 248 289 316\n",
    "    137 180 219 258 291\n",
    "    153 200 244 286 324\n",
    "]\n",
    "\n",
    "# parameters\n",
    "alpha = [250, 250, 250, 250, 250, 250, 250, 250, 250, 250, 250, 250, 250, 250, 250, 250, 250, 250, 250, 250, 250, 250, 250, 250, 250, 250, 250, 250, 250, 250]\n",
    "beta = [6, 6, 6, 6, 6, 6, 6, 6, 6, 6, 6, 6, 6, 6, 6, 6, 6, 6, 6, 6, 6, 6, 6, 6, 6, 6, 6, 6, 6, 6]\n",
    "alpha_c = 150\n",
    "beta_c = 10\n",
    "tau_c = 1\n",
    "alpha_tau = 1\n",
    "beta_tau = 1;"
   ]
  },
  {
   "cell_type": "markdown",
   "id": "208f7cba-2934-44bb-8a6c-9ddf345134e6",
   "metadata": {},
   "source": [
    "# With [DynamicHMC.jl](https://github.com/tpapp/DynamicHMC.jl)"
   ]
  },
  {
   "cell_type": "code",
   "execution_count": 3,
   "id": "cca09024-f47b-4c35-bef3-1b99022b494d",
   "metadata": {},
   "outputs": [],
   "source": [
    "using LogDensityProblems\n",
    "using UnPack\n",
    "using Distributions\n",
    "\n",
    "# also defined in JuliaBUGS.jl\n",
    "dnorm(μ, τ) = Normal(μ, 1 / sqrt(τ))\n",
    "dgamma(a, b) = Gamma(a, 1 / b) \n",
    "\n",
    "struct Rats\n",
    "    x\n",
    "    xbar\n",
    "    Y\n",
    "    N::Int\n",
    "    T::Int\n",
    "end\n",
    "\n",
    "function (problem::Rats)(vars) where T\n",
    "    @unpack x, xbar, Y, N, T = problem\n",
    "    @unpack alpha, beta, tau_c, alpha_c, alpha_tau, beta_c, beta_tau = vars\n",
    "\n",
    "    # to work with AutoDiff, mutation is generally not permitted\n",
    "    # in this example, we can just directly plug in the definition of `mu[i, j]` into the location it's used\n",
    "    \n",
    "    # use a generic type to work with autodiff\n",
    "    # mu = Array{T}(undef, N, T)\n",
    "    # for \n",
    "    \n",
    "    loglikelihood = 0.0\n",
    "    for i in 1:N\n",
    "        for j in 1:T\n",
    "            loglikelihood += logpdf(dnorm(alpha[i] + beta[i] * (x[j] - xbar), tau_c), Y[i, j])\n",
    "        end\n",
    "    end\n",
    "    for i in 1:N\n",
    "        loglikelihood += logpdf(dnorm(alpha_c, alpha_tau), alpha[i])\n",
    "        loglikelihood += logpdf(dnorm(beta_c, beta_tau), beta[i])\n",
    "    end\n",
    "\n",
    "    loglikelihood += logpdf(dgamma(0.001, 0.001), tau_c)\n",
    "    loglikelihood += logpdf(dnorm(0.0, 1.0E-6), alpha_c)\n",
    "    loglikelihood += logpdf(dgamma(0.001, 0.001), alpha_tau)\n",
    "    loglikelihood += logpdf(dnorm(0.0, 1.0E-6), beta_c)\n",
    "    loglikelihood += logpdf(dgamma(0.001, 0.001), beta_tau)\n",
    "    return loglikelihood\n",
    "end\n",
    "\n",
    "function LogDensityProblems.logdensity(p::Rats, vars)\n",
    "    return p(vars)\n",
    "end\n",
    "\n",
    "function LogDensityProblems.capabilities(::Type{<:Rats})\n",
    "    return LogDensityProblems.LogDensityOrder{1}()\n",
    "end\n",
    "\n",
    "function LogDensityProblems.dimension(p::Rats)\n",
    "    @unpack x, xbar, Y, N, T = p\n",
    "    return N + N + 1 + 1 + 1 + 1 + 1\n",
    "end"
   ]
  },
  {
   "cell_type": "code",
   "execution_count": 4,
   "id": "80129ccd-2fa2-41e7-962f-12d1dded932a",
   "metadata": {},
   "outputs": [
    {
     "data": {
      "text/plain": [
       "-174029.38703951906"
      ]
     },
     "execution_count": 4,
     "metadata": {},
     "output_type": "execute_result"
    }
   ],
   "source": [
    "p = Rats(x, xbar, Y, N, T)\n",
    "p((alpha = alpha, beta = beta, tau_c = tau_c, alpha_c = alpha_c, alpha_tau = alpha_tau, beta_c = beta_c, beta_tau = beta_tau))"
   ]
  },
  {
   "cell_type": "code",
   "execution_count": 5,
   "id": "7bfe92de-0f62-438d-ace6-4eac7d315ac1",
   "metadata": {},
   "outputs": [
    {
     "data": {
      "text/plain": [
       "TransformedLogDensity of dimension 65"
      ]
     },
     "execution_count": 5,
     "metadata": {},
     "output_type": "execute_result"
    }
   ],
   "source": [
    "using TransformVariables, TransformedLogDensities\n",
    "t = as((alpha = as(Array, N), beta = as(Array, N), tau_c = asℝ₊, alpha_c = asℝ, alpha_tau = asℝ₊, beta_c = asℝ, beta_tau = asℝ₊))\n",
    "t_p = TransformedLogDensity(t, p)"
   ]
  },
  {
   "cell_type": "code",
   "execution_count": 6,
   "id": "23885290-7a39-4159-8265-5cdc720e970f",
   "metadata": {},
   "outputs": [
    {
     "data": {
      "text/plain": [
       "ForwardDiff AD wrapper for TransformedLogDensity of dimension 65, w/ chunk size 11"
      ]
     },
     "execution_count": 6,
     "metadata": {},
     "output_type": "execute_result"
    }
   ],
   "source": [
    "using LogDensityProblemsAD, DynamicHMC, Random, ForwardDiff\n",
    "∇P = ADgradient(:ForwardDiff, t_p)"
   ]
  },
  {
   "cell_type": "code",
   "execution_count": 7,
   "id": "e3e6cf4f-abc3-4a13-a8a5-3af538e34617",
   "metadata": {},
   "outputs": [
    {
     "name": "stderr",
     "output_type": "stream",
     "text": [
      "\u001b[36m\u001b[1m┌ \u001b[22m\u001b[39m\u001b[36m\u001b[1mInfo: \u001b[22m\u001b[39mfound initial stepsize\n",
      "\u001b[36m\u001b[1m└ \u001b[22m\u001b[39m  ϵ = 0.00109\n",
      "\u001b[36m\u001b[1m┌ \u001b[22m\u001b[39m\u001b[36m\u001b[1mInfo: \u001b[22m\u001b[39mStarting MCMC\n",
      "\u001b[36m\u001b[1m│ \u001b[22m\u001b[39m  total_steps = 75\n",
      "\u001b[36m\u001b[1m└ \u001b[22m\u001b[39m  tuning = \"stepsize\"\n",
      "\u001b[36m\u001b[1m┌ \u001b[22m\u001b[39m\u001b[36m\u001b[1mInfo: \u001b[22m\u001b[39mMCMC progress\n",
      "\u001b[36m\u001b[1m│ \u001b[22m\u001b[39m  step = 1\n",
      "\u001b[36m\u001b[1m│ \u001b[22m\u001b[39m  seconds_per_step = 0.00015\n",
      "\u001b[36m\u001b[1m│ \u001b[22m\u001b[39m  estimated_seconds_left = 0.011\n",
      "\u001b[36m\u001b[1m└ \u001b[22m\u001b[39m  ϵ = 0.00109\n",
      "\u001b[36m\u001b[1m┌ \u001b[22m\u001b[39m\u001b[36m\u001b[1mInfo: \u001b[22m\u001b[39mStarting MCMC\n",
      "\u001b[36m\u001b[1m│ \u001b[22m\u001b[39m  total_steps = 25\n",
      "\u001b[36m\u001b[1m└ \u001b[22m\u001b[39m  tuning = \"stepsize and LinearAlgebra.Diagonal metric\"\n",
      "\u001b[36m\u001b[1m┌ \u001b[22m\u001b[39m\u001b[36m\u001b[1mInfo: \u001b[22m\u001b[39mMCMC progress\n",
      "\u001b[36m\u001b[1m│ \u001b[22m\u001b[39m  step = 1\n",
      "\u001b[36m\u001b[1m│ \u001b[22m\u001b[39m  seconds_per_step = 0.0095\n",
      "\u001b[36m\u001b[1m│ \u001b[22m\u001b[39m  estimated_seconds_left = 0.23\n",
      "\u001b[36m\u001b[1m└ \u001b[22m\u001b[39m  ϵ = 0.065\n",
      "\u001b[36m\u001b[1m┌ \u001b[22m\u001b[39m\u001b[36m\u001b[1mInfo: \u001b[22m\u001b[39madaptation finished\n",
      "\u001b[36m\u001b[1m└ \u001b[22m\u001b[39m  adapted_kinetic_energy = Gaussian kinetic energy (Diagonal), √diag(M⁻¹): [2.3233698871081883, 2.4255077709202824, 2.3544386007576756, 2.831032582506418, 2.4763623051379544, 2.371563618312679, 2.5289685484190922, 2.4763450917542733, 2.524688304600675, 2.638105680162583, 2.4346864372628763, 2.2454162196892082, 3.66784588028249, 2.1681529222536895, 2.82593649215244, 2.8811110061016514, 2.7966416714315883, 3.3350049662534134, 2.392341803624307, 3.2110903239461512, 2.753840414869379, 2.2629305433695617, 2.3560138226010623, 2.5731853494061045, 2.177542071228576, 2.1320306782692224, 3.2688613314023165, 3.1671502970617027, 2.208224598774122, 2.1432734138168206, 0.9870385681352954, 1.0931800373311702, 1.0205138968273297, 1.0432104986359267, 0.9402174374567538, 1.0235704383593562, 1.0038143652372153, 0.9650325101841949, 0.9971784530947683, 1.0175207047777726, 0.9848013840479416, 1.0916098032146808, 0.9754610887466831, 0.9805657906104148, 1.0133631681121167, 1.006063540022034, 1.0255984800962394, 0.9889013780923952, 1.0737255874211136, 1.0189663607944686, 0.9628931188805889, 0.9853315445137307, 1.0756606451537198, 0.9682407929189982, 0.9959083422393834, 0.965131740511618, 1.018074098019728, 0.9805818439572527, 1.0295763056401728, 1.0408266816768637, 0.520808208031817, 2.1098363361178976, 1.3402107875355567, 0.9961283853033258, 0.7893056922288493]\n",
      "\u001b[36m\u001b[1m┌ \u001b[22m\u001b[39m\u001b[36m\u001b[1mInfo: \u001b[22m\u001b[39mStarting MCMC\n",
      "\u001b[36m\u001b[1m│ \u001b[22m\u001b[39m  total_steps = 50\n",
      "\u001b[36m\u001b[1m└ \u001b[22m\u001b[39m  tuning = \"stepsize and LinearAlgebra.Diagonal metric\"\n",
      "\u001b[36m\u001b[1m┌ \u001b[22m\u001b[39m\u001b[36m\u001b[1mInfo: \u001b[22m\u001b[39mMCMC progress\n",
      "\u001b[36m\u001b[1m│ \u001b[22m\u001b[39m  step = 1\n",
      "\u001b[36m\u001b[1m│ \u001b[22m\u001b[39m  seconds_per_step = 0.023\n",
      "\u001b[36m\u001b[1m│ \u001b[22m\u001b[39m  estimated_seconds_left = 1.1\n",
      "\u001b[36m\u001b[1m└ \u001b[22m\u001b[39m  ϵ = 0.0221\n",
      "\u001b[36m\u001b[1m┌ \u001b[22m\u001b[39m\u001b[36m\u001b[1mInfo: \u001b[22m\u001b[39madaptation finished\n",
      "\u001b[36m\u001b[1m└ \u001b[22m\u001b[39m  adapted_kinetic_energy = Gaussian kinetic energy (Diagonal), √diag(M⁻¹): [36.856877842187494, 38.42654912731835, 39.33343917563359, 39.09085611947653, 38.63762376566844, 37.862409486339665, 38.256449265285404, 38.492015269756706, 37.654626750147926, 38.21890823921577, 39.25039698506246, 36.20446305644006, 38.052164080300074, 38.73820695976612, 38.604460853103, 38.48823688402631, 39.001965253203515, 37.65215983888108, 38.35662682071799, 37.67531516781816, 38.374598958805954, 38.3441017658262, 38.22635477703098, 38.723825072239755, 37.78086331960819, 37.94800898369972, 37.42170554105215, 38.88833836221967, 38.74776078763641, 38.56110315272729, 1.1019321986078805, 1.073871915317004, 1.0748305797058937, 1.0663769086839419, 1.0931001318555422, 1.0758105042317117, 1.0765054190929417, 1.0839742626228035, 1.0544943803043376, 1.0764039676268387, 1.074780285113241, 1.0596522843054583, 1.0605102868116298, 1.0768683744458574, 1.0719134454556047, 1.078390283554439, 1.0736222953012675, 1.0664712748620693, 1.0700872854653265, 1.0809624746968582, 1.0870264923499653, 1.090474034096034, 1.067314319996614, 1.0746397994435264, 1.057572094865078, 1.0947558730219658, 1.0693457704205536, 1.1026523499644785, 1.1015628443818726, 1.0810993733294045, 0.5695220028367705, 37.9677659199289, 1.1492562070306716, 1.0734797148629607, 0.9205340074826502]\n",
      "\u001b[36m\u001b[1m┌ \u001b[22m\u001b[39m\u001b[36m\u001b[1mInfo: \u001b[22m\u001b[39mStarting MCMC\n",
      "\u001b[36m\u001b[1m│ \u001b[22m\u001b[39m  total_steps = 100\n",
      "\u001b[36m\u001b[1m└ \u001b[22m\u001b[39m  tuning = \"stepsize and LinearAlgebra.Diagonal metric\"\n",
      "\u001b[36m\u001b[1m┌ \u001b[22m\u001b[39m\u001b[36m\u001b[1mInfo: \u001b[22m\u001b[39mMCMC progress\n",
      "\u001b[36m\u001b[1m│ \u001b[22m\u001b[39m  step = 1\n",
      "\u001b[36m\u001b[1m│ \u001b[22m\u001b[39m  seconds_per_step = 0.00028\n",
      "\u001b[36m\u001b[1m│ \u001b[22m\u001b[39m  estimated_seconds_left = 0.028\n",
      "\u001b[36m\u001b[1m└ \u001b[22m\u001b[39m  ϵ = 0.0125\n",
      "\u001b[36m\u001b[1m┌ \u001b[22m\u001b[39m\u001b[36m\u001b[1mInfo: \u001b[22m\u001b[39madaptation finished\n",
      "\u001b[36m\u001b[1m└ \u001b[22m\u001b[39m  adapted_kinetic_energy = Gaussian kinetic energy (Diagonal), √diag(M⁻¹): [27.348298869842015, 31.036272456428314, 31.787940207760723, 25.091347345957278, 25.877786199096562, 30.959684836729966, 23.31130552699178, 30.79715779744381, 43.296662874707145, 21.342157016431354, 33.99694667577158, 24.88535372608586, 29.27951528745897, 36.90725345421427, 29.10053580212554, 29.898824758684107, 25.705807704166144, 26.761014397368672, 32.416821510384125, 29.136162347971148, 30.90782840891507, 22.561836114781745, 24.212894470906612, 29.484431954066675, 26.213211407997974, 32.11935386010528, 32.87691892927461, 28.60094080932394, 21.576453361657776, 27.42099126088374, 0.3800313721504667, 0.4033870871335812, 0.35897291386885605, 0.43694283525336314, 0.36818783164552216, 0.35284678339866765, 0.3635292513324226, 0.348684191533874, 0.4046324854861896, 0.3796832154548295, 0.38989133349145094, 0.3561589850460359, 0.3529094936495222, 0.35895179324854093, 0.44081781850517116, 0.37389734891833715, 0.34629730162873545, 0.3836328874001628, 0.34555088323359484, 0.3639525070741192, 0.35600306464240067, 0.37883670516712326, 0.3898773100107034, 0.37993011339309185, 0.38732353395110497, 0.3565985470161588, 0.39837825103805885, 0.3771807075811328, 0.4008324389522278, 0.36423650530888896, 1.8041982492497004, 28.7220608018004, 0.7050426525832619, 0.3414148565232894, 1.3185245570907795]\n",
      "\u001b[36m\u001b[1m┌ \u001b[22m\u001b[39m\u001b[36m\u001b[1mInfo: \u001b[22m\u001b[39mStarting MCMC\n",
      "\u001b[36m\u001b[1m│ \u001b[22m\u001b[39m  total_steps = 200\n",
      "\u001b[36m\u001b[1m└ \u001b[22m\u001b[39m  tuning = \"stepsize and LinearAlgebra.Diagonal metric\"\n",
      "\u001b[36m\u001b[1m┌ \u001b[22m\u001b[39m\u001b[36m\u001b[1mInfo: \u001b[22m\u001b[39mMCMC progress\n",
      "\u001b[36m\u001b[1m│ \u001b[22m\u001b[39m  step = 1\n",
      "\u001b[36m\u001b[1m│ \u001b[22m\u001b[39m  seconds_per_step = 0.019\n",
      "\u001b[36m\u001b[1m│ \u001b[22m\u001b[39m  estimated_seconds_left = 3.9\n",
      "\u001b[36m\u001b[1m└ \u001b[22m\u001b[39m  ϵ = 0.0236\n",
      "\u001b[36m\u001b[1m┌ \u001b[22m\u001b[39m\u001b[36m\u001b[1mInfo: \u001b[22m\u001b[39mMCMC progress\n",
      "\u001b[36m\u001b[1m│ \u001b[22m\u001b[39m  step = 101\n",
      "\u001b[36m\u001b[1m│ \u001b[22m\u001b[39m  seconds_per_step = 0.02\n",
      "\u001b[36m\u001b[1m│ \u001b[22m\u001b[39m  estimated_seconds_left = 2.0\n",
      "\u001b[36m\u001b[1m└ \u001b[22m\u001b[39m  ϵ = 0.0814\n",
      "\u001b[36m\u001b[1m┌ \u001b[22m\u001b[39m\u001b[36m\u001b[1mInfo: \u001b[22m\u001b[39madaptation finished\n",
      "\u001b[36m\u001b[1m└ \u001b[22m\u001b[39m  adapted_kinetic_energy = Gaussian kinetic energy (Diagonal), √diag(M⁻¹): [2.743552014054076, 2.56738117984173, 2.8407247731586263, 2.7416486163434985, 2.7118267272549357, 2.8041915944136635, 2.6221256610966495, 2.817827533228024, 2.464074755147545, 2.8576695218663253, 2.875928193648288, 2.7925193532604995, 2.4357175706779386, 2.6086149577274385, 2.611310519955136, 2.9584337234441422, 2.8877127657820956, 2.918329774166792, 2.3529325921540503, 2.946124892719656, 2.8609357633052337, 2.615201890600586, 2.6481771079070033, 2.9680110694033335, 2.550182537597942, 2.609498390878052, 2.92690733283378, 2.2913965652772954, 2.3851284928195278, 2.751390700949865, 0.2429531289965392, 0.26104360993500614, 0.22317216144572782, 0.272086088111817, 0.2513175663171541, 0.22773394970361152, 0.25578367674246444, 0.24645550486019904, 0.265975323599239, 0.26127095553381824, 0.26747315405966693, 0.2364594337279383, 0.2524395023522908, 0.24905533992943676, 0.23669176924943974, 0.2441286800861454, 0.24808015962310656, 0.237912843833705, 0.22777721560069908, 0.2426225791540203, 0.22207296289927103, 0.2221372895991907, 0.2299554834228649, 0.2374188474858885, 0.26096558106655615, 0.25867181425555935, 0.22291355430358537, 0.25370332737663787, 0.28436045669241317, 0.2539779440852893, 0.1539198115812604, 2.5523615641661044, 0.2571010521681665, 0.11041890791676187, 0.3670858025971105]\n",
      "\u001b[36m\u001b[1m┌ \u001b[22m\u001b[39m\u001b[36m\u001b[1mInfo: \u001b[22m\u001b[39mStarting MCMC\n",
      "\u001b[36m\u001b[1m│ \u001b[22m\u001b[39m  total_steps = 400\n",
      "\u001b[36m\u001b[1m└ \u001b[22m\u001b[39m  tuning = \"stepsize and LinearAlgebra.Diagonal metric\"\n",
      "\u001b[36m\u001b[1m┌ \u001b[22m\u001b[39m\u001b[36m\u001b[1mInfo: \u001b[22m\u001b[39mMCMC progress\n",
      "\u001b[36m\u001b[1m│ \u001b[22m\u001b[39m  step = 1\n",
      "\u001b[36m\u001b[1m│ \u001b[22m\u001b[39m  seconds_per_step = 0.0093\n",
      "\u001b[36m\u001b[1m│ \u001b[22m\u001b[39m  estimated_seconds_left = 3.7\n",
      "\u001b[36m\u001b[1m└ \u001b[22m\u001b[39m  ϵ = 0.0548\n",
      "\u001b[36m\u001b[1m┌ \u001b[22m\u001b[39m\u001b[36m\u001b[1mInfo: \u001b[22m\u001b[39mMCMC progress\n",
      "\u001b[36m\u001b[1m│ \u001b[22m\u001b[39m  step = 101\n",
      "\u001b[36m\u001b[1m│ \u001b[22m\u001b[39m  seconds_per_step = 0.0037\n",
      "\u001b[36m\u001b[1m│ \u001b[22m\u001b[39m  estimated_seconds_left = 1.1\n",
      "\u001b[36m\u001b[1m└ \u001b[22m\u001b[39m  ϵ = 0.336\n",
      "\u001b[36m\u001b[1m┌ \u001b[22m\u001b[39m\u001b[36m\u001b[1mInfo: \u001b[22m\u001b[39mMCMC progress\n",
      "\u001b[36m\u001b[1m│ \u001b[22m\u001b[39m  step = 201\n",
      "\u001b[36m\u001b[1m│ \u001b[22m\u001b[39m  seconds_per_step = 0.0029\n",
      "\u001b[36m\u001b[1m│ \u001b[22m\u001b[39m  estimated_seconds_left = 0.58\n",
      "\u001b[36m\u001b[1m└ \u001b[22m\u001b[39m  ϵ = 0.633\n",
      "\u001b[36m\u001b[1m┌ \u001b[22m\u001b[39m\u001b[36m\u001b[1mInfo: \u001b[22m\u001b[39mMCMC progress\n",
      "\u001b[36m\u001b[1m│ \u001b[22m\u001b[39m  step = 301\n",
      "\u001b[36m\u001b[1m│ \u001b[22m\u001b[39m  seconds_per_step = 0.003\n",
      "\u001b[36m\u001b[1m│ \u001b[22m\u001b[39m  estimated_seconds_left = 0.3\n",
      "\u001b[36m\u001b[1m└ \u001b[22m\u001b[39m  ϵ = 0.507\n",
      "\u001b[36m\u001b[1m┌ \u001b[22m\u001b[39m\u001b[36m\u001b[1mInfo: \u001b[22m\u001b[39madaptation finished\n",
      "\u001b[36m\u001b[1m└ \u001b[22m\u001b[39m  adapted_kinetic_energy = Gaussian kinetic energy (Diagonal), √diag(M⁻¹): [2.5328388294783655, 2.703559947115042, 2.5641902277869177, 2.855335851975172, 2.611702374042807, 2.587668669735867, 2.721961800026326, 2.4480976766823175, 2.8545720345927053, 2.457593463327063, 2.6592850561760053, 2.5737665921827024, 2.622738579151415, 2.9099790877297407, 2.385771786339345, 2.8126992119260827, 2.633280235288959, 2.5767381831230405, 2.734561025346715, 2.6496138112897274, 2.4816632874277644, 2.6542331614626815, 2.710416664017405, 2.6780162298011163, 2.605582902644135, 2.8338022504267877, 2.7430738739914666, 2.566751556383714, 2.7009758230962206, 2.6472637012643268, 0.21271830110975518, 0.2619836468356925, 0.247973867003561, 0.24663115265890326, 0.24016212720217633, 0.2423248604498533, 0.25325071295701734, 0.25171914727651384, 0.2418839240209438, 0.23455424370698036, 0.2518521232005522, 0.2686979324845332, 0.22162498915011067, 0.24978282512733846, 0.23772140852865545, 0.26495539176357846, 0.2845363558017991, 0.21106526493908565, 0.25156133259867186, 0.2501005681174185, 0.22590549898458884, 0.25437989386632315, 0.2499484848898395, 0.2601170294269567, 0.2564294351703532, 0.22435978028825984, 0.23718212636810415, 0.2313376310572642, 0.24797541661769915, 0.24691996477767184, 0.1555256815244212, 2.67131632020275, 0.2580686641512293, 0.11227943061462464, 0.33783035153580054]\n",
      "\u001b[36m\u001b[1m┌ \u001b[22m\u001b[39m\u001b[36m\u001b[1mInfo: \u001b[22m\u001b[39mStarting MCMC\n",
      "\u001b[36m\u001b[1m│ \u001b[22m\u001b[39m  total_steps = 50\n",
      "\u001b[36m\u001b[1m└ \u001b[22m\u001b[39m  tuning = \"stepsize\"\n",
      "\u001b[36m\u001b[1m┌ \u001b[22m\u001b[39m\u001b[36m\u001b[1mInfo: \u001b[22m\u001b[39mMCMC progress\n",
      "\u001b[36m\u001b[1m│ \u001b[22m\u001b[39m  step = 1\n",
      "\u001b[36m\u001b[1m│ \u001b[22m\u001b[39m  seconds_per_step = 0.00081\n",
      "\u001b[36m\u001b[1m│ \u001b[22m\u001b[39m  estimated_seconds_left = 0.04\n",
      "\u001b[36m\u001b[1m└ \u001b[22m\u001b[39m  ϵ = 0.49\n",
      "\u001b[36m\u001b[1m┌ \u001b[22m\u001b[39m\u001b[36m\u001b[1mInfo: \u001b[22m\u001b[39mStarting MCMC\n",
      "\u001b[36m\u001b[1m└ \u001b[22m\u001b[39m  total_steps = 1000\n",
      "\u001b[36m\u001b[1m┌ \u001b[22m\u001b[39m\u001b[36m\u001b[1mInfo: \u001b[22m\u001b[39mMCMC progress\n",
      "\u001b[36m\u001b[1m│ \u001b[22m\u001b[39m  step = 1\n",
      "\u001b[36m\u001b[1m│ \u001b[22m\u001b[39m  seconds_per_step = 0.0015\n",
      "\u001b[36m\u001b[1m└ \u001b[22m\u001b[39m  estimated_seconds_left = 1.5\n",
      "\u001b[36m\u001b[1m┌ \u001b[22m\u001b[39m\u001b[36m\u001b[1mInfo: \u001b[22m\u001b[39mMCMC progress\n",
      "\u001b[36m\u001b[1m│ \u001b[22m\u001b[39m  step = 101\n",
      "\u001b[36m\u001b[1m│ \u001b[22m\u001b[39m  seconds_per_step = 0.004\n",
      "\u001b[36m\u001b[1m└ \u001b[22m\u001b[39m  estimated_seconds_left = 3.6\n",
      "\u001b[36m\u001b[1m┌ \u001b[22m\u001b[39m\u001b[36m\u001b[1mInfo: \u001b[22m\u001b[39mMCMC progress\n",
      "\u001b[36m\u001b[1m│ \u001b[22m\u001b[39m  step = 201\n",
      "\u001b[36m\u001b[1m│ \u001b[22m\u001b[39m  seconds_per_step = 0.0028\n",
      "\u001b[36m\u001b[1m└ \u001b[22m\u001b[39m  estimated_seconds_left = 2.3\n",
      "\u001b[36m\u001b[1m┌ \u001b[22m\u001b[39m\u001b[36m\u001b[1mInfo: \u001b[22m\u001b[39mMCMC progress\n",
      "\u001b[36m\u001b[1m│ \u001b[22m\u001b[39m  step = 301\n",
      "\u001b[36m\u001b[1m│ \u001b[22m\u001b[39m  seconds_per_step = 0.003\n",
      "\u001b[36m\u001b[1m└ \u001b[22m\u001b[39m  estimated_seconds_left = 2.1\n",
      "\u001b[36m\u001b[1m┌ \u001b[22m\u001b[39m\u001b[36m\u001b[1mInfo: \u001b[22m\u001b[39mMCMC progress\n",
      "\u001b[36m\u001b[1m│ \u001b[22m\u001b[39m  step = 401\n",
      "\u001b[36m\u001b[1m│ \u001b[22m\u001b[39m  seconds_per_step = 0.003\n",
      "\u001b[36m\u001b[1m└ \u001b[22m\u001b[39m  estimated_seconds_left = 1.8\n",
      "\u001b[36m\u001b[1m┌ \u001b[22m\u001b[39m\u001b[36m\u001b[1mInfo: \u001b[22m\u001b[39mMCMC progress\n",
      "\u001b[36m\u001b[1m│ \u001b[22m\u001b[39m  step = 501\n",
      "\u001b[36m\u001b[1m│ \u001b[22m\u001b[39m  seconds_per_step = 0.0029\n",
      "\u001b[36m\u001b[1m└ \u001b[22m\u001b[39m  estimated_seconds_left = 1.4\n",
      "\u001b[36m\u001b[1m┌ \u001b[22m\u001b[39m\u001b[36m\u001b[1mInfo: \u001b[22m\u001b[39mMCMC progress\n",
      "\u001b[36m\u001b[1m│ \u001b[22m\u001b[39m  step = 601\n",
      "\u001b[36m\u001b[1m│ \u001b[22m\u001b[39m  seconds_per_step = 0.003\n",
      "\u001b[36m\u001b[1m└ \u001b[22m\u001b[39m  estimated_seconds_left = 1.2\n",
      "\u001b[36m\u001b[1m┌ \u001b[22m\u001b[39m\u001b[36m\u001b[1mInfo: \u001b[22m\u001b[39mMCMC progress\n",
      "\u001b[36m\u001b[1m│ \u001b[22m\u001b[39m  step = 701\n",
      "\u001b[36m\u001b[1m│ \u001b[22m\u001b[39m  seconds_per_step = 0.003\n",
      "\u001b[36m\u001b[1m└ \u001b[22m\u001b[39m  estimated_seconds_left = 0.89\n",
      "\u001b[36m\u001b[1m┌ \u001b[22m\u001b[39m\u001b[36m\u001b[1mInfo: \u001b[22m\u001b[39mMCMC progress\n",
      "\u001b[36m\u001b[1m│ \u001b[22m\u001b[39m  step = 801\n",
      "\u001b[36m\u001b[1m│ \u001b[22m\u001b[39m  seconds_per_step = 0.0029\n",
      "\u001b[36m\u001b[1m└ \u001b[22m\u001b[39m  estimated_seconds_left = 0.58\n",
      "\u001b[36m\u001b[1m┌ \u001b[22m\u001b[39m\u001b[36m\u001b[1mInfo: \u001b[22m\u001b[39mMCMC progress\n",
      "\u001b[36m\u001b[1m│ \u001b[22m\u001b[39m  step = 901\n",
      "\u001b[36m\u001b[1m│ \u001b[22m\u001b[39m  seconds_per_step = 0.0029\n",
      "\u001b[36m\u001b[1m└ \u001b[22m\u001b[39m  estimated_seconds_left = 0.29\n"
     ]
    },
    {
     "data": {
      "text/plain": [
       "(posterior_matrix = [238.44407429975195 242.6212407617335 … 236.5866271334809 243.27796123228828; 250.09335493426138 245.52038017144892 … 246.84213994991177 249.70372486549536; … ; 6.077205116215211 6.315714535301308 … 6.574726920529297 5.980162812854794; 1.3007235867026974 1.5147341927170215 … 1.0828635651831215 0.8322064832374239], tree_statistics = DynamicHMC.TreeStatisticsNUTS[DynamicHMC.TreeStatisticsNUTS(-701.7173745707504, 4, turning at positions -7:8, 0.9943259211696959, 15, DynamicHMC.Directions(0x28b58cb8)), DynamicHMC.TreeStatisticsNUTS(-700.6840031369202, 4, turning at positions -2:13, 0.9805912570695371, 15, DynamicHMC.Directions(0xda3212cd)), DynamicHMC.TreeStatisticsNUTS(-695.6568230845644, 4, turning at positions -11:4, 0.9965307002661611, 15, DynamicHMC.Directions(0x5470c1c4)), DynamicHMC.TreeStatisticsNUTS(-703.305792461409, 3, turning at positions -7:0, 0.7927113286056706, 7, DynamicHMC.Directions(0x7bc2eb78)), DynamicHMC.TreeStatisticsNUTS(-699.7386620221265, 4, turning at positions -10:5, 0.8253903330551702, 15, DynamicHMC.Directions(0x0f3ea235)), DynamicHMC.TreeStatisticsNUTS(-695.7797262607235, 3, turning at positions -1:-8, 0.9127361645007553, 15, DynamicHMC.Directions(0x2bd78a17)), DynamicHMC.TreeStatisticsNUTS(-694.8402849819081, 3, turning at positions -1:6, 0.9328236630107269, 7, DynamicHMC.Directions(0x7be8794e)), DynamicHMC.TreeStatisticsNUTS(-696.5246297009849, 4, turning at positions -12:3, 0.6984832908893799, 15, DynamicHMC.Directions(0x25e62153)), DynamicHMC.TreeStatisticsNUTS(-694.9599586413669, 3, turning at positions -4:3, 0.9681576515914745, 7, DynamicHMC.Directions(0x271b3b6b)), DynamicHMC.TreeStatisticsNUTS(-685.8929801947152, 3, turning at positions 6:13, 0.7936603498723477, 15, DynamicHMC.Directions(0x83dd658d))  …  DynamicHMC.TreeStatisticsNUTS(-697.3474720836468, 3, turning at positions -1:6, 0.9969712329037884, 7, DynamicHMC.Directions(0x61b414ee)), DynamicHMC.TreeStatisticsNUTS(-687.5085196633578, 4, turning at positions -4:11, 0.9479130686454997, 15, DynamicHMC.Directions(0x3685f8fb)), DynamicHMC.TreeStatisticsNUTS(-685.7621183772728, 4, turning at positions -4:11, 0.9980770201757719, 15, DynamicHMC.Directions(0x98a1b44b)), DynamicHMC.TreeStatisticsNUTS(-692.5040061777918, 4, turning at positions -11:4, 0.9063390013726054, 15, DynamicHMC.Directions(0xa74e8c34)), DynamicHMC.TreeStatisticsNUTS(-696.3458383100585, 3, turning at positions -7:0, 0.6523975771559358, 7, DynamicHMC.Directions(0x72e3c770)), DynamicHMC.TreeStatisticsNUTS(-708.9856544026064, 4, turning at positions -12:3, 0.9785209715563702, 15, DynamicHMC.Directions(0xd285c883)), DynamicHMC.TreeStatisticsNUTS(-704.185665339849, 3, turning at positions -2:-9, 0.9632221322292863, 15, DynamicHMC.Directions(0xf95ea6f6)), DynamicHMC.TreeStatisticsNUTS(-695.8368909323542, 4, turning at positions -14:1, 0.9267043416148244, 15, DynamicHMC.Directions(0xd1c3abc1)), DynamicHMC.TreeStatisticsNUTS(-692.2498695673689, 3, turning at positions -3:4, 0.9098032338742829, 7, DynamicHMC.Directions(0xdddff9fc)), DynamicHMC.TreeStatisticsNUTS(-693.4111167954151, 3, turning at positions -7:0, 0.9999999999999999, 7, DynamicHMC.Directions(0x98ec1a18))], κ = Gaussian kinetic energy (Diagonal), √diag(M⁻¹): [2.5328388294783655, 2.703559947115042, 2.5641902277869177, 2.855335851975172, 2.611702374042807, 2.587668669735867, 2.721961800026326, 2.4480976766823175, 2.8545720345927053, 2.457593463327063, 2.6592850561760053, 2.5737665921827024, 2.622738579151415, 2.9099790877297407, 2.385771786339345, 2.8126992119260827, 2.633280235288959, 2.5767381831230405, 2.734561025346715, 2.6496138112897274, 2.4816632874277644, 2.6542331614626815, 2.710416664017405, 2.6780162298011163, 2.605582902644135, 2.8338022504267877, 2.7430738739914666, 2.566751556383714, 2.7009758230962206, 2.6472637012643268, 0.21271830110975518, 0.2619836468356925, 0.247973867003561, 0.24663115265890326, 0.24016212720217633, 0.2423248604498533, 0.25325071295701734, 0.25171914727651384, 0.2418839240209438, 0.23455424370698036, 0.2518521232005522, 0.2686979324845332, 0.22162498915011067, 0.24978282512733846, 0.23772140852865545, 0.26495539176357846, 0.2845363558017991, 0.21106526493908565, 0.25156133259867186, 0.2501005681174185, 0.22590549898458884, 0.25437989386632315, 0.2499484848898395, 0.2601170294269567, 0.2564294351703532, 0.22435978028825984, 0.23718212636810415, 0.2313376310572642, 0.24797541661769915, 0.24691996477767184, 0.1555256815244212, 2.67131632020275, 0.2580686641512293, 0.11227943061462464, 0.33783035153580054], ϵ = 0.40932634251136324)"
      ]
     },
     "execution_count": 7,
     "metadata": {},
     "output_type": "execute_result"
    }
   ],
   "source": [
    "inits = (alpha = alpha, beta = beta, tau_c = tau_c, alpha_c = alpha_c, alpha_tau = alpha_tau, beta_c = beta_c, beta_tau = beta_tau)\n",
    "results = mcmc_with_warmup(Random.GLOBAL_RNG, ∇P, 1000)"
   ]
  },
  {
   "cell_type": "code",
   "execution_count": 8,
   "id": "79281717-5e63-4be5-be95-48821cef6b1a",
   "metadata": {},
   "outputs": [
    {
     "data": {
      "text/plain": [
       "(6.18661959917047, 0.11262144510881046)"
      ]
     },
     "execution_count": 8,
     "metadata": {},
     "output_type": "execute_result"
    }
   ],
   "source": [
    "# check the posterior of variable `beta_c`\n",
    "transformed_results = transform.(t, eachcol(results.posterior_matrix))\n",
    "beta_c_samples = [transformed_results[s][:beta_c] for s in 1:length(transformed_results)]\n",
    "stats = mean(beta_c_samples), std(beta_c_samples) # reference results: mean 6.186, variance 0.1088"
   ]
  },
  {
   "cell_type": "markdown",
   "id": "2c36d8dd-d270-4d76-af5e-32fc388b4294",
   "metadata": {},
   "source": [
    "# With [AdvancedHMC.jl](https://github.com/TuringLang/AdvancedHMC.jl)"
   ]
  },
  {
   "cell_type": "markdown",
   "id": "c0af4801-0720-41a8-b933-a774e92263df",
   "metadata": {},
   "source": [
    "HMC needs parameters to be unconfined, the second argument of function `dnorm` is required to be positive. We can use the package [`Bijectors.jl`](https://github.com/TuringLang/Bijectors.jl)."
   ]
  },
  {
   "cell_type": "code",
   "execution_count": 9,
   "id": "b44d8b10-57de-43bc-8216-cb07b1a8e40f",
   "metadata": {},
   "outputs": [],
   "source": [
    "using Bijectors\n",
    "b = Bijectors.Log{0}()\n",
    "b⁻¹ = Bijectors.Exp{0}();"
   ]
  },
  {
   "cell_type": "code",
   "execution_count": 10,
   "id": "ee489188-04c4-4c6c-b86e-8a09eca6b2bd",
   "metadata": {},
   "outputs": [],
   "source": [
    "using Distributions"
   ]
  },
  {
   "cell_type": "code",
   "execution_count": 11,
   "id": "f99b3db4-767c-4ab4-9599-d071fd1d4dcf",
   "metadata": {},
   "outputs": [
    {
     "data": {
      "text/plain": [
       "Gamma{Float64}(α=1.0, θ=1.0)"
      ]
     },
     "execution_count": 11,
     "metadata": {},
     "output_type": "execute_result"
    }
   ],
   "source": [
    "d = Gamma(1, 1)"
   ]
  },
  {
   "cell_type": "code",
   "execution_count": 12,
   "id": "97356761-e44f-446d-b78a-7a4d4194b705",
   "metadata": {},
   "outputs": [
    {
     "data": {
      "text/plain": [
       "Bijectors.Log{0}()"
      ]
     },
     "execution_count": 12,
     "metadata": {},
     "output_type": "execute_result"
    }
   ],
   "source": [
    "b = bijector(d)"
   ]
  },
  {
   "cell_type": "code",
   "execution_count": 13,
   "id": "698cf7a8-f9c3-4452-9313-c54975dfab8d",
   "metadata": {},
   "outputs": [
    {
     "data": {
      "text/plain": [
       "Bijectors.Exp{0}()"
      ]
     },
     "execution_count": 13,
     "metadata": {},
     "output_type": "execute_result"
    }
   ],
   "source": [
    "Bijectors.inverse(b)"
   ]
  },
  {
   "cell_type": "code",
   "execution_count": 14,
   "id": "7db83d97-dbca-49c9-86e3-a8ba0bc8d179",
   "metadata": {},
   "outputs": [],
   "source": [
    "tau_c = b(tau_c) # 1 => 0\n",
    "alpha_tau = b(alpha_tau) # 1 => 0\n",
    "beta_tau = b(beta_tau); # 1 => 0"
   ]
  },
  {
   "cell_type": "code",
   "execution_count": 15,
   "id": "d87bfea0-2935-47c0-bbd3-405e8956bafe",
   "metadata": {},
   "outputs": [],
   "source": [
    "struct Rats\n",
    "    x\n",
    "    xbar\n",
    "    Y\n",
    "    N::Int\n",
    "    T::Int\n",
    "end\n",
    "\n",
    "function (problem::Rats)(vars)\n",
    "    @unpack x, xbar, Y, N, T = problem\n",
    "    alpha, beta, tau_c, alpha_c, alpha_tau, beta_c, beta_tau = vars[1:N], vars[N+1:2N], vars[2N+1:end]... # parameters are linearized\n",
    "\n",
    "    b⁻¹ = Bijectors.Exp{0}()\n",
    "    tau_c = b⁻¹(tau_c)\n",
    "    alpha_tau = b⁻¹(alpha_tau)\n",
    "    beta_tau = b⁻¹(beta_tau)\n",
    "    \n",
    "    loglikelihood = 0.0\n",
    "    for i in 1:N\n",
    "        for j in 1:T\n",
    "            loglikelihood += logpdf(dnorm(alpha[i] + beta[i] * (x[j] - xbar), tau_c), Y[i, j])\n",
    "        end\n",
    "    end\n",
    "    for i in 1:N\n",
    "        loglikelihood += logpdf(dnorm(alpha_c, alpha_tau), alpha[i])\n",
    "        loglikelihood += logpdf(dnorm(beta_c, beta_tau), beta[i])\n",
    "    end\n",
    "\n",
    "    loglikelihood += logpdf(dgamma(0.001, 0.001), tau_c)\n",
    "    loglikelihood += logpdf(dnorm(0.0, 1.0E-6), alpha_c)\n",
    "    loglikelihood += logpdf(dgamma(0.001, 0.001), alpha_tau)\n",
    "    loglikelihood += logpdf(dnorm(0.0, 1.0E-6), beta_c)\n",
    "    loglikelihood += logpdf(dgamma(0.001, 0.001), beta_tau)\n",
    "    return loglikelihood\n",
    "end"
   ]
  },
  {
   "cell_type": "code",
   "execution_count": 16,
   "id": "4201dddf-d7a9-4165-923d-26dc98dab2fe",
   "metadata": {},
   "outputs": [
    {
     "data": {
      "text/plain": [
       "-174029.38703951906"
      ]
     },
     "execution_count": 16,
     "metadata": {},
     "output_type": "execute_result"
    }
   ],
   "source": [
    "p = Rats(x, xbar, Y, N, T)\n",
    "initial_θ = convert(Array{Float64}, vcat(alpha, beta, tau_c, alpha_c, alpha_tau, beta_c, beta_tau))\n",
    "p(initial_θ)"
   ]
  },
  {
   "cell_type": "code",
   "execution_count": 17,
   "id": "db3fb413-381b-4290-8a14-312f4d49a425",
   "metadata": {},
   "outputs": [
    {
     "name": "stderr",
     "output_type": "stream",
     "text": [
      "\u001b[33m\u001b[1m┌ \u001b[22m\u001b[39m\u001b[33m\u001b[1mWarning: \u001b[22m\u001b[39mProgressMeter by default refresh meters with additional information in IJulia via `IJulia.clear_output`, which clears all outputs in the cell. \n",
      "\u001b[33m\u001b[1m│ \u001b[22m\u001b[39m - To prevent this behaviour, do `ProgressMeter.ijulia_behavior(:append)`. \n",
      "\u001b[33m\u001b[1m│ \u001b[22m\u001b[39m - To disable this warning message, do `ProgressMeter.ijulia_behavior(:clear)`.\n",
      "\u001b[33m\u001b[1m└ \u001b[22m\u001b[39m\u001b[90m@ ProgressMeter ~/.julia/packages/ProgressMeter/sN2xr/src/ProgressMeter.jl:618\u001b[39m\n",
      "\u001b[32mSampling 100%|███████████████████████████████| Time: 0:00:25\u001b[39m\n",
      "\u001b[34m  iterations:                    2000\u001b[39m\n",
      "\u001b[34m  n_steps:                       15\u001b[39m\n",
      "\u001b[34m  is_accept:                     true\u001b[39m\n",
      "\u001b[34m  acceptance_rate:               0.9913103182649384\u001b[39m\n",
      "\u001b[34m  log_density:                   -657.7525405096163\u001b[39m\n",
      "\u001b[34m  hamiltonian_energy:            690.7231453341358\u001b[39m\n",
      "\u001b[34m  hamiltonian_energy_error:      -0.30059498891716885\u001b[39m\n",
      "\u001b[34m  max_hamiltonian_energy_error:  -0.7139925069008086\u001b[39m\n",
      "\u001b[34m  tree_depth:                    3\u001b[39m\n",
      "\u001b[34m  numerical_error:               false\u001b[39m\n",
      "\u001b[34m  step_size:                     0.42245340180506386\u001b[39m\n",
      "\u001b[34m  nom_step_size:                 0.42245340180506386\u001b[39m\n",
      "\u001b[34m  is_adapt:                      false\u001b[39m\n",
      "\u001b[34m  mass_matrix:                   DiagEuclideanMetric([6.217357508876173, 8.08861 ...])\u001b[39m\n",
      "\u001b[36m\u001b[1m┌ \u001b[22m\u001b[39m\u001b[36m\u001b[1mInfo: \u001b[22m\u001b[39mFinished 2000 sampling steps for 1 chains in 25.706723416 (s)\n",
      "\u001b[36m\u001b[1m│ \u001b[22m\u001b[39m  h = Hamiltonian(metric=DiagEuclideanMetric([6.217357508876173, 8.08861 ...]), kinetic=GaussianKinetic())\n",
      "\u001b[36m\u001b[1m│ \u001b[22m\u001b[39m  κ = HMCKernel{AdvancedHMC.FullMomentumRefreshment, Trajectory{MultinomialTS, Leapfrog{Float64}, GeneralisedNoUTurn{Float64}}}(AdvancedHMC.FullMomentumRefreshment(), Trajectory{MultinomialTS}(integrator=Leapfrog(ϵ=0.422), tc=GeneralisedNoUTurn{Float64}(10, 1000.0)))\n",
      "\u001b[36m\u001b[1m│ \u001b[22m\u001b[39m  EBFMI_est = 0.8206466497548385\n",
      "\u001b[36m\u001b[1m└ \u001b[22m\u001b[39m  average_acceptance_rate = 0.876486382450893\n"
     ]
    },
    {
     "data": {
      "text/plain": [
       "([[242.25780606759923, 250.32231474580348, 253.64484445830885, 231.0331109789324, 238.3314563507519, 256.9071534154863, 226.84729239832987, 249.42008045487802, 288.07465559074905, 220.32860300470594  …  6.470544042667742, 5.968245138109984, 6.023452195932363, 5.747205603755231, 6.342761976594969, -3.525293171464699, 245.37235002823724, -5.313734890853041, 6.145496556827724, 1.2787605747433495], [243.53733424620933, 250.27077996733257, 254.0289242098776, 232.1383489616833, 239.0278397267751, 257.2841352458665, 223.8849827831729, 250.5692002217778, 289.70899902427465, 220.10381353797234  …  6.321811020816067, 6.040900419584594, 6.169730109662353, 5.931491895821921, 6.057002538224705, -3.865907045829239, 243.75126931713424, -5.331659477026495, 6.189881334960123, 2.229761227638748], [243.39820311045725, 249.46067422716942, 255.66747621869746, 232.50496423094802, 237.40063815645772, 258.37296243540976, 221.80821429422258, 249.25823920664018, 287.8486129182259, 221.37104515023154  …  6.4056826036704235, 6.127633845394555, 6.174330682071654, 5.908282011344056, 6.186555873413992, -3.9168033172427523, 243.50876559883886, -5.331883156537235, 6.286697162099365, 2.0686425231508685], [243.9421320367892, 251.20523945624367, 247.64250876739328, 232.9347365097022, 233.83176274346062, 243.35309472699822, 234.0609447352381, 252.73326345061574, 281.2165570387115, 216.1010202257388  …  6.697392475801469, 6.0454077512632, 5.788960299251351, 5.730029583986976, 6.392592361513629, -3.715799097729069, 238.57792467700963, -5.6878767651915005, 6.200670605975614, 1.798592636664842], [240.45318694991198, 247.98014209491623, 248.76100569768434, 233.43291949776494, 226.75963732216917, 247.685970703765, 231.95917152452077, 248.04088228356645, 283.5382845857473, 221.51439875109568  …  6.531917692736523, 5.99462381076036, 5.896503189438273, 5.851433722978827, 6.140655651866974, -3.657680004324776, 236.2866465786176, -5.284812303231264, 6.399852113840948, 1.2121702754185455], [244.16432749478065, 246.18930841464262, 250.2351197348271, 233.5248875717972, 230.60979395115004, 249.38360857544654, 229.61015880269025, 245.60248888693633, 283.30707174429483, 217.887720459319  …  6.534963061042424, 5.761994323866982, 5.871217560415345, 6.04442724892284, 5.840378196410966, -3.530412884899104, 246.22280884044486, -5.388966320421769, 6.108416749235522, 2.0917599240866402], [238.85103172381508, 252.41613962688746, 254.84788383809027, 235.314888350343, 233.51652259854973, 248.6543806897459, 226.50348388586443, 246.38786421700408, 284.3890932190103, 222.05190558664677  …  6.474663732641751, 5.782012568270063, 5.676409806898181, 5.307557079945211, 6.3232790407677895, -3.58290389974387, 242.12892413590845, -6.098556203026676, 6.375489190361675, 0.029137382192868044], [241.6110190548107, 245.23069720831538, 251.9787319249107, 230.35600219674058, 232.17246861617582, 251.1280940799157, 231.68442329885983, 250.163405514142, 285.3935106137818, 214.7575716348271  …  6.796936757355656, 5.704475194361292, 5.887507808584832, 5.67761871549387, 5.995544411043618, -3.450072234088055, 242.75416462207957, -5.604777690585238, 5.972702520217118, 1.5805351054469328], [244.45934187245936, 246.40877695464857, 255.0454238187044, 228.58572726143075, 230.1931437198447, 251.99090194503296, 231.0208800140372, 247.7337166143798, 280.1885323598097, 218.51952686026073  …  6.3175175646907205, 5.901134346480718, 5.760788142149639, 5.528490743425134, 5.976660184521814, -3.561227286202831, 243.30597110500628, -5.1722003394860385, 6.2968290301507555, 1.1929927644402964], [234.5337199988696, 248.9970581365276, 251.71146084361357, 235.88243938449213, 232.55436772890903, 246.17117034921176, 225.82550439503933, 248.83631498305607, 284.4776775134851, 221.23815024257433  …  6.670644087912024, 5.938168060495368, 5.804839945695934, 5.805777684837219, 6.0604451827725105, -3.545696297984217, 241.05771425892672, -5.48189468918774, 6.122406166102612, 1.8356426491826192]  …  [242.34507918513424, 246.41176321672592, 253.3849010270007, 231.48643414519898, 229.86121550691828, 249.57776773682355, 228.74260239955296, 249.61395812725664, 286.12888000526414, 221.95949135866866  …  6.791366021881941, 5.494256031378846, 5.549611018386899, 5.98628863358122, 6.410075230938827, -3.871195955533023, 240.9427177767912, -5.344785430662585, 6.239556801726935, 1.1740153471365131], [242.97483631628862, 251.33672014606955, 253.14367599726145, 229.91746647976282, 231.69237908157072, 251.97378052734192, 225.98037901231027, 246.6138689957952, 275.37790843221217, 219.69790803634967  …  6.506325918662212, 5.751382258510341, 6.145885962439282, 5.682312572343032, 6.407573506252257, -3.3851004933053828, 243.43502667473598, -5.138554959272195, 6.276350983970908, 1.8019022963456515], [239.9078547135833, 248.79274407821848, 253.7030851284764, 233.6129555647719, 234.4556486262276, 248.6205544229488, 225.60080868531367, 248.40042374189278, 277.00216665111026, 218.78919286997524  …  6.596169108078684, 5.590165694575774, 5.879345452743767, 5.460061778645205, 6.111560026145839, -3.606608820186538, 246.31307275900681, -5.248598662198901, 6.219538600784274, 1.5267293445544077], [242.53565230266014, 250.0085462534194, 251.017757307505, 236.61154260719357, 230.25989960727063, 250.06014538921775, 228.86206628516607, 249.48689012022822, 279.6880165825657, 217.13066411941165  …  6.601100958239623, 5.689556159648877, 5.802298712393667, 5.797566325377418, 5.911906860002824, -3.463555295478212, 244.45262351411756, -5.153911876685417, 6.20475249109536, 1.5125414550075789], [242.73936982357972, 248.59307870198043, 252.44751723484876, 233.16134484134525, 232.2959838899117, 249.65195903499517, 227.51165396809452, 246.5505054968971, 286.1781194732093, 219.45951776674838  …  6.4772108116202665, 5.642478350730697, 5.914558401731989, 5.746204700053832, 6.141815788027624, -3.7272312283790914, 243.49340995015515, -5.779685646150617, 6.1793583661768325, 1.4761700436137004], [237.99068191368087, 249.5681129214843, 253.6924948533132, 233.3768599192297, 233.64803180421055, 251.86837838847444, 232.22387246454988, 247.73289004729318, 287.21526670513754, 219.33176786169773  …  6.423178554512326, 5.882693659184042, 6.168126824376471, 5.896018560569483, 6.487790197101234, -3.3958342731815896, 237.84248921074393, -5.724418071333428, 6.145746005727548, 1.9715210948413544], [237.57868444700074, 243.78112107514576, 252.11379142486228, 236.70343489233912, 230.21841732751324, 243.05877999157357, 227.61481350681302, 247.37753017365375, 278.4291055064534, 219.7586579722478  …  6.477401505755417, 6.1319760802753365, 5.180201631336324, 5.335043422054695, 6.187200262940095, -3.8819227595343984, 246.1655636610729, -5.135661404099926, 6.349759604328113, 0.9455861422604648], [239.25287768577078, 249.86638277538998, 255.973921275685, 237.33399105199848, 231.34740570851338, 246.1411686014751, 223.1384458197834, 249.9257555489668, 282.52007497947204, 218.54158206223082  …  6.8065201998653855, 5.914265252310046, 5.216861941098002, 5.570415451540413, 6.133150970841834, -3.6916942101897767, 245.53176585742685, -5.911393697531773, 6.032019480413563, 0.8639417246235567], [241.03167268121354, 246.42536471238742, 249.60554032396325, 228.86169142020978, 232.5456794511867, 252.8965849247181, 231.4356626194414, 248.25323358680453, 284.0833955912679, 220.29730624573185  …  6.358208177225214, 5.9897471778284554, 6.371062833928853, 5.90018702050452, 5.791357259910601, -3.5062571171985177, 240.17549414721, -4.955118538582735, 6.048660186825808, 1.02350044329463], [244.47064209811356, 248.89341923346376, 256.0280534278218, 232.30294255521437, 229.3421720910536, 248.18043099260603, 231.4693464824089, 249.21524868250083, 280.90371905551615, 216.3115723667965  …  6.641511400591322, 5.856743542782385, 5.515505327897819, 5.504311467704753, 6.719966404862363, -3.5495337958186917, 244.07645987733528, -5.689990652741921, 6.337684358015135, 1.0891099408798561]], NamedTuple[(n_steps = 63, is_accept = true, acceptance_rate = 0.8857242170493447, log_density = -655.6158183241281, hamiltonian_energy = 685.1523545165504, hamiltonian_energy_error = 0.09777977521173398, max_hamiltonian_energy_error = 0.2842696895818335, tree_depth = 5, numerical_error = false, step_size = 0.42245340180506386, nom_step_size = 0.42245340180506386, is_adapt = false), (n_steps = 23, is_accept = true, acceptance_rate = 0.9120139573240039, log_density = -656.1145468616477, hamiltonian_energy = 691.1678273842009, hamiltonian_energy_error = -0.2539978932371696, max_hamiltonian_energy_error = 0.7650137347608279, tree_depth = 4, numerical_error = false, step_size = 0.42245340180506386, nom_step_size = 0.42245340180506386, is_adapt = false), (n_steps = 15, is_accept = true, acceptance_rate = 0.5448516832402288, log_density = -658.9100912791948, hamiltonian_energy = 698.4052224477431, hamiltonian_energy_error = 0.5401411979024715, max_hamiltonian_energy_error = 1.4407178232407887, tree_depth = 3, numerical_error = false, step_size = 0.42245340180506386, nom_step_size = 0.42245340180506386, is_adapt = false), (n_steps = 15, is_accept = true, acceptance_rate = 0.9319748503564225, log_density = -662.0849817121278, hamiltonian_energy = 692.8232232284514, hamiltonian_energy_error = 0.057338438648571355, max_hamiltonian_energy_error = 0.46338539016107916, tree_depth = 3, numerical_error = false, step_size = 0.42245340180506386, nom_step_size = 0.42245340180506386, is_adapt = false), (n_steps = 15, is_accept = true, acceptance_rate = 0.804131779654732, log_density = -661.6286774933022, hamiltonian_energy = 696.0596980663092, hamiltonian_energy_error = 0.29574966656150536, max_hamiltonian_energy_error = 0.6185508574941423, tree_depth = 3, numerical_error = false, step_size = 0.42245340180506386, nom_step_size = 0.42245340180506386, is_adapt = false), (n_steps = 7, is_accept = true, acceptance_rate = 0.9778364738084084, log_density = -647.578587727854, hamiltonian_energy = 686.1831664067873, hamiltonian_energy_error = -0.6885779634137634, max_hamiltonian_energy_error = -0.8764155787189338, tree_depth = 3, numerical_error = false, step_size = 0.42245340180506386, nom_step_size = 0.42245340180506386, is_adapt = false), (n_steps = 7, is_accept = true, acceptance_rate = 0.4547476134890957, log_density = -659.9911597302611, hamiltonian_energy = 687.7532371152184, hamiltonian_energy_error = 0.9165851317675333, max_hamiltonian_energy_error = 1.02955052620689, tree_depth = 3, numerical_error = false, step_size = 0.42245340180506386, nom_step_size = 0.42245340180506386, is_adapt = false), (n_steps = 15, is_accept = true, acceptance_rate = 0.9147748859830694, log_density = -654.9003979742789, hamiltonian_energy = 692.6398943988424, hamiltonian_energy_error = -0.8940218795032706, max_hamiltonian_energy_error = -0.8940218795032706, tree_depth = 3, numerical_error = false, step_size = 0.42245340180506386, nom_step_size = 0.42245340180506386, is_adapt = false), (n_steps = 7, is_accept = true, acceptance_rate = 0.9999397808266488, log_density = -652.3188448510656, hamiltonian_energy = 683.1928450692055, hamiltonian_energy_error = -0.15168596454941508, max_hamiltonian_energy_error = -0.22313409864693767, tree_depth = 3, numerical_error = false, step_size = 0.42245340180506386, nom_step_size = 0.42245340180506386, is_adapt = false), (n_steps = 7, is_accept = true, acceptance_rate = 0.9271802098070233, log_density = -656.2866806677463, hamiltonian_energy = 675.928889473314, hamiltonian_energy_error = 0.24068876427452324, max_hamiltonian_energy_error = 0.35072805861318557, tree_depth = 3, numerical_error = false, step_size = 0.42245340180506386, nom_step_size = 0.42245340180506386, is_adapt = false)  …  (n_steps = 15, is_accept = true, acceptance_rate = 0.793192748677343, log_density = -664.8941588879476, hamiltonian_energy = 691.8407762854712, hamiltonian_energy_error = 0.3779923196528898, max_hamiltonian_energy_error = 0.4797535616323785, tree_depth = 3, numerical_error = false, step_size = 0.42245340180506386, nom_step_size = 0.42245340180506386, is_adapt = false), (n_steps = 15, is_accept = true, acceptance_rate = 0.960559879573434, log_density = -648.8182754489477, hamiltonian_energy = 691.344918447503, hamiltonian_energy_error = -0.7773713284822179, max_hamiltonian_energy_error = -0.8210561581464617, tree_depth = 3, numerical_error = false, step_size = 0.42245340180506386, nom_step_size = 0.42245340180506386, is_adapt = false), (n_steps = 15, is_accept = true, acceptance_rate = 0.883738008995053, log_density = -650.1406607300163, hamiltonian_energy = 677.4304180797217, hamiltonian_energy_error = 0.03198625905838526, max_hamiltonian_energy_error = -0.34231240023518694, tree_depth = 3, numerical_error = false, step_size = 0.42245340180506386, nom_step_size = 0.42245340180506386, is_adapt = false), (n_steps = 7, is_accept = true, acceptance_rate = 0.86934671593444, log_density = -649.3512872194516, hamiltonian_energy = 682.5269675616927, hamiltonian_energy_error = -0.1424036723676636, max_hamiltonian_energy_error = 0.3640924947321764, tree_depth = 3, numerical_error = false, step_size = 0.42245340180506386, nom_step_size = 0.42245340180506386, is_adapt = false), (n_steps = 7, is_accept = true, acceptance_rate = 0.9085158751726521, log_density = -653.3735555577982, hamiltonian_energy = 680.4529280414812, hamiltonian_energy_error = 0.12692913771525127, max_hamiltonian_energy_error = 0.2390085332687022, tree_depth = 3, numerical_error = false, step_size = 0.42245340180506386, nom_step_size = 0.42245340180506386, is_adapt = false), (n_steps = 7, is_accept = true, acceptance_rate = 0.7935605132267, log_density = -660.4457206311819, hamiltonian_energy = 692.2136842405997, hamiltonian_energy_error = 0.32536669967282705, max_hamiltonian_energy_error = 0.6504431187372575, tree_depth = 3, numerical_error = false, step_size = 0.42245340180506386, nom_step_size = 0.42245340180506386, is_adapt = false), (n_steps = 15, is_accept = true, acceptance_rate = 0.904195991908253, log_density = -670.666779801362, hamiltonian_energy = 695.2990762414581, hamiltonian_energy_error = 0.354947441018453, max_hamiltonian_energy_error = -0.5818464638587102, tree_depth = 3, numerical_error = false, step_size = 0.42245340180506386, nom_step_size = 0.42245340180506386, is_adapt = false), (n_steps = 71, is_accept = true, acceptance_rate = 0.9270936828774659, log_density = -670.6337900443397, hamiltonian_energy = 711.0072836778862, hamiltonian_energy_error = -0.03605408489738693, max_hamiltonian_energy_error = -0.7676011426955256, tree_depth = 6, numerical_error = false, step_size = 0.42245340180506386, nom_step_size = 0.42245340180506386, is_adapt = false), (n_steps = 47, is_accept = true, acceptance_rate = 0.9795530588605905, log_density = -664.7303581160104, hamiltonian_energy = 701.7650592430728, hamiltonian_energy_error = -0.28958121084201593, max_hamiltonian_energy_error = -0.5407507461012528, tree_depth = 5, numerical_error = false, step_size = 0.42245340180506386, nom_step_size = 0.42245340180506386, is_adapt = false), (n_steps = 15, is_accept = true, acceptance_rate = 0.9913103182649384, log_density = -657.7525405096163, hamiltonian_energy = 690.7231453341358, hamiltonian_energy_error = -0.30059498891716885, max_hamiltonian_energy_error = -0.7139925069008086, tree_depth = 3, numerical_error = false, step_size = 0.42245340180506386, nom_step_size = 0.42245340180506386, is_adapt = false)])"
      ]
     },
     "execution_count": 17,
     "metadata": {},
     "output_type": "execute_result"
    }
   ],
   "source": [
    "using AdvancedHMC, ForwardDiff\n",
    "\n",
    "D = length(initial_θ)\n",
    "n_samples, n_adapts = 2000, 1000\n",
    "\n",
    "metric = DiagEuclideanMetric(D)\n",
    "hamiltonian = Hamiltonian(metric, p, :ForwardDiff)\n",
    "\n",
    "initial_ϵ = find_good_stepsize(hamiltonian, initial_θ)\n",
    "integrator = Leapfrog(initial_ϵ)\n",
    "proposal = NUTS{MultinomialTS, GeneralisedNoUTurn}(integrator)\n",
    "adaptor = StanHMCAdaptor(MassMatrixAdaptor(metric), StepSizeAdaptor(0.8, integrator))\n",
    "\n",
    "samples, stats = sample(hamiltonian, proposal, initial_θ, n_samples, adaptor, n_adapts; drop_warmup=true, progress=true)"
   ]
  },
  {
   "cell_type": "code",
   "execution_count": 18,
   "id": "71b9b349-9cdb-4ea8-9e94-0a19d5caae33",
   "metadata": {},
   "outputs": [
    {
     "data": {
      "text/plain": [
       "(6.18909110144742, 0.11254866739229678)"
      ]
     },
     "execution_count": 18,
     "metadata": {},
     "output_type": "execute_result"
    }
   ],
   "source": [
    "beta_c_samples = [samples[s][64] for s in 1:length(samples)]\n",
    "stats = mean(beta_c_samples), std(beta_c_samples) # Reference result: mean 6.186, variance 0.1088"
   ]
  },
  {
   "cell_type": "code",
   "execution_count": 19,
   "id": "d4802894-adb4-4dea-b1b6-77679ff481e4",
   "metadata": {},
   "outputs": [
    {
     "data": {
      "text/plain": [
       "(6.131583186250287, 0.4721785973111452)"
      ]
     },
     "execution_count": 19,
     "metadata": {},
     "output_type": "execute_result"
    }
   ],
   "source": [
    "tau_c_samples = [samples[s][61] for s in 1:length(samples)]\n",
    "sigma_samples = map(x->1/sqrt(b⁻¹(x)), tau_c_samples)\n",
    "stats = mean(sigma_samples), std(sigma_samples) # Reference result: mean 6.092, sd 0.4672"
   ]
  }
 ],
 "metadata": {
  "kernelspec": {
   "display_name": "Julia 1.8.5",
   "language": "julia",
   "name": "julia-1.8"
  },
  "language_info": {
   "file_extension": ".jl",
   "mimetype": "application/julia",
   "name": "julia",
   "version": "1.8.5"
  }
 },
 "nbformat": 4,
 "nbformat_minor": 5
}
