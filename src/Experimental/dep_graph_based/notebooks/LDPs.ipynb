{
 "cells": [
  {
   "cell_type": "markdown",
   "id": "627ea853-7dbe-420f-8d25-1e9980fafe3f",
   "metadata": {},
   "source": [
    "# Recipes For Translating A BUGS Model To LogDensityProblems"
   ]
  },
  {
   "cell_type": "markdown",
   "id": "ec84e4ff-2111-42b7-bcc2-530af837dd1f",
   "metadata": {},
   "source": [
    "# `Rats` Model"
   ]
  },
  {
   "cell_type": "code",
   "execution_count": null,
   "id": "85409c26-2446-4531-85e9-80446e474460",
   "metadata": {},
   "outputs": [],
   "source": [
    "# JuliaBUGS\n",
    "@bugsast begin\n",
    "    for i in 1:N\n",
    "        for j in 1:T\n",
    "            Y[i, j] ~ dnorm(mu[i, j], tau_c)\n",
    "            mu[i, j] = alpha[i] + beta[i] * (x[j] - xbar)\n",
    "        end\n",
    "        alpha[i] ~ dnorm(alpha_c, alpha_tau)\n",
    "        beta[i] ~ dnorm(beta_c, beta_tau)\n",
    "    end\n",
    "    tau_c ~ dgamma(0.001, 0.001)\n",
    "    sigma = 1 / sqrt(tau_c)\n",
    "    alpha_c ~ dnorm(0.0, 1.0E-6)\n",
    "    alpha_tau ~ dgamma(0.001, 0.001)\n",
    "    beta_c ~ dnorm(0.0, 1.0E-6)\n",
    "    beta_tau ~ dgamma(0.001, 0.001)\n",
    "    alpha0 = alpha_c - xbar * beta_c\n",
    "end"
   ]
  },
  {
   "cell_type": "code",
   "execution_count": 1,
   "id": "7276d62a-c0f6-4d75-8097-0cc99c8633bc",
   "metadata": {},
   "outputs": [],
   "source": [
    "# data\n",
    "x = [8.0, 15.0, 22.0, 29.0, 36.0]\n",
    "xbar = 22\n",
    "N = 30\n",
    "T = 5\n",
    "Y = [\n",
    "    151 199 246 283 320\n",
    "    145 199 249 293 354\n",
    "    147 214 263 312 328\n",
    "    155 200 237 272 297\n",
    "    135 188 230 280 323\n",
    "    159 210 252 298 331\n",
    "    141 189 231 275 305\n",
    "    159 201 248 297 338\n",
    "    177 236 285 350 376\n",
    "    134 182 220 260 296\n",
    "    160 208 261 313 352\n",
    "    143 188 220 273 314\n",
    "    154 200 244 289 325\n",
    "    171 221 270 326 358\n",
    "    163 216 242 281 312\n",
    "    160 207 248 288 324\n",
    "    142 187 234 280 316\n",
    "    156 203 243 283 317\n",
    "    157 212 259 307 336\n",
    "    152 203 246 286 321\n",
    "    154 205 253 298 334\n",
    "    139 190 225 267 302\n",
    "    146 191 229 272 302\n",
    "    157 211 250 285 323\n",
    "    132 185 237 286 331\n",
    "    160 207 257 303 345\n",
    "    169 216 261 295 333\n",
    "    157 205 248 289 316\n",
    "    137 180 219 258 291\n",
    "    153 200 244 286 324\n",
    "]\n",
    "\n",
    "# parameters\n",
    "alpha = [250, 250, 250, 250, 250, 250, 250, 250, 250, 250, 250, 250, 250, 250, 250, 250, 250, 250, 250, 250, 250, 250, 250, 250, 250, 250, 250, 250, 250, 250]\n",
    "beta = [6, 6, 6, 6, 6, 6, 6, 6, 6, 6, 6, 6, 6, 6, 6, 6, 6, 6, 6, 6, 6, 6, 6, 6, 6, 6, 6, 6, 6, 6]\n",
    "alpha_c = 150\n",
    "beta_c = 10\n",
    "tau_c = 1\n",
    "alpha_tau = 1\n",
    "beta_tau = 1;"
   ]
  },
  {
   "cell_type": "markdown",
   "id": "208f7cba-2934-44bb-8a6c-9ddf345134e6",
   "metadata": {},
   "source": [
    "# With [DynamicHMC.jl](https://github.com/tpapp/DynamicHMC.jl)"
   ]
  },
  {
   "cell_type": "code",
   "execution_count": 4,
   "id": "cca09024-f47b-4c35-bef3-1b99022b494d",
   "metadata": {},
   "outputs": [],
   "source": [
    "using LogDensityProblems\n",
    "using UnPack, BangBang\n",
    "using Distributions\n",
    "using StaticArrays\n",
    "\n",
    "# also defined in JuliaBUGS.jl\n",
    "dnorm(μ, τ) = Normal(μ, 1 / sqrt(τ))\n",
    "dgamma(a, b) = Gamma(a, 1 / b) \n",
    "\n",
    "struct Rats\n",
    "    x\n",
    "    xbar\n",
    "    Y\n",
    "    N::Int\n",
    "    T::Int\n",
    "end\n",
    "\n",
    "function (problem::Rats)(vars)\n",
    "    @unpack x, xbar, Y, N, T = problem\n",
    "    @unpack alpha, beta, tau_c, alpha_c, alpha_tau, beta_c, beta_tau = vars\n",
    "\n",
    "    # to work with AutoDiff, mutation is generally not permitted\n",
    "    # in this example, we can just directly plug in the definition of `mu[i, j]` into the location it's used\n",
    "    \n",
    "    mu = ones(N, T)\n",
    "    for i in 1:N\n",
    "        for j in 1:T\n",
    "            setindex!!(mu, alpha[i] + beta[i] * (x[j] - xbar), i, j)\n",
    "        end\n",
    "    end\n",
    "    \n",
    "    loglikelihood = 0.0\n",
    "    for i in 1:N\n",
    "        for j in 1:T\n",
    "            loglikelihood += logpdf(dnorm(mu[i, j], tau_c), Y[i, j])\n",
    "        end\n",
    "    end\n",
    "    for i in 1:N\n",
    "        loglikelihood += logpdf(dnorm(alpha_c, alpha_tau), alpha[i])\n",
    "        loglikelihood += logpdf(dnorm(beta_c, beta_tau), beta[i])\n",
    "    end\n",
    "\n",
    "    loglikelihood += logpdf(dgamma(0.001, 0.001), tau_c)\n",
    "    loglikelihood += logpdf(dnorm(0.0, 1.0E-6), alpha_c)\n",
    "    loglikelihood += logpdf(dgamma(0.001, 0.001), alpha_tau)\n",
    "    loglikelihood += logpdf(dnorm(0.0, 1.0E-6), beta_c)\n",
    "    loglikelihood += logpdf(dgamma(0.001, 0.001), beta_tau)\n",
    "    return loglikelihood\n",
    "end\n",
    "\n",
    "function LogDensityProblems.logdensity(p::Rats, vars)\n",
    "    return p(vars)\n",
    "end\n",
    "\n",
    "function LogDensityProblems.capabilities(::Type{<:Rats})\n",
    "    return LogDensityProblems.LogDensityOrder{1}()\n",
    "end\n",
    "\n",
    "function LogDensityProblems.dimension(p::Rats)\n",
    "    @unpack x, xbar, Y, N, T = p\n",
    "    return N + N + 1 + 1 + 1 + 1 + 1\n",
    "end"
   ]
  },
  {
   "cell_type": "code",
   "execution_count": 5,
   "id": "80129ccd-2fa2-41e7-962f-12d1dded932a",
   "metadata": {},
   "outputs": [
    {
     "data": {
      "text/plain": [
       "-174029.38703951906"
      ]
     },
     "execution_count": 5,
     "metadata": {},
     "output_type": "execute_result"
    }
   ],
   "source": [
    "p = Rats(x, xbar, Y, N, T)\n",
    "p((alpha = alpha, beta = beta, tau_c = tau_c, alpha_c = alpha_c, alpha_tau = alpha_tau, beta_c = beta_c, beta_tau = beta_tau))"
   ]
  },
  {
   "cell_type": "code",
   "execution_count": null,
   "id": "7bfe92de-0f62-438d-ace6-4eac7d315ac1",
   "metadata": {},
   "outputs": [],
   "source": [
    "using TransformVariables, TransformedLogDensities\n",
    "t = as((alpha = as(Array, N), beta = as(Array, N), tau_c = asℝ₊, alpha_c = asℝ, alpha_tau = asℝ₊, beta_c = asℝ, beta_tau = asℝ₊))\n",
    "t_p = TransformedLogDensity(t, p)"
   ]
  },
  {
   "cell_type": "code",
   "execution_count": null,
   "id": "23885290-7a39-4159-8265-5cdc720e970f",
   "metadata": {},
   "outputs": [],
   "source": [
    "using LogDensityProblemsAD, DynamicHMC, Random, ForwardDiff\n",
    "∇P = ADgradient(:ForwardDiff, t_p)"
   ]
  },
  {
   "cell_type": "code",
   "execution_count": null,
   "id": "e3e6cf4f-abc3-4a13-a8a5-3af538e34617",
   "metadata": {},
   "outputs": [],
   "source": [
    "inits = (alpha = alpha, beta = beta, tau_c = tau_c, alpha_c = alpha_c, alpha_tau = alpha_tau, beta_c = beta_c, beta_tau = beta_tau)\n",
    "results = mcmc_with_warmup(Random.GLOBAL_RNG, ∇P, 1000)"
   ]
  },
  {
   "cell_type": "code",
   "execution_count": null,
   "id": "79281717-5e63-4be5-be95-48821cef6b1a",
   "metadata": {},
   "outputs": [],
   "source": [
    "# check the posterior of variable `beta_c`\n",
    "transformed_results = transform.(t, eachcol(results.posterior_matrix))\n",
    "beta_c_samples = [transformed_results[s][:beta_c] for s in 1:length(transformed_results)]\n",
    "stats = mean(beta_c_samples), std(beta_c_samples) # reference results: mean 6.186, variance 0.1088"
   ]
  },
  {
   "cell_type": "markdown",
   "id": "2c36d8dd-d270-4d76-af5e-32fc388b4294",
   "metadata": {},
   "source": [
    "# With [AdvancedHMC.jl](https://github.com/TuringLang/AdvancedHMC.jl)"
   ]
  },
  {
   "cell_type": "markdown",
   "id": "c0af4801-0720-41a8-b933-a774e92263df",
   "metadata": {},
   "source": [
    "HMC needs parameters to be unconfined, the second argument of function `dnorm` is required to be positive. We can use the package [`Bijectors.jl`](https://github.com/TuringLang/Bijectors.jl)."
   ]
  },
  {
   "cell_type": "code",
   "execution_count": null,
   "id": "b44d8b10-57de-43bc-8216-cb07b1a8e40f",
   "metadata": {},
   "outputs": [],
   "source": [
    "using Bijectors\n",
    "b = Bijectors.Log{0}()\n",
    "b⁻¹ = Bijectors.Exp{0}();"
   ]
  },
  {
   "cell_type": "code",
   "execution_count": null,
   "id": "ee489188-04c4-4c6c-b86e-8a09eca6b2bd",
   "metadata": {},
   "outputs": [],
   "source": [
    "using Distributions"
   ]
  },
  {
   "cell_type": "code",
   "execution_count": null,
   "id": "f99b3db4-767c-4ab4-9599-d071fd1d4dcf",
   "metadata": {},
   "outputs": [],
   "source": [
    "d = Gamma(1, 1)"
   ]
  },
  {
   "cell_type": "code",
   "execution_count": null,
   "id": "97356761-e44f-446d-b78a-7a4d4194b705",
   "metadata": {},
   "outputs": [],
   "source": [
    "b = bijector(d)"
   ]
  },
  {
   "cell_type": "code",
   "execution_count": null,
   "id": "698cf7a8-f9c3-4452-9313-c54975dfab8d",
   "metadata": {},
   "outputs": [],
   "source": [
    "Bijectors.inverse(b)"
   ]
  },
  {
   "cell_type": "code",
   "execution_count": null,
   "id": "7db83d97-dbca-49c9-86e3-a8ba0bc8d179",
   "metadata": {},
   "outputs": [],
   "source": [
    "tau_c = b(tau_c) # 1 => 0\n",
    "alpha_tau = b(alpha_tau) # 1 => 0\n",
    "beta_tau = b(beta_tau); # 1 => 0"
   ]
  },
  {
   "cell_type": "code",
   "execution_count": null,
   "id": "d87bfea0-2935-47c0-bbd3-405e8956bafe",
   "metadata": {},
   "outputs": [],
   "source": [
    "struct Rats\n",
    "    x\n",
    "    xbar\n",
    "    Y\n",
    "    N::Int\n",
    "    T::Int\n",
    "end\n",
    "\n",
    "function (problem::Rats)(vars)\n",
    "    @unpack x, xbar, Y, N, T = problem\n",
    "    alpha, beta, tau_c, alpha_c, alpha_tau, beta_c, beta_tau = vars[1:N], vars[N+1:2N], vars[2N+1:end]... # parameters are linearized\n",
    "\n",
    "    b⁻¹ = Bijectors.Exp{0}()\n",
    "    tau_c = b⁻¹(tau_c)\n",
    "    alpha_tau = b⁻¹(alpha_tau)\n",
    "    beta_tau = b⁻¹(beta_tau)\n",
    "    \n",
    "    loglikelihood = 0.0\n",
    "    for i in 1:N\n",
    "        for j in 1:T\n",
    "            loglikelihood += logpdf(dnorm(alpha[i] + beta[i] * (x[j] - xbar), tau_c), Y[i, j])\n",
    "        end\n",
    "    end\n",
    "    for i in 1:N\n",
    "        loglikelihood += logpdf(dnorm(alpha_c, alpha_tau), alpha[i])\n",
    "        loglikelihood += logpdf(dnorm(beta_c, beta_tau), beta[i])\n",
    "    end\n",
    "\n",
    "    loglikelihood += logpdf(dgamma(0.001, 0.001), tau_c)\n",
    "    loglikelihood += logpdf(dnorm(0.0, 1.0E-6), alpha_c)\n",
    "    loglikelihood += logpdf(dgamma(0.001, 0.001), alpha_tau)\n",
    "    loglikelihood += logpdf(dnorm(0.0, 1.0E-6), beta_c)\n",
    "    loglikelihood += logpdf(dgamma(0.001, 0.001), beta_tau)\n",
    "    return loglikelihood\n",
    "end"
   ]
  },
  {
   "cell_type": "code",
   "execution_count": null,
   "id": "4201dddf-d7a9-4165-923d-26dc98dab2fe",
   "metadata": {},
   "outputs": [],
   "source": [
    "p = Rats(x, xbar, Y, N, T)\n",
    "initial_θ = convert(Array{Float64}, vcat(alpha, beta, tau_c, alpha_c, alpha_tau, beta_c, beta_tau))\n",
    "p(initial_θ)"
   ]
  },
  {
   "cell_type": "code",
   "execution_count": null,
   "id": "db3fb413-381b-4290-8a14-312f4d49a425",
   "metadata": {},
   "outputs": [],
   "source": [
    "using AdvancedHMC, ForwardDiff\n",
    "\n",
    "D = length(initial_θ)\n",
    "n_samples, n_adapts = 2000, 1000\n",
    "\n",
    "metric = DiagEuclideanMetric(D)\n",
    "hamiltonian = Hamiltonian(metric, p, :ForwardDiff)\n",
    "\n",
    "initial_ϵ = find_good_stepsize(hamiltonian, initial_θ)\n",
    "integrator = Leapfrog(initial_ϵ)\n",
    "proposal = NUTS{MultinomialTS, GeneralisedNoUTurn}(integrator)\n",
    "adaptor = StanHMCAdaptor(MassMatrixAdaptor(metric), StepSizeAdaptor(0.8, integrator))\n",
    "\n",
    "samples, stats = sample(hamiltonian, proposal, initial_θ, n_samples, adaptor, n_adapts; drop_warmup=true, progress=true)"
   ]
  },
  {
   "cell_type": "code",
   "execution_count": null,
   "id": "71b9b349-9cdb-4ea8-9e94-0a19d5caae33",
   "metadata": {},
   "outputs": [],
   "source": [
    "beta_c_samples = [samples[s][64] for s in 1:length(samples)]\n",
    "stats = mean(beta_c_samples), std(beta_c_samples) # Reference result: mean 6.186, variance 0.1088"
   ]
  },
  {
   "cell_type": "code",
   "execution_count": null,
   "id": "d4802894-adb4-4dea-b1b6-77679ff481e4",
   "metadata": {},
   "outputs": [],
   "source": [
    "tau_c_samples = [samples[s][61] for s in 1:length(samples)]\n",
    "sigma_samples = map(x->1/sqrt(b⁻¹(x)), tau_c_samples)\n",
    "stats = mean(sigma_samples), std(sigma_samples) # Reference result: mean 6.092, sd 0.4672"
   ]
  }
 ],
 "metadata": {
  "kernelspec": {
   "display_name": "Julia 1.7.3",
   "language": "julia",
   "name": "julia-1.7"
  },
  "language_info": {
   "file_extension": ".jl",
   "mimetype": "application/julia",
   "name": "julia",
   "version": "1.7.3"
  }
 },
 "nbformat": 4,
 "nbformat_minor": 5
}
