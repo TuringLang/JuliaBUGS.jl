{
 "cells": [
  {
   "cell_type": "code",
   "execution_count": 1,
   "id": "8eec53f7-0471-484c-9a7f-db18282dc1f2",
   "metadata": {},
   "outputs": [
    {
     "name": "stderr",
     "output_type": "stream",
     "text": [
      "\u001b[36m\u001b[1m[ \u001b[22m\u001b[39m\u001b[36m\u001b[1mInfo: \u001b[22m\u001b[39mPrecompiling JuliaBUGS [d71a52e4-b6e4-48cf-ab6f-7c78c729c779]\n"
     ]
    }
   ],
   "source": [
    "using Revise\n",
    "using JuliaBUGS: CollectVariables, program!, @bugsast"
   ]
  },
  {
   "cell_type": "code",
   "execution_count": 2,
   "id": "f4240598-cb7c-4fd5-b22b-093052465541",
   "metadata": {},
   "outputs": [
    {
     "data": {
      "text/plain": [
       "quote\n",
       "    $(Expr(:~, :a, :(dnorm(0, 1))))\n",
       "    $(Expr(:~, :b, :(dnorm(0, a))))\n",
       "    for i = 1:N\n",
       "        $(Expr(:~, :(c[i]), :(dnorm(a, b))))\n",
       "    end\n",
       "end"
      ]
     },
     "execution_count": 2,
     "metadata": {},
     "output_type": "execute_result"
    }
   ],
   "source": [
    "model_def = @bugsast begin\n",
    "    a ~ dnorm(0, 1)\n",
    "    b ~ dnorm(0, a)\n",
    "    for i in 1:N\n",
    "        c[i] ~ dnorm(a, b)\n",
    "    end\n",
    "end"
   ]
  },
  {
   "cell_type": "code",
   "execution_count": 3,
   "id": "f3ca62e5-0b3c-4b5e-b44e-76dda6b98e8b",
   "metadata": {},
   "outputs": [
    {
     "data": {
      "text/plain": [
       "Dict{Symbol, Int64} with 1 entry:\n",
       "  :N => 3"
      ]
     },
     "execution_count": 3,
     "metadata": {},
     "output_type": "execute_result"
    }
   ],
   "source": [
    "data = Dict(:N => 3)"
   ]
  },
  {
   "cell_type": "markdown",
   "id": "6c45567b-ad05-41c2-96c5-8aacade4f7de",
   "metadata": {},
   "source": [
    "The first pass simply tries to collect all the variables in the model. \n",
    "In a correctly written BUGS model, a variable need to appear either on the LHS of an assignment, or in the data. \n",
    "So, the first pass simply look at the LHS of all the possible assignments. \n",
    "In the case where LHS is a symbol, the symbol is treated as a scalar; otherwise, the variable is an element of some array. \n",
    "In the latter case, the index will be resolved or error will be reported."
   ]
  },
  {
   "cell_type": "code",
   "execution_count": 4,
   "id": "82ef71c2-3b5c-457a-94c6-8c657b0d99f9",
   "metadata": {},
   "outputs": [
    {
     "data": {
      "text/plain": [
       "(Vars(c[3] => 5, c[1] => 3, c[:] => 6, a => 1, c[2] => 4, b => 2), Dict{Any, Any}(:c => [3, 4, 5]))"
      ]
     },
     "execution_count": 4,
     "metadata": {},
     "output_type": "execute_result"
    }
   ],
   "source": [
    "vars, arrays_map = program!(CollectVariables(), model_def, data)"
   ]
  },
  {
   "cell_type": "code",
   "execution_count": 5,
   "id": "6d0582c7-5836-4da0-908c-16f03bf74377",
   "metadata": {},
   "outputs": [
    {
     "data": {
      "text/plain": [
       "Vars(c[3] => 5, c[1] => 3, c[:] => 6, a => 1, c[2] => 4, b => 2)"
      ]
     },
     "execution_count": 5,
     "metadata": {},
     "output_type": "execute_result"
    }
   ],
   "source": [
    "vars # five variables"
   ]
  },
  {
   "cell_type": "code",
   "execution_count": 6,
   "id": "7bae5500-15a5-405b-80f8-edac61a6c730",
   "metadata": {},
   "outputs": [
    {
     "data": {
      "text/plain": [
       "Dict{Any, Any} with 1 entry:\n",
       "  :c => [3, 4, 5]"
      ]
     },
     "execution_count": 6,
     "metadata": {},
     "output_type": "execute_result"
    }
   ],
   "source": [
    "arrays_map # store the array whose elements are the variables ids"
   ]
  },
  {
   "cell_type": "markdown",
   "id": "d27bea72-ace7-41ee-a1a8-d32c8a0c972f",
   "metadata": {},
   "source": [
    "The second pass will try to figure out the dependency between all the variables. \n",
    "The dependency is represented as a DAG."
   ]
  },
  {
   "cell_type": "code",
   "execution_count": 7,
   "id": "47d265a9-a0b9-41c4-bd81-21da9bbaa6d8",
   "metadata": {},
   "outputs": [
    {
     "data": {
      "text/plain": [
       "{5, 7} directed simple Int64 graph"
      ]
     },
     "execution_count": 7,
     "metadata": {},
     "output_type": "execute_result"
    }
   ],
   "source": [
    "dep_graph = program(DependencyGraph(), model_def, data, vars, arrays_map)"
   ]
  },
  {
   "cell_type": "code",
   "execution_count": 8,
   "id": "8e0df6e6-dbd3-4134-9978-dfc4839c2db0",
   "metadata": {},
   "outputs": [
    {
     "data": {
      "text/plain": [
       "5×5 SparseArrays.SparseMatrixCSC{Int64, Int64} with 7 stored entries:\n",
       " ⋅  1  1  1  1\n",
       " ⋅  ⋅  1  1  1\n",
       " ⋅  ⋅  ⋅  ⋅  ⋅\n",
       " ⋅  ⋅  ⋅  ⋅  ⋅\n",
       " ⋅  ⋅  ⋅  ⋅  ⋅"
      ]
     },
     "execution_count": 8,
     "metadata": {},
     "output_type": "execute_result"
    }
   ],
   "source": [
    "using Graphs; adjacency_matrix(dep_graph)"
   ]
  },
  {
   "cell_type": "markdown",
   "id": "94d199ce-73c1-486b-9a52-712c72f56a99",
   "metadata": {},
   "source": [
    "## Some thoughts and next steps\n",
    "\n",
    "* The first pass will figure out the size of arrays.\n",
    "* The second pass is necessary if the target is translating BUGS program to Turing, as order is critical. In case which the target is LogDensityProblems, we will need dependency to figure out the order of logical assignment and compute Gibbs-style logdensity.\n",
    "* I am still working on how to translate BUGS program to LogDensityProblems automatically. For now, the biggest problem is dealing with logical assignments. Figuring out orders of logical assignments is not trivial, but with dependency graph, it should be doable. The other issue is that autodiff and mutation is not compatible; so if there exist logical assignments to array elements, the direct way of translation will not work.\n",
    "* SymbolicPPL's graph representation should be relatively easy to convert to a LogDensityProblem."
   ]
  }
 ],
 "metadata": {
  "kernelspec": {
   "display_name": "Julia 1.8.5",
   "language": "julia",
   "name": "julia-1.8"
  },
  "language_info": {
   "file_extension": ".jl",
   "mimetype": "application/julia",
   "name": "julia",
   "version": "1.8.5"
  }
 },
 "nbformat": 4,
 "nbformat_minor": 5
}
