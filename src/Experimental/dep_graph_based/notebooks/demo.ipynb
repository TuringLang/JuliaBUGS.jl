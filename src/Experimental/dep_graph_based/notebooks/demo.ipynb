{
 "cells": [
  {
   "cell_type": "markdown",
   "id": "315ebb06-6ada-4d0e-b61f-04bd0c6f541b",
   "metadata": {},
   "source": [
    "# Demo For A New Prototype Of JuliaBUGS\n",
    "\n",
    "We are exploring a lighter-weight compiler that does not rely on Symbolic Algebra System.\n",
    "\n",
    "## What do we gain?\n",
    "The new implementation is more modular and scalable. \n",
    "\n",
    "## The Symbolic-version of the compiler  "
   ]
  }
 ],
 "metadata": {
  "kernelspec": {
   "display_name": "Julia 1.8.5",
   "language": "julia",
   "name": "julia-1.8"
  },
  "language_info": {
   "file_extension": ".jl",
   "mimetype": "application/julia",
   "name": "julia",
   "version": "1.8.5"
  }
 },
 "nbformat": 4,
 "nbformat_minor": 5
}
