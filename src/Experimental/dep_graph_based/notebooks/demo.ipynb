{
 "cells": [
  {
   "cell_type": "markdown",
   "id": "315ebb06-6ada-4d0e-b61f-04bd0c6f541b",
   "metadata": {},
   "source": [
    "# Demo For A New Prototype Of JuliaBUGS\n",
    "\n",
    "We are exploring a lighter-weight compiler that does not rely on Symbolic Algebra System.\n",
    "\n",
    "## What do we gain?\n",
    "The new implementation is more modular and scalable. \n",
    "\n",
    "## Difference in Semantics\n",
    "Symbolic-version of the compiler extends the semantic of the BUGS language in the following ways:\n",
    "1. allowing using logical variable defined in the model specification almost anywhere in the model specification\n",
    "2. allowing generic expressions (e.g., function calls) in indices or loop bounds\n",
    "3. simplify model specification, provide the Symbolic algebra system\n",
    "\n",
    "But the price we pay is that we need to unroll all the for loops and keep a symbolic expression for every variables. In the case where that are many variables, this can be slow. \n",
    "Aiming at provide a compiler that's more modular and more performant, we made a new prototype closer to the original BUGS implementations.\n",
    "\n",
    "## Introducing passes\n",
    "We adopt the idea of passes from classical compiler optimizations. \n",
    "Here, in a single `pass` of the program AST, we extract some specific information of the program. \n",
    "Passes should do simple things, so that them can be combined in different ways to achieve different targets.\n",
    "\n",
    "## Passes we implemented\n",
    "For now, we have implemented three passes:\n",
    "1. collect variables: this pass enumerate all possible assignments by running the for loops"
   ]
  },
  {
   "cell_type": "code",
   "execution_count": 1,
   "id": "183ee313-8a60-42eb-ae14-59074ef61bdb",
   "metadata": {},
   "outputs": [
    {
     "name": "stderr",
     "output_type": "stream",
     "text": [
      "\u001b[36m\u001b[1m[ \u001b[22m\u001b[39m\u001b[36m\u001b[1mInfo: \u001b[22m\u001b[39mPrecompiling JuliaBUGS [d71a52e4-b6e4-48cf-ab6f-7c78c729c779]\n",
      "WARNING: ignoring conflicting import of JuliaBUGS.eval into Main\n"
     ]
    }
   ],
   "source": [
    "using Graphs, JuliaBUGS, Distributions\n",
    "using JuliaBUGS: CompilerPass, CollectVariables, DependencyGraph, NodeFunctions, program!, @bugsast, eval, Var, logjoint"
   ]
  },
  {
   "cell_type": "code",
   "execution_count": 2,
   "id": "c666f351-efbc-4c89-a395-efff0f70df5c",
   "metadata": {},
   "outputs": [
    {
     "data": {
      "text/plain": [
       "Dict{Symbol, Any} with 4 entries:\n",
       "  :a => 1\n",
       "  :b => 2\n",
       "  :d => [4, 5, 6]\n",
       "  :c => [1, 2, 3]"
      ]
     },
     "execution_count": 2,
     "metadata": {},
     "output_type": "execute_result"
    }
   ],
   "source": [
    "model_def = @bugsast begin\n",
    "    a ~ dnorm(0, 1)\n",
    "    b ~ dnorm(0, a)\n",
    "    for i in 1:N\n",
    "        c[i] ~ dnorm(a, b)\n",
    "    end\n",
    "    g = b * 2 + a\n",
    "    d[1:3] ~ dmnorm(e[1:3], f[1:3, 1:3])\n",
    "end\n",
    "\n",
    "data = Dict(:N => 3, :f => [1 0 0; 0 1 0; 0 0 1], :e => [1, 2, 3])\n",
    "initializations = Dict(:a => 1, :b => 2, :c => [1, 2, 3], :d => [4, 5, 6])"
   ]
  },
  {
   "cell_type": "code",
   "execution_count": 3,
   "id": "dfaf5931-c492-470d-9dd6-9e4ea3ed38db",
   "metadata": {},
   "outputs": [],
   "source": [
    "vars, arrays_map, var_types = program!(CollectVariables(), model_def, data);"
   ]
  },
  {
   "cell_type": "code",
   "execution_count": 4,
   "id": "148851cd-8604-46a1-b461-c9fabbf69e15",
   "metadata": {},
   "outputs": [
    {
     "data": {
      "text/plain": [
       "Vars(c[3] => 5, d[1] => 7, d[2] => 8, d[:] => 9, d[3] => 10, a => 1, g => 6, c[1] => 3, b => 2, c[2] => 4)"
      ]
     },
     "execution_count": 4,
     "metadata": {},
     "output_type": "execute_result"
    }
   ],
   "source": [
    "vars"
   ]
  },
  {
   "cell_type": "code",
   "execution_count": 5,
   "id": "ea684137-1649-4379-a986-58817b60a096",
   "metadata": {},
   "outputs": [
    {
     "data": {
      "text/plain": [
       "Dict{Any, Any} with 2 entries:\n",
       "  :d => [7, 8, 10]\n",
       "  :c => [3, 4, 5]"
      ]
     },
     "execution_count": 5,
     "metadata": {},
     "output_type": "execute_result"
    }
   ],
   "source": [
    "arrays_map"
   ]
  },
  {
   "cell_type": "code",
   "execution_count": 6,
   "id": "fb4ffac7-bf92-43a6-ae3a-a1beb129019a",
   "metadata": {},
   "outputs": [
    {
     "data": {
      "text/plain": [
       "Dict{Any, Any} with 10 entries:\n",
       "  c[3] => :stochastic\n",
       "  d[1] => :stochastic\n",
       "  d[2] => :stochastic\n",
       "  d[:] => :stochastic\n",
       "  d[3] => :stochastic\n",
       "  a    => :stochastic\n",
       "  g    => :logical\n",
       "  c[1] => :stochastic\n",
       "  b    => :stochastic\n",
       "  c[2] => :stochastic"
      ]
     },
     "execution_count": 6,
     "metadata": {},
     "output_type": "execute_result"
    }
   ],
   "source": [
    "var_types"
   ]
  },
  {
   "cell_type": "markdown",
   "id": "6c1a727c-bc3c-492c-ba88-265ae464c78f",
   "metadata": {},
   "source": [
    "2. construct a dependency graph: find the dependency relations between variables, this information can be used in Gibbs-type logdensity computation or to assist code generation in source-to-source transformation."
   ]
  },
  {
   "cell_type": "code",
   "execution_count": 7,
   "id": "a5de355c-4db9-46bc-a887-587ad3bede54",
   "metadata": {},
   "outputs": [],
   "source": [
    "vars, dep_graph = program!(DependencyGraph(vars, arrays_map), model_def, data);"
   ]
  },
  {
   "cell_type": "code",
   "execution_count": 8,
   "id": "64879e57-56a0-438e-b113-aaaf9faa3ea8",
   "metadata": {},
   "outputs": [
    {
     "data": {
      "text/plain": [
       "Vars(c[:] => 11, d[:] => 9, a => 1, b => 2, d[1] => 7, d[2] => 8, d[3] => 10, g => 6, c[2] => 4, c[3] => 5, c[1] => 3)"
      ]
     },
     "execution_count": 8,
     "metadata": {},
     "output_type": "execute_result"
    }
   ],
   "source": [
    "vars # we added a variable c[:] representing the array containing all the c variables"
   ]
  },
  {
   "cell_type": "code",
   "execution_count": 9,
   "id": "6d83d4d1-9563-49d6-92b6-72f00333aaae",
   "metadata": {},
   "outputs": [
    {
     "name": "stdout",
     "output_type": "stream",
     "text": [
      "a -> b\n",
      "a -> c[1]\n",
      "a -> c[2]\n",
      "a -> c[3]\n",
      "a -> g\n",
      "b -> c[1]\n",
      "b -> c[2]\n",
      "b -> c[3]\n",
      "b -> g\n",
      "c[1] -> c[:]\n",
      "c[2] -> c[:]\n",
      "c[3] -> c[:]\n",
      "d[:] -> d[1]\n",
      "d[:] -> d[2]\n",
      "d[:] -> d[3]\n"
     ]
    }
   ],
   "source": [
    "for e in edges(dep_graph)\n",
    "    println(vars.id_var_map[src(e)], \" -> \", vars.id_var_map[dst(e)])\n",
    "end"
   ]
  },
  {
   "cell_type": "markdown",
   "id": "9b5cb10c-69e4-4b30-82c8-556d2ece8064",
   "metadata": {},
   "source": [
    "3. determine node functions: for a logical variable, the node function will evaluate to a value that has the same type of the variable; for a stochastic variable, the node function will evaluate to a distribution object that can be scored."
   ]
  },
  {
   "cell_type": "code",
   "execution_count": 10,
   "id": "531433bb-3e7b-404c-947f-aab63917c344",
   "metadata": {},
   "outputs": [],
   "source": [
    "node_args, node_funcs = program!(NodeFunctions(), model_def, data, arrays_map);"
   ]
  },
  {
   "cell_type": "code",
   "execution_count": 11,
   "id": "e44cfa4b-67ef-4624-8cb3-bf055bfe6ce6",
   "metadata": {},
   "outputs": [
    {
     "data": {
      "text/plain": [
       "Dict{Any, Any} with 7 entries:\n",
       "  c[3] => Any[a, b]\n",
       "  d[:] => Any[]\n",
       "  a    => Any[]\n",
       "  g    => Any[a, b]\n",
       "  c[1] => Any[a, b]\n",
       "  b    => Any[a]\n",
       "  c[2] => Any[a, b]"
      ]
     },
     "execution_count": 11,
     "metadata": {},
     "output_type": "execute_result"
    }
   ],
   "source": [
    "node_args"
   ]
  },
  {
   "cell_type": "code",
   "execution_count": 13,
   "id": "e026f47f-86e1-497b-bbaa-ab591d9da190",
   "metadata": {},
   "outputs": [
    {
     "name": "stdout",
     "output_type": "stream",
     "text": [
      "c[3]: Any[a, b] -> #67\n",
      "d[:]: Any[] -> #71\n",
      "a: Any[] -> #63\n",
      "g: Any[a, b] -> #69\n",
      "c[1]: Any[a, b] -> #67\n",
      "b: Any[a] -> #65\n",
      "c[2]: Any[a, b] -> #67\n"
     ]
    }
   ],
   "source": [
    "for k in keys(node_funcs)\n",
    "    println(k, \": \", node_args[k], \" -> \", node_funcs[k])\n",
    "end"
   ]
  },
  {
   "cell_type": "code",
   "execution_count": 17,
   "id": "c06f6be0-3713-4c82-a464-e6428e4a32e9",
   "metadata": {},
   "outputs": [
    {
     "data": {
      "text/plain": [
       "CodeInfo(\n",
       "\u001b[90m1 ─\u001b[39m %1 = JuliaBUGS.dnorm(arg#292, arg#293)\n",
       "\u001b[90m└──\u001b[39m      return %1\n",
       ")"
      ]
     },
     "execution_count": 17,
     "metadata": {},
     "output_type": "execute_result"
    }
   ],
   "source": [
    "@code_lowered node_funcs[Var(:c, [1])](1, 2)"
   ]
  },
  {
   "cell_type": "code",
   "execution_count": 22,
   "id": "b0601a30-1039-46ba-b19b-b513d2b8df3d",
   "metadata": {},
   "outputs": [
    {
     "data": {
      "text/plain": [
       "CodeInfo(\n",
       "\u001b[90m1 ─\u001b[39m %1 = JuliaBUGS.MvNormal([1.0, 2.0, 3.0], [1.0 0.0 0.0; 0.0 1.0 0.0; 0.0 0.0 1.0])\n",
       "\u001b[90m└──\u001b[39m      return %1\n",
       ")"
      ]
     },
     "execution_count": 22,
     "metadata": {},
     "output_type": "execute_result"
    }
   ],
   "source": [
    "@code_lowered node_funcs[Var(:d, [1:3])]()"
   ]
  },
  {
   "cell_type": "markdown",
   "id": "7846d1ed-a407-4b46-a03f-6453c8ed9350",
   "metadata": {},
   "source": [
    "With the above intermediate result from the passes, evaluating the log joint probability is straightforward: traverse the nodes according to topological order and accumulate logdensity."
   ]
  },
  {
   "cell_type": "code",
   "execution_count": 20,
   "id": "afa8ba7b-cf33-4b15-ac12-d56b60f0b3b0",
   "metadata": {},
   "outputs": [
    {
     "data": {
      "text/plain": [
       "-27.311787494797468"
      ]
     },
     "execution_count": 20,
     "metadata": {},
     "output_type": "execute_result"
    }
   ],
   "source": [
    "# process initializations\n",
    "trace = Dict()\n",
    "for var in keys(var_types)\n",
    "    if var_types[var] == :stochastic\n",
    "        value = JuliaBUGS.eval(var, initializations)\n",
    "        isnothing(value) && (value = JuliaBUGS.eval(var, data))\n",
    "        trace[var] = value\n",
    "    end\n",
    "end\n",
    "\n",
    "# compute logjoint\n",
    "sorted_node = filter(x -> vars.id_var_map[x] in keys(node_funcs), topological_sort_by_dfs(dep_graph))\n",
    "logical_trace = Dict()\n",
    "logdensity = 0.0\n",
    "for s in sorted_node\n",
    "    v = vars.id_var_map[s]\n",
    "    arguments = []\n",
    "    for arg in node_args[v]\n",
    "        if arg in keys(trace)\n",
    "            push!(arguments, trace[arg])\n",
    "        else\n",
    "            push!(arguments, logical_trace[arg])\n",
    "        end\n",
    "    end\n",
    "    if var_types[v] == :logical\n",
    "        logical_trace[v] = Base.invokelatest(node_funcs[v], arguments...)\n",
    "    else\n",
    "        logdensity += logpdf(Base.invokelatest(node_funcs[v], arguments...), trace[v])\n",
    "    end\n",
    "end\n",
    "return logdensity"
   ]
  }
 ],
 "metadata": {
  "kernelspec": {
   "display_name": "Julia 1.7.3",
   "language": "julia",
   "name": "julia-1.7"
  },
  "language_info": {
   "file_extension": ".jl",
   "mimetype": "application/julia",
   "name": "julia",
   "version": "1.7.3"
  }
 },
 "nbformat": 4,
 "nbformat_minor": 5
}
