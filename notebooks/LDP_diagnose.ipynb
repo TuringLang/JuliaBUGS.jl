{
 "cells": [
  {
   "cell_type": "markdown",
   "id": "4d5fff28-b7b0-4d8e-91cc-bf636c211987",
   "metadata": {},
   "source": [
    "## JuliaBUGS"
   ]
  },
  {
   "cell_type": "code",
   "execution_count": 1,
   "id": "867ee90d-3201-4907-be80-478a0d0557cc",
   "metadata": {},
   "outputs": [
    {
     "name": "stderr",
     "output_type": "stream",
     "text": [
      "\u001b[36m\u001b[1m[ \u001b[22m\u001b[39m\u001b[36m\u001b[1mInfo: \u001b[22m\u001b[39mPrecompiling JuliaBUGS [ba9fb4c0-828e-4473-b6a1-cd2560fee5bf]\n"
     ]
    }
   ],
   "source": [
    "using Revise\n",
    "using Graphs, JuliaBUGS, Distributions\n",
    "using JuliaBUGS:\n",
    "    CollectVariables,\n",
    "    DependencyGraph,\n",
    "    NodeFunctions,\n",
    "    ArrayElement,\n",
    "    ArraySlice,\n",
    "    ArrayVariable,\n",
    "    program!"
   ]
  },
  {
   "cell_type": "code",
   "execution_count": 12,
   "id": "3f2f5c64-6e62-45bb-b6aa-181dfc27ae39",
   "metadata": {},
   "outputs": [
    {
     "data": {
      "text/plain": [
       "Dict{Symbol, Any} with 7 entries:\n",
       "  :alpha     => [25.0, 25.0, 25.0, 25.0, 25.0, 25.0, 25.0, 25.0, 25.0, 25.0  … …\n",
       "  :beta      => [0.6, 0.6, 0.6, 0.6, 0.6, 0.6, 0.6, 0.6, 0.6, 0.6  …  0.6, 0.6,…\n",
       "  :beta_c    => 1.0\n",
       "  :tau_c     => 0.1\n",
       "  :alpha_tau => 0.1\n",
       "  :beta_tau  => 0.1\n",
       "  :alpha_c   => 15.0"
      ]
     },
     "execution_count": 12,
     "metadata": {},
     "output_type": "execute_result"
    }
   ],
   "source": [
    "model_def = @bugsast begin\n",
    "    for i in 1:N\n",
    "        for j in 1:T\n",
    "            Y[i, j] ~ dnorm(mu[i, j], tau_c)\n",
    "            mu[i, j] = alpha[i] + beta[i] * (x[j] - xbar)\n",
    "        end\n",
    "        alpha[i] ~ dnorm(alpha_c, alpha_tau)\n",
    "        beta[i] ~ dnorm(beta_c, beta_tau)\n",
    "    end\n",
    "    tau_c ~ dgamma(0.001, 0.001)\n",
    "    sigma = 1 / sqrt(tau_c)\n",
    "    alpha_c ~ dnorm(0.0, 1.0E-6)\n",
    "    alpha_tau ~ dgamma(0.001, 0.001)\n",
    "    beta_c ~ dnorm(0.0, 1.0E-6)\n",
    "    beta_tau ~ dgamma(0.001, 0.001)\n",
    "    alpha0 = alpha_c - xbar * beta_c\n",
    "end\n",
    "\n",
    "## data\n",
    "x = [8.0, 15.0, 22.0, 29.0, 36.0]\n",
    "xbar = 22\n",
    "N = 30\n",
    "T = 5\n",
    "Y = [\n",
    "    151 199 246 283 320\n",
    "    145 199 249 293 354\n",
    "    147 214 263 312 328\n",
    "    155 200 237 272 297\n",
    "    135 188 230 280 323\n",
    "    159 210 252 298 331\n",
    "    141 189 231 275 305\n",
    "    159 201 248 297 338\n",
    "    177 236 285 350 376\n",
    "    134 182 220 260 296\n",
    "    160 208 261 313 352\n",
    "    143 188 220 273 314\n",
    "    154 200 244 289 325\n",
    "    171 221 270 326 358\n",
    "    163 216 242 281 312\n",
    "    160 207 248 288 324\n",
    "    142 187 234 280 316\n",
    "    156 203 243 283 317\n",
    "    157 212 259 307 336\n",
    "    152 203 246 286 321\n",
    "    154 205 253 298 334\n",
    "    139 190 225 267 302\n",
    "    146 191 229 272 302\n",
    "    157 211 250 285 323\n",
    "    132 185 237 286 331\n",
    "    160 207 257 303 345\n",
    "    169 216 261 295 333\n",
    "    157 205 248 289 316\n",
    "    137 180 219 258 291\n",
    "    153 200 244 286 324\n",
    "]\n",
    "\n",
    "data = Dict(:x => x, :xbar => xbar, :Y => Y, :N => N, :T => T)\n",
    "\n",
    "# initializations\n",
    "alpha = ones(Integer, 30) .* 250\n",
    "beta = ones(Integer, 30) .* 6\n",
    "alpha_c = 150\n",
    "beta_c = 10\n",
    "tau_c = 1\n",
    "alpha_tau = 1\n",
    "beta_tau = 1\n",
    "\n",
    "initializations = Dict(\n",
    "    :alpha => alpha,\n",
    "    :beta => beta,\n",
    "    :alpha_c => alpha_c,\n",
    "    :beta_c => beta_c,\n",
    "    :tau_c => tau_c,\n",
    "    :alpha_tau => alpha_tau,\n",
    "    :beta_tau => beta_tau,\n",
    ");\n",
    "\n",
    "initializations_2 = Dict(\n",
    "    :alpha => alpha ./ 10,\n",
    "    :beta => beta ./ 10,\n",
    "    :alpha_c => alpha_c / 10,\n",
    "    :beta_c => beta_c /10,\n",
    "    :tau_c => tau_c / 10,\n",
    "    :alpha_tau => alpha_tau / 10,\n",
    "    :beta_tau => beta_tau / 10,\n",
    ")"
   ]
  },
  {
   "cell_type": "code",
   "execution_count": 3,
   "id": "f9ba31b5-424c-4aab-901c-507c31cd488a",
   "metadata": {},
   "outputs": [],
   "source": [
    "vars, array_map, var_types = program!(CollectVariables(), model_def, data);\n",
    "dep_graph = program!(DependencyGraph(vars, array_map), model_def, data);\n",
    "node_args, node_functions, link_functions = program!(NodeFunctions(vars, array_map), model_def, data);"
   ]
  },
  {
   "cell_type": "code",
   "execution_count": 13,
   "id": "03dea67e-bbec-40fd-ba9a-07a8975fb91a",
   "metadata": {},
   "outputs": [],
   "source": [
    "# m = JuliaBUGS.BUGSModel(vars, array_map, var_types, dep_graph, node_args, node_functions, link_functions, data, initializations);\n",
    "m = JuliaBUGS.BUGSModel(vars, array_map, var_types, dep_graph, node_args, node_functions, link_functions, data, initializations_2);\n",
    "trace = m.trace; # initial trace, value copmuted according to data and initializations\n",
    "parameters = m.parameters; # parameter is a Vector{Var}"
   ]
  },
  {
   "cell_type": "code",
   "execution_count": 14,
   "id": "4f60c657-c415-49a0-bbed-6c436ed87327",
   "metadata": {},
   "outputs": [],
   "source": [
    "# struct BUGSLogDensityProblem \n",
    "#     m::BUGSModel\n",
    "# end\n",
    "p = JuliaBUGS.BUGSLogDensityProblem(m);"
   ]
  },
  {
   "cell_type": "code",
   "execution_count": 15,
   "id": "96bac4e7-33f3-442b-b464-d737251b3d7e",
   "metadata": {},
   "outputs": [
    {
     "data": {
      "text/plain": [
       "65-element Vector{Float64}:\n",
       " -2.3025850929940455\n",
       " 25.0\n",
       " 25.0\n",
       " 25.0\n",
       " 25.0\n",
       " 25.0\n",
       " 25.0\n",
       " 25.0\n",
       " 25.0\n",
       " 25.0\n",
       " 25.0\n",
       " 25.0\n",
       " 25.0\n",
       "  ⋮\n",
       "  0.6\n",
       "  0.6\n",
       "  0.6\n",
       "  0.6\n",
       "  0.6\n",
       "  0.6\n",
       "  0.6\n",
       "  0.6\n",
       "  0.6\n",
       "  0.6\n",
       "  0.6\n",
       "  1.0"
      ]
     },
     "execution_count": 15,
     "metadata": {},
     "output_type": "execute_result"
    }
   ],
   "source": [
    "initial_θ = JuliaBUGS.transform_and_flatten(trace, parameters, m.bijectors)"
   ]
  },
  {
   "cell_type": "code",
   "execution_count": 16,
   "id": "f116b36f-0d0a-4f35-a88e-7c86227b65bc",
   "metadata": {},
   "outputs": [
    {
     "data": {
      "text/plain": [
       "-380769.7837397601"
      ]
     },
     "execution_count": 16,
     "metadata": {},
     "output_type": "execute_result"
    }
   ],
   "source": [
    "p(initial_θ) # compute log_joint"
   ]
  },
  {
   "cell_type": "code",
   "execution_count": 17,
   "id": "3401b6b4-2175-4eba-b241-9b3d38b7de29",
   "metadata": {},
   "outputs": [
    {
     "data": {
      "text/plain": [
       "65-element Vector{Float64}:\n",
       " -380081.2991\n",
       "     106.4\n",
       "     110.5\n",
       "     112.9\n",
       "     102.60000000000001\n",
       "     102.10000000000002\n",
       "     111.50000000000001\n",
       "     100.60000000000002\n",
       "     110.80000000000001\n",
       "     128.90000000000003\n",
       "      95.7\n",
       "     115.9\n",
       "     100.30000000000001\n",
       "       ⋮\n",
       "     265.3400000000001\n",
       "     287.7400000000002\n",
       "     252.74000000000004\n",
       "     245.74\n",
       "     254.84000000000015\n",
       "     319.9400000000001\n",
       "     296.84000000000015\n",
       "     255.54000000000008\n",
       "     252.0400000000001\n",
       "     240.84000000000012\n",
       "     270.24000000000007\n",
       "      -1.2000010000000008"
      ]
     },
     "execution_count": 17,
     "metadata": {},
     "output_type": "execute_result"
    }
   ],
   "source": [
    "using ReverseDiff\n",
    "g = ReverseDiff.gradient(p, initial_θ)"
   ]
  },
  {
   "cell_type": "code",
   "execution_count": 9,
   "id": "7698484f-0109-473d-b3c1-545ea655a651",
   "metadata": {},
   "outputs": [
    {
     "name": "stdout",
     "output_type": "stream",
     "text": [
      "Variable  Initial_value  Gradient  \n",
      "tau_c  0.0  -23486.0\n",
      "alpha[1]  250.0  -151.0\n",
      "alpha[2]  250.0  -110.0\n",
      "alpha[3]  250.0  -86.0\n",
      "alpha[4]  250.0  -189.0\n",
      "alpha[5]  250.0  -194.0\n",
      "alpha[6]  250.0  -100.0\n",
      "alpha[7]  250.0  -209.0\n",
      "alpha[8]  250.0  -107.0\n",
      "alpha[9]  250.0  74.0\n",
      "alpha[10]  250.0  -258.0\n",
      "alpha[11]  250.0  -56.0\n",
      "alpha[12]  250.0  -212.0\n",
      "alpha[13]  250.0  -138.0\n",
      "alpha[14]  250.0  -4.0\n",
      "alpha[15]  250.0  -136.0\n",
      "alpha[16]  250.0  -123.0\n",
      "alpha[17]  250.0  -191.0\n",
      "alpha[18]  250.0  -148.0\n",
      "alpha[19]  250.0  -79.0\n",
      "alpha[20]  250.0  -142.0\n",
      "alpha[21]  250.0  -106.0\n",
      "alpha[22]  250.0  -227.0\n",
      "alpha[23]  250.0  -210.0\n",
      "alpha[24]  250.0  -124.0\n",
      "alpha[25]  250.0  -179.0\n",
      "alpha[26]  250.0  -78.0\n",
      "alpha[27]  250.0  -76.0\n",
      "alpha[28]  250.0  -135.0\n",
      "alpha[29]  250.0  -265.0\n",
      "alpha[30]  250.0  -143.0\n",
      "beta_tau  0.0  -226.0\n",
      "alpha_tau  0.0  -149986.0\n",
      "alpha_c  150.0  2999.99985\n",
      "beta[2]  6.0  648.0\n",
      "beta[1]  6.0  18.0\n",
      "beta[3]  6.0  284.0\n",
      "beta[4]  6.0  -444.0\n",
      "beta[5]  6.0  340.0\n",
      "beta[6]  6.0  88.0\n",
      "beta[7]  6.0  -38.0\n",
      "beta[8]  6.0  242.0\n",
      "beta[9]  6.0  648.0\n",
      "beta[10]  6.0  -122.0\n",
      "beta[11]  6.0  487.0\n",
      "beta[12]  6.0  53.0\n",
      "beta[13]  6.0  81.0\n",
      "beta[14]  6.0  417.0\n",
      "beta[15]  6.0  -395.0\n",
      "beta[16]  6.0  -73.0\n",
      "beta[17]  6.0  151.0\n",
      "beta[18]  6.0  -122.0\n",
      "beta[19]  6.0  235.0\n",
      "beta[20]  6.0  11.0\n",
      "beta[21]  6.0  235.0\n",
      "beta[22]  6.0  -115.0\n",
      "beta[23]  6.0  -185.0\n",
      "beta[24]  6.0  -94.0\n",
      "beta[25]  6.0  557.0\n",
      "beta[26]  6.0  326.0\n",
      "beta[27]  6.0  -87.0\n",
      "beta[28]  6.0  -122.0\n",
      "beta[29]  6.0  -234.0\n",
      "beta[30]  6.0  60.0\n",
      "beta_c  10.0  -120.00001\n"
     ]
    }
   ],
   "source": [
    "println(\"Variable\", \"  Initial_value\", \"  Gradient  \")\n",
    "for i in 1:65\n",
    "    println(parameters[i], \"  \", initial_θ[i], \"  \", g[i])\n",
    "end"
   ]
  },
  {
   "cell_type": "code",
   "execution_count": 18,
   "id": "755879b6-05ac-481f-ad51-36edb06f6e32",
   "metadata": {},
   "outputs": [
    {
     "name": "stderr",
     "output_type": "stream",
     "text": [
      "\u001b[33m\u001b[1m┌ \u001b[22m\u001b[39m\u001b[33m\u001b[1mWarning: \u001b[22m\u001b[39mProgressMeter by default refresh meters with additional information in IJulia via `IJulia.clear_output`, which clears all outputs in the cell. \n",
      "\u001b[33m\u001b[1m│ \u001b[22m\u001b[39m - To prevent this behaviour, do `ProgressMeter.ijulia_behavior(:append)`. \n",
      "\u001b[33m\u001b[1m│ \u001b[22m\u001b[39m - To disable this warning message, do `ProgressMeter.ijulia_behavior(:clear)`.\n",
      "\u001b[33m\u001b[1m└ \u001b[22m\u001b[39m\u001b[90m@ ProgressMeter ~/.julia/packages/ProgressMeter/sN2xr/src/ProgressMeter.jl:618\u001b[39m\n",
      "\u001b[32mSampling 100%|███████████████████████████████| Time: 0:13:17\u001b[39m\n",
      "\u001b[34m  iterations:                                   2000\u001b[39m\n",
      "\u001b[34m  ratio_divergent_transitions:                  0.0\u001b[39m\n",
      "\u001b[34m  ratio_divergent_transitions_during_adaption:  0.01\u001b[39m\n",
      "\u001b[34m  n_steps:                                      7\u001b[39m\n",
      "\u001b[34m  is_accept:                                    true\u001b[39m\n",
      "\u001b[34m  acceptance_rate:                              0.9586021194371614\u001b[39m\n",
      "\u001b[34m  log_density:                                  -651.510537827625\u001b[39m\n",
      "\u001b[34m  hamiltonian_energy:                           677.585581667357\u001b[39m\n",
      "\u001b[34m  hamiltonian_energy_error:                     -0.0559113310940802\u001b[39m\n",
      "\u001b[34m  max_hamiltonian_energy_error:                 -0.2371907772438817\u001b[39m\n",
      "\u001b[34m  tree_depth:                                   3\u001b[39m\n",
      "\u001b[34m  numerical_error:                              false\u001b[39m\n",
      "\u001b[34m  step_size:                                    0.43481689614534524\u001b[39m\n",
      "\u001b[34m  nom_step_size:                                0.43481689614534524\u001b[39m\n",
      "\u001b[34m  is_adapt:                                     false\u001b[39m\n",
      "\u001b[34m  mass_matrix:                                  DiagEuclideanMetric([0.02124272273622564, 6.532 ...])\u001b[39m\n",
      "\u001b[36m\u001b[1m┌ \u001b[22m\u001b[39m\u001b[36m\u001b[1mInfo: \u001b[22m\u001b[39mFinished 2000 sampling steps for 1 chains in 797.996039702 (s)\n",
      "\u001b[36m\u001b[1m│ \u001b[22m\u001b[39m  h = Hamiltonian(metric=DiagEuclideanMetric([0.02124272273622564, 6.532 ...]), kinetic=GaussianKinetic())\n",
      "\u001b[36m\u001b[1m│ \u001b[22m\u001b[39m  κ = HMCKernel{AdvancedHMC.FullMomentumRefreshment, Trajectory{MultinomialTS, Leapfrog{Float64}, GeneralisedNoUTurn{Float64}}}(AdvancedHMC.FullMomentumRefreshment(), Trajectory{MultinomialTS}(integrator=Leapfrog(ϵ=0.435), tc=GeneralisedNoUTurn{Float64}(10, 1000.0)))\n",
      "\u001b[36m\u001b[1m│ \u001b[22m\u001b[39m  EBFMI_est = 0.8454927041780025\n",
      "\u001b[36m\u001b[1m└ \u001b[22m\u001b[39m  average_acceptance_rate = 0.871918081574918\n"
     ]
    }
   ],
   "source": [
    "using AdvancedHMC\n",
    "using ReverseDiff\n",
    "\n",
    "D = length(initial_θ)\n",
    "n_samples, n_adapts = 2000, 1000\n",
    "\n",
    "metric = DiagEuclideanMetric(D)\n",
    "hamiltonian = Hamiltonian(metric, p, :ReverseDiff)\n",
    "\n",
    "initial_ϵ = find_good_stepsize(hamiltonian, initial_θ)\n",
    "integrator = Leapfrog(initial_ϵ)\n",
    "proposal = NUTS{MultinomialTS, GeneralisedNoUTurn}(integrator)\n",
    "adaptor = StanHMCAdaptor(MassMatrixAdaptor(metric), StepSizeAdaptor(0.8, integrator))\n",
    "\n",
    "samples, stats = sample(hamiltonian, proposal, initial_θ, n_samples, adaptor, n_adapts; drop_warmup=true, progress=true);"
   ]
  },
  {
   "cell_type": "code",
   "execution_count": 19,
   "id": "e0751cb6-fa98-450a-9f37-e9f2125d6dde",
   "metadata": {},
   "outputs": [
    {
     "data": {
      "text/plain": [
       "(6.140193826602948, 0.2534543378959439)"
      ]
     },
     "execution_count": 19,
     "metadata": {},
     "output_type": "execute_result"
    }
   ],
   "source": [
    "beta_c_samples = [samples[s][64] for s in 1:length(samples)]\n",
    "stats = mean(beta_c_samples), std(beta_c_samples) # Reference result: mean 6.186, variance 0.1088"
   ]
  }
 ],
 "metadata": {
  "kernelspec": {
   "display_name": "Julia nodeps 1.9.0-beta4",
   "language": "julia",
   "name": "julia-nodeps-1.9"
  },
  "language_info": {
   "file_extension": ".jl",
   "mimetype": "application/julia",
   "name": "julia",
   "version": "1.9.0"
  }
 },
 "nbformat": 4,
 "nbformat_minor": 5
}
