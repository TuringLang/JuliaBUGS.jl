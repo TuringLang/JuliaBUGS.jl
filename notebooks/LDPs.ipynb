{
 "cells": [
  {
   "cell_type": "markdown",
   "id": "627ea853-7dbe-420f-8d25-1e9980fafe3f",
   "metadata": {},
   "source": [
    "# Recipes For Translating A BUGS Model To LogDensityProblems"
   ]
  },
  {
   "cell_type": "markdown",
   "id": "ec84e4ff-2111-42b7-bcc2-530af837dd1f",
   "metadata": {},
   "source": [
    "# `Rats` Model"
   ]
  },
  {
   "cell_type": "markdown",
   "id": "c7d128af-129b-4d50-989d-4ed10ec0e5df",
   "metadata": {},
   "source": [
    "## JuliaBUGS Model Definition\n",
    "```julia\n",
    "@bugsast begin\n",
    "    for i in 1:N\n",
    "        for j in 1:T\n",
    "            Y[i, j] ~ dnorm(mu[i, j], tau_c)\n",
    "            mu[i, j] = alpha[i] + beta[i] * (x[j] - xbar)\n",
    "        end\n",
    "        alpha[i] ~ dnorm(alpha_c, alpha_tau)\n",
    "        beta[i] ~ dnorm(beta_c, beta_tau)\n",
    "    end\n",
    "    tau_c ~ dgamma(0.001, 0.001)\n",
    "    sigma = 1 / sqrt(tau_c)\n",
    "    alpha_c ~ dnorm(0.0, 1.0E-6)\n",
    "    alpha_tau ~ dgamma(0.001, 0.001)\n",
    "    beta_c ~ dnorm(0.0, 1.0E-6)\n",
    "    beta_tau ~ dgamma(0.001, 0.001)\n",
    "    alpha0 = alpha_c - xbar * beta_c\n",
    "end\n",
    "```"
   ]
  },
  {
   "cell_type": "code",
   "execution_count": 1,
   "id": "158403c9-5fb9-4549-a4ee-ba34da79305e",
   "metadata": {},
   "outputs": [],
   "source": [
    "using LogDensityProblems\n",
    "using UnPack\n",
    "using Distributions\n",
    "using ReverseDiff\n",
    "using JuliaBUGS.BUGSPrimitives"
   ]
  },
  {
   "cell_type": "code",
   "execution_count": 20,
   "id": "7276d62a-c0f6-4d75-8097-0cc99c8633bc",
   "metadata": {},
   "outputs": [],
   "source": [
    "# data\n",
    "x = [8.0, 15.0, 22.0, 29.0, 36.0]\n",
    "xbar = 22\n",
    "N = 30\n",
    "T = 5\n",
    "Y = [\n",
    "    151 199 246 283 320\n",
    "    145 199 249 293 354\n",
    "    147 214 263 312 328\n",
    "    155 200 237 272 297\n",
    "    135 188 230 280 323\n",
    "    159 210 252 298 331\n",
    "    141 189 231 275 305\n",
    "    159 201 248 297 338\n",
    "    177 236 285 350 376\n",
    "    134 182 220 260 296\n",
    "    160 208 261 313 352\n",
    "    143 188 220 273 314\n",
    "    154 200 244 289 325\n",
    "    171 221 270 326 358\n",
    "    163 216 242 281 312\n",
    "    160 207 248 288 324\n",
    "    142 187 234 280 316\n",
    "    156 203 243 283 317\n",
    "    157 212 259 307 336\n",
    "    152 203 246 286 321\n",
    "    154 205 253 298 334\n",
    "    139 190 225 267 302\n",
    "    146 191 229 272 302\n",
    "    157 211 250 285 323\n",
    "    132 185 237 286 331\n",
    "    160 207 257 303 345\n",
    "    169 216 261 295 333\n",
    "    157 205 248 289 316\n",
    "    137 180 219 258 291\n",
    "    153 200 244 286 324\n",
    "]\n",
    "\n",
    "# parameters\n",
    "alpha = ones(Integer, 30) .* 250\n",
    "beta = ones(Integer, 30) .* 6\n",
    "alpha_c = 150\n",
    "beta_c = 10\n",
    "tau_c = 1\n",
    "alpha_tau = 1\n",
    "beta_tau = 1\n",
    "\n",
    "alpha = ones(Integer, 30) .* 25\n",
    "beta = ones(Integer, 30) .* 0.6\n",
    "alpha_c = 15\n",
    "beta_c = 1\n",
    "tau_c = 0.1\n",
    "alpha_tau = 0.1\n",
    "beta_tau = 0.1\n",
    "\n",
    "initializations = Dict(\n",
    "    :alpha => alpha,\n",
    "    :beta => beta,\n",
    "    :alpha_c => alpha_c,\n",
    "    :beta_c => beta_c,\n",
    "    :tau_c => tau_c,\n",
    "    :alpha_tau => alpha_tau,\n",
    "    :beta_tau => beta_tau,\n",
    ");"
   ]
  },
  {
   "cell_type": "code",
   "execution_count": 12,
   "id": "a7295943-a2de-4387-bf3e-9f884744de46",
   "metadata": {},
   "outputs": [],
   "source": [
    "# `LogDensityProblems` type definition: put data here\n",
    "struct Rats\n",
    "    x\n",
    "    xbar::Float64\n",
    "    Y\n",
    "    N::Int\n",
    "    T::Int\n",
    "end"
   ]
  },
  {
   "cell_type": "markdown",
   "id": "2c36d8dd-d270-4d76-af5e-32fc388b4294",
   "metadata": {
    "tags": []
   },
   "source": [
    "# With [AdvancedHMC.jl](https://github.com/TuringLang/AdvancedHMC.jl)"
   ]
  },
  {
   "cell_type": "markdown",
   "id": "c0af4801-0720-41a8-b933-a774e92263df",
   "metadata": {},
   "source": [
    "HMC needs parameters to be unconfined, the second argument of function `dnorm` is required to be positive. We can use the package [`Bijectors.jl`](https://github.com/TuringLang/Bijectors.jl)."
   ]
  },
  {
   "cell_type": "code",
   "execution_count": 17,
   "id": "b44d8b10-57de-43bc-8216-cb07b1a8e40f",
   "metadata": {},
   "outputs": [],
   "source": [
    "using Bijectors\n",
    "b = Bijectors.Log{0}()\n",
    "b⁻¹ = Bijectors.Exp{0}();"
   ]
  },
  {
   "cell_type": "code",
   "execution_count": 21,
   "id": "7db83d97-dbca-49c9-86e3-a8ba0bc8d179",
   "metadata": {},
   "outputs": [],
   "source": [
    "# parameters should live in unconstrained space, do the transformation first\n",
    "tau_c = b(initializations[:tau_c]) # 1 => 0\n",
    "alpha_tau = b(initializations[:alpha_tau]) # 1 => 0\n",
    "beta_tau = b(initializations[:beta_tau]); # 1 => 0"
   ]
  },
  {
   "cell_type": "code",
   "execution_count": 8,
   "id": "d87bfea0-2935-47c0-bbd3-405e8956bafe",
   "metadata": {},
   "outputs": [],
   "source": [
    "function (problem::Rats)(parameters)\n",
    "    @unpack x, xbar, Y, N, T = problem\n",
    "    alpha, beta, tau_c, alpha_c, alpha_tau, beta_c, beta_tau = parameters[1:N], parameters[N+1:2N], parameters[2N+1:end]... # parameters are linearized\n",
    "\n",
    "    b⁻¹ = Bijectors.Exp{0}()\n",
    "    tau_c = b⁻¹(tau_c)\n",
    "    alpha_tau = b⁻¹(alpha_tau)\n",
    "    beta_tau = b⁻¹(beta_tau)\n",
    "    \n",
    "    loglikelihood = 0.0\n",
    "    for i in 1:N\n",
    "        for j in 1:T\n",
    "            mu_i_j = alpha[i] + beta[i] * (x[j] - xbar)\n",
    "            loglikelihood += logpdf(dnorm(mu_i_j, tau_c), Y[i, j])\n",
    "        end\n",
    "    end\n",
    "    for i in 1:N\n",
    "        loglikelihood += logpdf(dnorm(alpha_c, alpha_tau), alpha[i])\n",
    "        loglikelihood += logpdf(dnorm(beta_c, beta_tau), beta[i])\n",
    "    end\n",
    "\n",
    "    loglikelihood += logpdf(dgamma(0.001, 0.001), tau_c)\n",
    "    loglikelihood += logpdf(dnorm(0.0, 1.0E-6), alpha_c)\n",
    "    loglikelihood += logpdf(dgamma(0.001, 0.001), alpha_tau)\n",
    "    loglikelihood += logpdf(dnorm(0.0, 1.0E-6), beta_c)\n",
    "    loglikelihood += logpdf(dgamma(0.001, 0.001), beta_tau)\n",
    "    return loglikelihood\n",
    "end\n",
    "\n",
    "function LogDensityProblems.logdensity(p::Rats, parameters)\n",
    "    return p(parameters)\n",
    "end\n",
    "\n",
    "function LogDensityProblems.capabilities(::Type{<:Rats})\n",
    "    return LogDensityProblems.LogDensityOrder{1}()\n",
    "end\n",
    "\n",
    "function LogDensityProblems.dimension(p::Rats)\n",
    "    @unpack x, xbar, Y, N, T = p\n",
    "    return N + N + 1 + 1 + 1 + 1 + 1\n",
    "end"
   ]
  },
  {
   "cell_type": "code",
   "execution_count": 22,
   "id": "4201dddf-d7a9-4165-923d-26dc98dab2fe",
   "metadata": {},
   "outputs": [
    {
     "data": {
      "text/plain": [
       "-380769.7837397596"
      ]
     },
     "execution_count": 22,
     "metadata": {},
     "output_type": "execute_result"
    }
   ],
   "source": [
    "p = Rats(x, xbar, Y, N, T)\n",
    "initial_θ = convert(Array{Float64}, vcat(alpha, beta, tau_c, alpha_c, alpha_tau, beta_c, beta_tau))\n",
    "p(initial_θ)"
   ]
  },
  {
   "cell_type": "code",
   "execution_count": 10,
   "id": "f5420742-738a-4cd6-ab84-8e744d52faae",
   "metadata": {},
   "outputs": [
    {
     "data": {
      "text/plain": [
       "65-element Vector{Float64}:\n",
       "    -151.0\n",
       "    -110.0\n",
       "     -86.0\n",
       "    -189.0\n",
       "    -194.0\n",
       "    -100.0\n",
       "    -209.0\n",
       "    -107.0\n",
       "      74.0\n",
       "    -258.0\n",
       "     -56.0\n",
       "    -212.0\n",
       "    -138.0\n",
       "       ⋮\n",
       "     -94.0\n",
       "     557.0\n",
       "     326.0\n",
       "     -87.0\n",
       "    -122.0\n",
       "    -234.0\n",
       "      60.0\n",
       "  -23486.0\n",
       "    2999.99985\n",
       " -149986.0\n",
       "    -120.00001\n",
       "    -226.0"
      ]
     },
     "execution_count": 10,
     "metadata": {},
     "output_type": "execute_result"
    }
   ],
   "source": [
    "# check gradient\n",
    "using ReverseDiff\n",
    "g = ReverseDiff.gradient(p, initial_θ)"
   ]
  },
  {
   "cell_type": "code",
   "execution_count": 11,
   "id": "6fe3089c-7d78-48a3-975a-7f9dfabfceb2",
   "metadata": {},
   "outputs": [
    {
     "data": {
      "text/plain": [
       "([-151.0, -110.0, -86.0, -189.0, -194.0, -100.0, -209.0, -107.0, 74.0, -258.0  …  -106.0, -227.0, -210.0, -124.0, -179.0, -78.0, -76.0, -135.0, -265.0, -143.0], [18.0, 648.0, 284.0, -444.0, 340.0, 88.0, -38.0, 242.0, 648.0, -122.0  …  235.0, -115.0, -185.0, -94.0, 557.0, 326.0, -87.0, -122.0, -234.0, 60.0], -23486.0, 2999.99985, -149986.0, -120.00001, -226.0)"
      ]
     },
     "execution_count": 11,
     "metadata": {},
     "output_type": "execute_result"
    }
   ],
   "source": [
    "alpha_g, beta_g, tau_c_g, alpha_c_g, alpha_tau_g, beta_c_g, beta_tau_g = g[1:N], g[N+1:2N], g[2N+1:end]..."
   ]
  },
  {
   "cell_type": "code",
   "execution_count": 14,
   "id": "e937cecc-dd11-4687-b585-23c408f88b56",
   "metadata": {},
   "outputs": [
    {
     "name": "stdout",
     "output_type": "stream",
     "text": [
      "alpha\n",
      "values [250, 250, 250, 250, 250, 250, 250, 250, 250, 250, 250, 250, 250, 250, 250, 250, 250, 250, 250, 250, 250, 250, 250, 250, 250, 250, 250, 250, 250, 250]\n",
      "gradients [-151.0, -110.0, -86.0, -189.0, -194.0, -100.0, -209.0, -107.0, 74.0, -258.0, -56.0, -212.0, -138.0, -4.0, -136.0, -123.0, -191.0, -148.0, -79.0, -142.0, -106.0, -227.0, -210.0, -124.0, -179.0, -78.0, -76.0, -135.0, -265.0, -143.0]\n",
      "\n",
      "beta\n",
      "values [6, 6, 6, 6, 6, 6, 6, 6, 6, 6, 6, 6, 6, 6, 6, 6, 6, 6, 6, 6, 6, 6, 6, 6, 6, 6, 6, 6, 6, 6]\n",
      "gradients [18.0, 648.0, 284.0, -444.0, 340.0, 88.0, -38.0, 242.0, 648.0, -122.0, 487.0, 53.0, 81.0, 417.0, -395.0, -73.0, 151.0, -122.0, 235.0, 11.0, 235.0, -115.0, -185.0, -94.0, 557.0, 326.0, -87.0, -122.0, -234.0, 60.0]\n",
      "\n",
      "tau_c\n",
      "values 0.0\n",
      "gradients -23486.0\n",
      "\n",
      "alpha_c\n",
      "values 150\n",
      "gradients 2999.99985\n",
      "\n",
      "alpha_tau\n",
      "values 0.0\n",
      "gradients -149986.0\n",
      "\n",
      "beta_c\n",
      "values 10\n",
      "gradients -120.00001\n",
      "\n",
      "beta_tau\n",
      "values 0.0\n",
      "gradients -226.0\n",
      "\n"
     ]
    }
   ],
   "source": [
    "for v in [:alpha, :beta, :tau_c, :alpha_c, :alpha_tau, :beta_c, :beta_tau]\n",
    "    println(v)\n",
    "    println(\"values \", eval(v))\n",
    "    println(\"gradients \", eval(Symbol(String(v) * \"_g\")))\n",
    "    println()\n",
    "end"
   ]
  },
  {
   "cell_type": "code",
   "execution_count": 15,
   "id": "db3fb413-381b-4290-8a14-312f4d49a425",
   "metadata": {},
   "outputs": [
    {
     "name": "stderr",
     "output_type": "stream",
     "text": [
      "\u001b[33m\u001b[1m┌ \u001b[22m\u001b[39m\u001b[33m\u001b[1mWarning: \u001b[22m\u001b[39mProgressMeter by default refresh meters with additional information in IJulia via `IJulia.clear_output`, which clears all outputs in the cell. \n",
      "\u001b[33m\u001b[1m│ \u001b[22m\u001b[39m - To prevent this behaviour, do `ProgressMeter.ijulia_behavior(:append)`. \n",
      "\u001b[33m\u001b[1m│ \u001b[22m\u001b[39m - To disable this warning message, do `ProgressMeter.ijulia_behavior(:clear)`.\n",
      "\u001b[33m\u001b[1m└ \u001b[22m\u001b[39m\u001b[90m@ ProgressMeter ~/.julia/packages/ProgressMeter/sN2xr/src/ProgressMeter.jl:618\u001b[39m\n",
      "\u001b[32mSampling 100%|███████████████████████████████| Time: 0:01:21\u001b[39m\n",
      "\u001b[34m  iterations:                                   2000\u001b[39m\n",
      "\u001b[34m  ratio_divergent_transitions:                  0.0\u001b[39m\n",
      "\u001b[34m  ratio_divergent_transitions_during_adaption:  0.0\u001b[39m\n",
      "\u001b[34m  n_steps:                                      7\u001b[39m\n",
      "\u001b[34m  is_accept:                                    true\u001b[39m\n",
      "\u001b[34m  acceptance_rate:                              0.8144367646130171\u001b[39m\n",
      "\u001b[34m  log_density:                                  -650.0488705312952\u001b[39m\n",
      "\u001b[34m  hamiltonian_energy:                           680.6510388645884\u001b[39m\n",
      "\u001b[34m  hamiltonian_energy_error:                     0.1403567251441018\u001b[39m\n",
      "\u001b[34m  max_hamiltonian_energy_error:                 0.33612879643339966\u001b[39m\n",
      "\u001b[34m  tree_depth:                                   3\u001b[39m\n",
      "\u001b[34m  numerical_error:                              false\u001b[39m\n",
      "\u001b[34m  step_size:                                    0.40824844482556677\u001b[39m\n",
      "\u001b[34m  nom_step_size:                                0.40824844482556677\u001b[39m\n",
      "\u001b[34m  is_adapt:                                     false\u001b[39m\n",
      "\u001b[34m  mass_matrix:                                  DiagEuclideanMetric([7.669784325233785, 6.54149 ...])\u001b[39m\n",
      "\u001b[36m\u001b[1m┌ \u001b[22m\u001b[39m\u001b[36m\u001b[1mInfo: \u001b[22m\u001b[39mFinished 2000 sampling steps for 1 chains in 82.002269317 (s)\n",
      "\u001b[36m\u001b[1m│ \u001b[22m\u001b[39m  h = Hamiltonian(metric=DiagEuclideanMetric([7.669784325233785, 6.54149 ...]), kinetic=GaussianKinetic())\n",
      "\u001b[36m\u001b[1m│ \u001b[22m\u001b[39m  κ = HMCKernel{AdvancedHMC.FullMomentumRefreshment, Trajectory{MultinomialTS, Leapfrog{Float64}, GeneralisedNoUTurn{Float64}}}(AdvancedHMC.FullMomentumRefreshment(), Trajectory{MultinomialTS}(integrator=Leapfrog(ϵ=0.408), tc=GeneralisedNoUTurn{Float64}(10, 1000.0)))\n",
      "\u001b[36m\u001b[1m│ \u001b[22m\u001b[39m  EBFMI_est = 0.7951691408841352\n",
      "\u001b[36m\u001b[1m└ \u001b[22m\u001b[39m  average_acceptance_rate = 0.8814239941209596\n"
     ]
    },
    {
     "data": {
      "text/plain": [
       "([[241.69908470264178, 247.88702895924078, 253.66032071185717, 231.0357089901332, 236.44109170375435, 251.30586134173163, 225.04939557102654, 249.67409710407486, 283.45753312490234, 211.6175886943941  …  6.604353229014514, 5.827784160157115, 5.914671778427448, 5.625789106818496, 5.924997115195007, -3.5942226726390176, 243.11073238751052, -5.4941120722017684, 6.196442474835487, 1.565629432368299], [238.7210369715854, 247.91445110525834, 251.5488041267646, 233.29624829221606, 228.29497885533797, 248.44294248569602, 231.255384731698, 244.3357895831155, 285.8287040286001, 225.12971773019035  …  6.137138931180131, 5.816276981881468, 5.6958506142220555, 5.655790557339817, 6.201081397511731, -3.6679633437694164, 243.7580663653776, -5.583759930635426, 6.214108131830969, 1.0118147858845066], [240.70541782239417, 248.14321526119457, 253.10357446404217, 232.38787889466383, 234.7936740538887, 251.38666840943307, 226.7729190961257, 252.46487787847008, 280.79158028663, 214.4382458673218  …  6.887574920376593, 5.91392046776641, 5.863276586673699, 5.544343790881637, 5.993715371664189, -3.317866392489549, 242.72972943422002, -5.165648604361446, 6.155944972297839, 1.0441610069838814], [239.43619171240832, 245.37204057095227, 253.59395097668283, 233.74095087917811, 231.94604719432232, 247.2166297890681, 232.56496137900896, 243.42730110174747, 285.6798208387008, 221.49351643619787  …  6.538212729211414, 5.728402873348062, 5.971694944004175, 6.174398695237731, 6.059927575356093, -3.675201569685227, 245.69224158624078, -5.45451549628858, 6.229546269397762, 1.533361565181354], [240.2437662784676, 249.91501325762374, 252.09167977294337, 231.36773464590144, 230.95654255872566, 252.9411117210972, 224.98416754507076, 252.6360929940064, 282.191897787579, 216.7758343025929  …  6.528550926237529, 6.063527719649564, 5.721498907637566, 5.220666607260622, 6.180149678201832, -3.256687167921446, 239.43672723089054, -5.392936910906437, 6.145795273451644, 0.9719396114575296], [238.58730002091184, 245.60597980883875, 252.13350557726497, 233.53094230414015, 230.76201970481276, 246.33812694222922, 229.81284555894106, 243.1211497914318, 286.17682417306594, 220.00129021092496  …  6.667762935337788, 5.717758481810146, 5.879535215778674, 5.872390813405333, 6.0314811800609265, -3.515685278709446, 244.9503282339469, -5.946788423574958, 6.107835290518633, 1.6729812414896694], [239.7879479169282, 247.3903699403685, 251.39764252696497, 233.48150258979288, 231.42871767724182, 252.4846486949368, 225.59071839875787, 250.89641602208116, 289.6067184348767, 220.1150385692076  …  6.904279947417114, 6.054795986581118, 5.803369476243417, 5.92587588417083, 6.12645763227224, -3.576177904501854, 243.66305286253302, -5.020931134466885, 6.269373744007196, 0.8171232386741274], [238.26237293241684, 249.4057433227408, 253.06539166382188, 234.55497526102857, 231.54742813901836, 251.8167254119911, 226.7681591966005, 253.7153695819005, 288.21541005400866, 218.26875735274893  …  6.907604193739269, 6.046524892710892, 5.779728903194647, 5.878674551148977, 6.027559611030445, -3.593408653414052, 242.5276954981542, -5.111239156142392, 6.25259964196253, 1.0621314688582828], [236.57238345143193, 251.61872966915382, 250.7880032993576, 234.90580184642712, 231.47360654450972, 248.13146363641923, 229.6684094425431, 246.11992798482362, 287.5279204883499, 216.48853748094706  …  6.576272638377241, 5.678294026328, 6.212004917855102, 6.030977122990844, 6.353874058947611, -3.5288948711062265, 242.2892178010869, -5.240236546477717, 6.100810916570283, 1.2864396058037482], [236.7480340336113, 243.65081215727312, 248.07448078599134, 230.50786253839195, 230.89902581429703, 249.32725098494927, 226.19299993952805, 250.33019300905616, 281.80514756941454, 217.1114189735215  …  6.422764637690664, 6.111780754951569, 5.3800604068908235, 5.075642047955377, 5.9750611636786735, -3.5608776587510964, 243.8666462017872, -5.095831996320369, 6.01192394897855, 1.3642094363933897]  …  [244.2301355287467, 252.42976822798815, 254.91528156954735, 234.48014151859655, 230.27037082341937, 250.5060737405571, 224.43631963230905, 250.82113125652288, 279.4662465730843, 224.89730849794674  …  6.6628192399333335, 6.021075922348237, 5.731538021257867, 5.866893093782697, 5.802661932865357, -3.8028803903813992, 249.30964499917937, -5.605611375824193, 6.07536965461363, 1.8838087565460988], [235.00409873904553, 243.3194953964879, 249.63762818655022, 230.4523128949539, 233.02264621469143, 248.16586211174362, 232.83769850496398, 245.5769610379066, 286.7416487671891, 213.37763571013153  …  6.349062172531789, 5.895278042363156, 6.095501776203334, 5.59769475604668, 6.592004131916037, -3.873999139126478, 238.46375804310338, -5.149881687795676, 6.059733949546192, 1.4904513894444653], [234.24879978798282, 242.60235211459783, 247.70107188644542, 231.38705999974127, 233.32629606018097, 251.756199984876, 231.61478845890258, 249.60498009852867, 281.8483977289086, 214.29188849369092  …  6.235139170663503, 5.746197548254522, 6.042864373649236, 5.635462899592633, 6.446982117672843, -3.7982883113416905, 241.21439777585942, -5.4981424715734475, 6.230998393155961, 1.998643376761685], [245.1677448734973, 244.66918664326639, 257.449095097806, 235.44848104797367, 223.3308236558545, 245.99311881751015, 229.01122149302185, 247.7939296957801, 282.2635138259679, 220.83105551298806  …  7.016310907480633, 5.627490623329255, 5.605990319354109, 5.5890936360840415, 5.848354851264907, -3.493742271171825, 240.12726249310575, -5.354997756483132, 6.447253601245268, 0.6912982564593625], [233.51115609399034, 245.03199184564664, 248.42574405796603, 235.50622612455163, 235.55161273958478, 251.8248244512155, 228.85764640673477, 248.37471325638526, 284.89279219573655, 219.40948584027797  …  6.816306495193587, 5.540218432217823, 5.947430087779254, 5.835149141915502, 6.166484156183321, -3.735612965572923, 240.94545618219064, -5.500682495180537, 5.9460084207370105, 0.47866553305015647], [245.9932275931118, 252.57481086245758, 255.35335275565703, 234.19145238282985, 231.20541256338777, 250.26743336489176, 227.51873995387473, 246.66695060193865, 281.99613660137373, 222.14280778687575  …  6.57168953770385, 5.835699994134617, 5.616088880848686, 5.536528869650334, 6.208515377930469, -3.462617540735097, 236.42221676594917, -5.602642040577032, 6.082994764886158, 1.0400073357185364], [237.41710627440781, 241.1467833175604, 251.7003261022118, 230.69766985878888, 234.53071337996522, 248.45892790512505, 226.18870682763853, 249.0041419483451, 286.94045452898183, 215.46343423096292  …  6.651368887888079, 5.737154698068071, 6.065181834182339, 5.825647629600357, 5.968235323186887, -3.534917454209098, 242.52883834166883, -5.870863833393281, 6.059197513368824, 1.0008995868615327], [238.02272662594152, 251.3760893788054, 254.2884928751262, 232.63433956387573, 230.00819920501442, 252.17029385001416, 229.3558793725022, 246.99070409569822, 281.15612889091034, 219.25396668150552  …  6.618465205928089, 5.758714567202722, 5.462651322458948, 5.278860313160709, 6.5351807078351065, -3.5676665317705076, 242.9498476290123, -5.310962065984027, 6.258314782042268, 1.0210161420295507], [242.33714111433113, 243.162663222477, 249.70541148293825, 233.526278994198, 232.90168700747708, 248.40962386053326, 229.15227424507123, 249.7937857828579, 287.15944251418966, 218.64533085304157  …  6.400445803407838, 5.896118500120444, 6.248109991526928, 6.393515120379747, 5.8316479977166935, -3.6162179151427676, 243.60739071311534, -5.431619154526893, 6.192755568433291, 1.7785883319239733], [238.00439035622213, 251.7514366485843, 252.80228826210043, 230.00940294688866, 230.27365393561092, 252.98891486364585, 228.93051534462967, 247.6974447010234, 280.95844380706103, 221.0234148331188  …  6.870884338704778, 5.840137797176416, 5.446574021259356, 5.15623932583672, 6.385909886272281, -3.632374618075617, 243.9379918786775, -5.622732099505897, 6.282142158846542, 1.2312038668573333]], NamedTuple[(n_steps = 23, is_accept = true, acceptance_rate = 0.745898728058072, log_density = -654.7597166681675, hamiltonian_energy = 691.9154818612153, hamiltonian_energy_error = 0.10072434004086972, max_hamiltonian_energy_error = 0.5249577447789306, tree_depth = 4, numerical_error = false, step_size = 0.40824844482556677, nom_step_size = 0.40824844482556677, is_adapt = false), (n_steps = 7, is_accept = true, acceptance_rate = 0.8258772372395757, log_density = -652.1678020200103, hamiltonian_energy = 687.1037671969859, hamiltonian_energy_error = 0.06807650263135656, max_hamiltonian_energy_error = 0.5679903717293655, tree_depth = 3, numerical_error = false, step_size = 0.40824844482556677, nom_step_size = 0.40824844482556677, is_adapt = false), (n_steps = 31, is_accept = true, acceptance_rate = 0.9446564091789912, log_density = -646.7721293744734, hamiltonian_energy = 680.9822050218739, hamiltonian_energy_error = -0.42578434544316224, max_hamiltonian_energy_error = -0.5258089367184766, tree_depth = 4, numerical_error = false, step_size = 0.40824844482556677, nom_step_size = 0.40824844482556677, is_adapt = false), (n_steps = 7, is_accept = true, acceptance_rate = 0.9711807518513659, log_density = -642.3303591225745, hamiltonian_energy = 668.2283066478524, hamiltonian_energy_error = -0.22364010627507014, max_hamiltonian_energy_error = -0.3857519409901897, tree_depth = 3, numerical_error = false, step_size = 0.40824844482556677, nom_step_size = 0.40824844482556677, is_adapt = false), (n_steps = 7, is_accept = true, acceptance_rate = 0.9257942041514996, log_density = -640.0591312518026, hamiltonian_energy = 663.9868052587344, hamiltonian_energy_error = -0.05519930003185891, max_hamiltonian_energy_error = 0.29076568973755457, tree_depth = 3, numerical_error = false, step_size = 0.40824844482556677, nom_step_size = 0.40824844482556677, is_adapt = false), (n_steps = 7, is_accept = true, acceptance_rate = 0.8212699275788735, log_density = -648.3806695698419, hamiltonian_energy = 667.9794961060965, hamiltonian_energy_error = 0.3365067065748235, max_hamiltonian_energy_error = 0.40737400573937066, tree_depth = 3, numerical_error = false, step_size = 0.40824844482556677, nom_step_size = 0.40824844482556677, is_adapt = false), (n_steps = 7, is_accept = true, acceptance_rate = 0.8565214665461897, log_density = -653.8967514071096, hamiltonian_energy = 677.0476900583977, hamiltonian_energy_error = 0.30373891987346724, max_hamiltonian_energy_error = 0.36899214894515353, tree_depth = 3, numerical_error = false, step_size = 0.40824844482556677, nom_step_size = 0.40824844482556677, is_adapt = false), (n_steps = 7, is_accept = true, acceptance_rate = 0.8689716494932826, log_density = -649.5502736270486, hamiltonian_energy = 686.0703520763141, hamiltonian_energy_error = -0.2707576477529301, max_hamiltonian_energy_error = 0.5154997847389495, tree_depth = 3, numerical_error = false, step_size = 0.40824844482556677, nom_step_size = 0.40824844482556677, is_adapt = false), (n_steps = 7, is_accept = true, acceptance_rate = 0.6011934208476903, log_density = -661.0912095637844, hamiltonian_energy = 693.9171227563093, hamiltonian_energy_error = 0.5196786492435876, max_hamiltonian_energy_error = 1.031786963984814, tree_depth = 3, numerical_error = false, step_size = 0.40824844482556677, nom_step_size = 0.40824844482556677, is_adapt = false), (n_steps = 39, is_accept = true, acceptance_rate = 0.9976246919574078, log_density = -650.3355222690848, hamiltonian_energy = 685.466593362516, hamiltonian_energy_error = -0.7491368506138087, max_hamiltonian_energy_error = -1.095633710064135, tree_depth = 5, numerical_error = false, step_size = 0.40824844482556677, nom_step_size = 0.40824844482556677, is_adapt = false)  …  (n_steps = 15, is_accept = true, acceptance_rate = 0.7979657078576582, log_density = -658.9095641198113, hamiltonian_energy = 700.9950260498094, hamiltonian_energy_error = -0.028762949136989846, max_hamiltonian_energy_error = 0.5886078473988618, tree_depth = 4, numerical_error = false, step_size = 0.40824844482556677, nom_step_size = 0.40824844482556677, is_adapt = false), (n_steps = 15, is_accept = true, acceptance_rate = 0.7962349588948412, log_density = -667.0695435012912, hamiltonian_energy = 698.4516366906913, hamiltonian_energy_error = 0.3039698386122609, max_hamiltonian_energy_error = 0.6691807649491466, tree_depth = 4, numerical_error = false, step_size = 0.40824844482556677, nom_step_size = 0.40824844482556677, is_adapt = false), (n_steps = 7, is_accept = true, acceptance_rate = 0.9892703393651737, log_density = -663.4711409430736, hamiltonian_energy = 693.0153208002243, hamiltonian_energy_error = -0.21148331801816767, max_hamiltonian_energy_error = -0.6508229228156779, tree_depth = 3, numerical_error = false, step_size = 0.40824844482556677, nom_step_size = 0.40824844482556677, is_adapt = false), (n_steps = 143, is_accept = true, acceptance_rate = 0.9840029231077212, log_density = -660.879072009899, hamiltonian_energy = 693.8931694356783, hamiltonian_energy_error = -0.1321242789687176, max_hamiltonian_energy_error = -0.5154640935410271, tree_depth = 7, numerical_error = false, step_size = 0.40824844482556677, nom_step_size = 0.40824844482556677, is_adapt = false), (n_steps = 87, is_accept = true, acceptance_rate = 0.9230446680091743, log_density = -658.2591004031423, hamiltonian_energy = 694.8193091926304, hamiltonian_energy_error = -0.11126712143425266, max_hamiltonian_energy_error = -0.935182182276435, tree_depth = 6, numerical_error = false, step_size = 0.40824844482556677, nom_step_size = 0.40824844482556677, is_adapt = false), (n_steps = 7, is_accept = true, acceptance_rate = 0.8699046244700094, log_density = -653.7320576975313, hamiltonian_energy = 691.4676778152134, hamiltonian_energy_error = -0.23748848095203812, max_hamiltonian_energy_error = 0.4738906684633548, tree_depth = 3, numerical_error = false, step_size = 0.40824844482556677, nom_step_size = 0.40824844482556677, is_adapt = false), (n_steps = 7, is_accept = true, acceptance_rate = 0.7869310887790587, log_density = -656.2252195817143, hamiltonian_energy = 681.0867334636254, hamiltonian_energy_error = 0.21545543435433956, max_hamiltonian_energy_error = 0.611877525177988, tree_depth = 3, numerical_error = false, step_size = 0.40824844482556677, nom_step_size = 0.40824844482556677, is_adapt = false), (n_steps = 7, is_accept = true, acceptance_rate = 0.8874316976523726, log_density = -647.5763417497417, hamiltonian_energy = 685.230125215408, hamiltonian_energy_error = -0.28738126034318157, max_hamiltonian_energy_error = 0.37854419685891116, tree_depth = 3, numerical_error = false, step_size = 0.40824844482556677, nom_step_size = 0.40824844482556677, is_adapt = false), (n_steps = 7, is_accept = true, acceptance_rate = 0.8631100236868965, log_density = -649.8561555902487, hamiltonian_energy = 679.0142815298789, hamiltonian_energy_error = 0.00988393044485747, max_hamiltonian_energy_error = 0.3624099621983987, tree_depth = 3, numerical_error = false, step_size = 0.40824844482556677, nom_step_size = 0.40824844482556677, is_adapt = false), (n_steps = 7, is_accept = true, acceptance_rate = 0.8144367646130171, log_density = -650.0488705312952, hamiltonian_energy = 680.6510388645884, hamiltonian_energy_error = 0.1403567251441018, max_hamiltonian_energy_error = 0.33612879643339966, tree_depth = 3, numerical_error = false, step_size = 0.40824844482556677, nom_step_size = 0.40824844482556677, is_adapt = false)])"
      ]
     },
     "execution_count": 15,
     "metadata": {},
     "output_type": "execute_result"
    }
   ],
   "source": [
    "using AdvancedHMC\n",
    "\n",
    "D = length(initial_θ)\n",
    "n_samples, n_adapts = 2000, 1000\n",
    "\n",
    "metric = DiagEuclideanMetric(D)\n",
    "hamiltonian = Hamiltonian(metric, p, :ReverseDiff)\n",
    "\n",
    "initial_ϵ = find_good_stepsize(hamiltonian, initial_θ)\n",
    "integrator = Leapfrog(initial_ϵ)\n",
    "proposal = NUTS{MultinomialTS, GeneralisedNoUTurn}(integrator)\n",
    "adaptor = StanHMCAdaptor(MassMatrixAdaptor(metric), StepSizeAdaptor(0.8, integrator))\n",
    "\n",
    "samples, stats = sample(hamiltonian, proposal, initial_θ, n_samples, adaptor, n_adapts; drop_warmup=true, progress=true)"
   ]
  },
  {
   "cell_type": "code",
   "execution_count": 16,
   "id": "71b9b349-9cdb-4ea8-9e94-0a19d5caae33",
   "metadata": {},
   "outputs": [
    {
     "data": {
      "text/plain": [
       "(6.1944702500081315, 0.1123019774522192)"
      ]
     },
     "execution_count": 16,
     "metadata": {},
     "output_type": "execute_result"
    }
   ],
   "source": [
    "beta_c_samples = [samples[s][64] for s in 1:length(samples)]\n",
    "stats = mean(beta_c_samples), std(beta_c_samples) # Reference result: mean 6.186, variance 0.1088"
   ]
  },
  {
   "cell_type": "code",
   "execution_count": 17,
   "id": "d4802894-adb4-4dea-b1b6-77679ff481e4",
   "metadata": {},
   "outputs": [
    {
     "data": {
      "text/plain": [
       "(6.1243127618231235, 0.45942245753857064)"
      ]
     },
     "execution_count": 17,
     "metadata": {},
     "output_type": "execute_result"
    }
   ],
   "source": [
    "tau_c_samples = [samples[s][61] for s in 1:length(samples)]\n",
    "sigma_samples = map(x->1/sqrt(b⁻¹(x)), tau_c_samples)\n",
    "stats = mean(sigma_samples), std(sigma_samples) # Reference result: mean 6.092, sd 0.4672"
   ]
  },
  {
   "cell_type": "markdown",
   "id": "208f7cba-2934-44bb-8a6c-9ddf345134e6",
   "metadata": {},
   "source": [
    "# With [DynamicHMC.jl](https://github.com/tpapp/DynamicHMC.jl)"
   ]
  },
  {
   "cell_type": "code",
   "execution_count": 5,
   "id": "cca09024-f47b-4c35-bef3-1b99022b494d",
   "metadata": {},
   "outputs": [],
   "source": [
    "function (problem::Rats)(parameters)\n",
    "    @unpack x, xbar, Y, N, T = problem\n",
    "    @unpack alpha, beta, tau_c, alpha_c, alpha_tau, beta_c, beta_tau = parameters\n",
    "    \n",
    "    loglikelihood = 0.0\n",
    "    for i in 1:N\n",
    "        for j in 1:T\n",
    "            mu_i_j = alpha[i] + beta[i] * (x[j] - xbar) # array mutation is tricky, assign to a intermediate value\n",
    "            loglikelihood += logpdf(dnorm(mu_i_j, tau_c), Y[i, j])\n",
    "        end\n",
    "    end\n",
    "    for i in 1:N\n",
    "        loglikelihood += logpdf(dnorm(alpha_c, alpha_tau), alpha[i])\n",
    "        loglikelihood += logpdf(dnorm(beta_c, beta_tau), beta[i])\n",
    "    end\n",
    "\n",
    "    loglikelihood += logpdf(dgamma(0.001, 0.001), tau_c)\n",
    "    loglikelihood += logpdf(dnorm(0.0, 1.0E-6), alpha_c)\n",
    "    loglikelihood += logpdf(dgamma(0.001, 0.001), alpha_tau)\n",
    "    loglikelihood += logpdf(dnorm(0.0, 1.0E-6), beta_c)\n",
    "    loglikelihood += logpdf(dgamma(0.001, 0.001), beta_tau)\n",
    "    return loglikelihood\n",
    "end\n",
    "\n",
    "function LogDensityProblems.logdensity(p::Rats, parameters)\n",
    "    return p(parameters)\n",
    "end\n",
    "\n",
    "function LogDensityProblems.capabilities(::Type{<:Rats})\n",
    "    return LogDensityProblems.LogDensityOrder{1}()\n",
    "end\n",
    "\n",
    "function LogDensityProblems.dimension(p::Rats)\n",
    "    @unpack x, xbar, Y, N, T = p\n",
    "    return N + N + 1 + 1 + 1 + 1 + 1\n",
    "end"
   ]
  },
  {
   "cell_type": "code",
   "execution_count": 6,
   "id": "80129ccd-2fa2-41e7-962f-12d1dded932a",
   "metadata": {},
   "outputs": [
    {
     "data": {
      "text/plain": [
       "-174029.38703951906"
      ]
     },
     "execution_count": 6,
     "metadata": {},
     "output_type": "execute_result"
    }
   ],
   "source": [
    "p = Rats(x, xbar, Y, N, T)\n",
    "p((alpha = alpha, beta = beta, tau_c = tau_c, alpha_c = alpha_c, alpha_tau = alpha_tau, beta_c = beta_c, beta_tau = beta_tau))"
   ]
  },
  {
   "cell_type": "code",
   "execution_count": 7,
   "id": "7bfe92de-0f62-438d-ace6-4eac7d315ac1",
   "metadata": {},
   "outputs": [
    {
     "data": {
      "text/plain": [
       "TransformedLogDensity of dimension 65"
      ]
     },
     "execution_count": 7,
     "metadata": {},
     "output_type": "execute_result"
    }
   ],
   "source": [
    "using TransformVariables, TransformedLogDensities\n",
    "t = as((alpha = as(Array, N), beta = as(Array, N), tau_c = asℝ₊, alpha_c = asℝ, alpha_tau = asℝ₊, beta_c = asℝ, beta_tau = asℝ₊))\n",
    "t_p = TransformedLogDensity(t, p)"
   ]
  },
  {
   "cell_type": "code",
   "execution_count": 8,
   "id": "23885290-7a39-4159-8265-5cdc720e970f",
   "metadata": {},
   "outputs": [
    {
     "data": {
      "text/plain": [
       "ReverseDiff AD wrapper for TransformedLogDensity of dimension 65 (no compiled tape)"
      ]
     },
     "execution_count": 8,
     "metadata": {},
     "output_type": "execute_result"
    }
   ],
   "source": [
    "using LogDensityProblemsAD, DynamicHMC, Random, ReverseDiff\n",
    "∇P = ADgradient(:ReverseDiff, t_p)"
   ]
  },
  {
   "cell_type": "code",
   "execution_count": 9,
   "id": "e3e6cf4f-abc3-4a13-a8a5-3af538e34617",
   "metadata": {},
   "outputs": [
    {
     "name": "stderr",
     "output_type": "stream",
     "text": [
      "\u001b[36m\u001b[1m┌ \u001b[22m\u001b[39m\u001b[36m\u001b[1mInfo: \u001b[22m\u001b[39mfound initial stepsize\n",
      "\u001b[36m\u001b[1m└ \u001b[22m\u001b[39m  ϵ = 0.000644\n",
      "\u001b[36m\u001b[1m┌ \u001b[22m\u001b[39m\u001b[36m\u001b[1mInfo: \u001b[22m\u001b[39mStarting MCMC\n",
      "\u001b[36m\u001b[1m│ \u001b[22m\u001b[39m  total_steps = 75\n",
      "\u001b[36m\u001b[1m└ \u001b[22m\u001b[39m  tuning = \"stepsize\"\n",
      "\u001b[36m\u001b[1m┌ \u001b[22m\u001b[39m\u001b[36m\u001b[1mInfo: \u001b[22m\u001b[39mMCMC progress\n",
      "\u001b[36m\u001b[1m│ \u001b[22m\u001b[39m  step = 1\n",
      "\u001b[36m\u001b[1m│ \u001b[22m\u001b[39m  seconds_per_step = 0.00034\n",
      "\u001b[36m\u001b[1m│ \u001b[22m\u001b[39m  estimated_seconds_left = 0.025\n",
      "\u001b[36m\u001b[1m└ \u001b[22m\u001b[39m  ϵ = 0.000644\n",
      "\u001b[36m\u001b[1m┌ \u001b[22m\u001b[39m\u001b[36m\u001b[1mInfo: \u001b[22m\u001b[39mStarting MCMC\n",
      "\u001b[36m\u001b[1m│ \u001b[22m\u001b[39m  total_steps = 25\n",
      "\u001b[36m\u001b[1m└ \u001b[22m\u001b[39m  tuning = \"stepsize and LinearAlgebra.Diagonal metric\"\n",
      "\u001b[36m\u001b[1m┌ \u001b[22m\u001b[39m\u001b[36m\u001b[1mInfo: \u001b[22m\u001b[39mMCMC progress\n",
      "\u001b[36m\u001b[1m│ \u001b[22m\u001b[39m  step = 1\n",
      "\u001b[36m\u001b[1m│ \u001b[22m\u001b[39m  seconds_per_step = 0.053\n",
      "\u001b[36m\u001b[1m│ \u001b[22m\u001b[39m  estimated_seconds_left = 1.3\n",
      "\u001b[36m\u001b[1m└ \u001b[22m\u001b[39m  ϵ = 0.0837\n",
      "\u001b[36m\u001b[1m┌ \u001b[22m\u001b[39m\u001b[36m\u001b[1mInfo: \u001b[22m\u001b[39madaptation finished\n",
      "\u001b[36m\u001b[1m└ \u001b[22m\u001b[39m  adapted_kinetic_energy = Gaussian kinetic energy (Diagonal), √diag(M⁻¹): [1.3023899740882627, 1.77893453697697, 2.227594348026749, 3.0585138889223544, 3.223032690400119, 2.928755984679208, 3.616863804308044, 2.440392264215118, 2.024844639044452, 2.702983397294678, 2.492961156471274, 2.7213134934701686, 2.7544816686155102, 3.608846024236104, 1.583213494510248, 2.2105135558621303, 1.5814656922333028, 2.3027306861597316, 2.407048476971131, 2.3295079859520014, 2.7081506201212533, 2.037596600365919, 3.314698073314701, 1.0371331503683856, 2.6807417231687674, 2.958845015702, 2.177204329760498, 1.8198427871467382, 1.782401564399311, 1.9824314724427552, 0.2488086609669328, 0.236683808284829, 0.28766511511859144, 0.24912926916365047, 0.2259070350801788, 0.30286176827726585, 0.2337846871779219, 0.28377490464178323, 0.24614967190844605, 0.2480412647546457, 0.205007016004933, 0.24692571614297254, 0.2265778815772203, 0.22888481087863397, 0.23842052708114103, 0.2727726174106725, 0.22066905017020016, 0.25528116456150757, 0.2740239450558372, 0.19436445329748736, 0.26394908693586716, 0.22498013707370285, 0.21906859260384065, 0.19505790669986423, 0.25755188271847995, 0.2649669689768586, 0.2202219115085949, 0.20363564704041393, 0.194038372411448, 0.24209231624424496, 0.17365749396168778, 2.9995364449932094, 0.25048799495534735, 0.17433672366555605, 0.23689219081837357]\n",
      "\u001b[36m\u001b[1m┌ \u001b[22m\u001b[39m\u001b[36m\u001b[1mInfo: \u001b[22m\u001b[39mStarting MCMC\n",
      "\u001b[36m\u001b[1m│ \u001b[22m\u001b[39m  total_steps = 50\n",
      "\u001b[36m\u001b[1m└ \u001b[22m\u001b[39m  tuning = \"stepsize and LinearAlgebra.Diagonal metric\"\n",
      "\u001b[36m\u001b[1m┌ \u001b[22m\u001b[39m\u001b[36m\u001b[1mInfo: \u001b[22m\u001b[39mMCMC progress\n",
      "\u001b[36m\u001b[1m│ \u001b[22m\u001b[39m  step = 1\n",
      "\u001b[36m\u001b[1m│ \u001b[22m\u001b[39m  seconds_per_step = 0.029\n",
      "\u001b[36m\u001b[1m│ \u001b[22m\u001b[39m  estimated_seconds_left = 1.4\n",
      "\u001b[36m\u001b[1m└ \u001b[22m\u001b[39m  ϵ = 0.0826\n",
      "\u001b[36m\u001b[1m┌ \u001b[22m\u001b[39m\u001b[36m\u001b[1mInfo: \u001b[22m\u001b[39madaptation finished\n",
      "\u001b[36m\u001b[1m└ \u001b[22m\u001b[39m  adapted_kinetic_energy = Gaussian kinetic energy (Diagonal), √diag(M⁻¹): [2.520846942629285, 2.437163701624641, 1.9730679642874434, 3.021993896932156, 2.678912524724168, 3.130455372634276, 2.0278311658245642, 2.5203658228980856, 2.965835358941701, 1.8332366356250362, 2.6027371644333694, 2.192033447216723, 3.147150943274975, 2.263742539953228, 2.733015442707646, 2.1835299342304753, 2.5735197389681597, 2.983048487086152, 2.0209985587565864, 1.639028604528384, 2.172058759199592, 2.83905070152911, 2.5366984781545088, 2.177699293282944, 2.3264602408158694, 2.2661450316968073, 3.662695206065802, 2.6483486810848125, 1.8630734366769255, 1.8193386926097643, 0.2701815319533868, 0.21377720965399943, 0.26823960901083277, 0.3060301755862151, 0.1947308126324243, 0.323923813803206, 0.23132237719371365, 0.25103715155735445, 0.2632050391953037, 0.2536386357649445, 0.24869159198747645, 0.25527012240163743, 0.28063074706019075, 0.3111743937612482, 0.23377655438435002, 0.2424811419118711, 0.1998641190598326, 0.2554634034351522, 0.2514494764798486, 0.21327188160847882, 0.2957742432345811, 0.319058840188478, 0.26846573416618214, 0.24021438272196555, 0.2828202607746765, 0.20878809224542094, 0.24949598564845793, 0.2991793822268068, 0.27331386855831163, 0.2369910376365505, 0.190239246119394, 2.5276258431773884, 0.19604103803150125, 0.14681565317968137, 0.4052001022889916]\n",
      "\u001b[36m\u001b[1m┌ \u001b[22m\u001b[39m\u001b[36m\u001b[1mInfo: \u001b[22m\u001b[39mStarting MCMC\n",
      "\u001b[36m\u001b[1m│ \u001b[22m\u001b[39m  total_steps = 100\n",
      "\u001b[36m\u001b[1m└ \u001b[22m\u001b[39m  tuning = \"stepsize and LinearAlgebra.Diagonal metric\"\n",
      "\u001b[36m\u001b[1m┌ \u001b[22m\u001b[39m\u001b[36m\u001b[1mInfo: \u001b[22m\u001b[39mMCMC progress\n",
      "\u001b[36m\u001b[1m│ \u001b[22m\u001b[39m  step = 1\n",
      "\u001b[36m\u001b[1m│ \u001b[22m\u001b[39m  seconds_per_step = 0.0054\n",
      "\u001b[36m\u001b[1m│ \u001b[22m\u001b[39m  estimated_seconds_left = 0.54\n",
      "\u001b[36m\u001b[1m└ \u001b[22m\u001b[39m  ϵ = 0.403\n",
      "\u001b[36m\u001b[1m┌ \u001b[22m\u001b[39m\u001b[36m\u001b[1mInfo: \u001b[22m\u001b[39madaptation finished\n",
      "\u001b[36m\u001b[1m└ \u001b[22m\u001b[39m  adapted_kinetic_energy = Gaussian kinetic energy (Diagonal), √diag(M⁻¹): [2.880374366519531, 2.885702835248869, 2.3739906165241464, 2.9501688797273204, 2.2952483476421115, 2.4923721154633323, 2.7116239748541937, 2.721944809447102, 2.366221307200693, 3.000909781809037, 3.1104179073974985, 2.396613439256067, 2.5393864625680744, 2.565860564132756, 2.6020280264066002, 2.858558414194094, 2.6457100282320876, 1.9805350193079945, 3.2436951340824587, 2.232298067105167, 2.402566852862621, 2.6361033020878657, 2.71496909396887, 2.308525609609479, 2.661290266650366, 2.183580596195558, 2.729669546495762, 2.5994624665597175, 3.333500802866846, 2.3160166903641444, 0.25800262284528686, 0.26174178180799845, 0.21460840180851218, 0.2266923639647171, 0.21419800452516075, 0.24734016017298766, 0.25506663480815206, 0.2599427599196835, 0.23090453294488014, 0.24534665771556485, 0.2719801893003747, 0.22455036871120565, 0.2531665944733501, 0.25042390295015826, 0.2274511315222571, 0.22538132037708936, 0.22402649100436145, 0.22870674976074765, 0.21961952510145982, 0.229821421105584, 0.24371157752708375, 0.22917589877801228, 0.2507114197727013, 0.24627127662174708, 0.22963587833261398, 0.23567969086672416, 0.21930377181566368, 0.2501756141474383, 0.21257626645367075, 0.19884622941548122, 0.14905094366838553, 2.7619962188628095, 0.2870392243175006, 0.10812872612286678, 0.344034151530024]\n",
      "\u001b[36m\u001b[1m┌ \u001b[22m\u001b[39m\u001b[36m\u001b[1mInfo: \u001b[22m\u001b[39mStarting MCMC\n",
      "\u001b[36m\u001b[1m│ \u001b[22m\u001b[39m  total_steps = 200\n",
      "\u001b[36m\u001b[1m└ \u001b[22m\u001b[39m  tuning = \"stepsize and LinearAlgebra.Diagonal metric\"\n",
      "\u001b[36m\u001b[1m┌ \u001b[22m\u001b[39m\u001b[36m\u001b[1mInfo: \u001b[22m\u001b[39mMCMC progress\n",
      "\u001b[36m\u001b[1m│ \u001b[22m\u001b[39m  step = 1\n",
      "\u001b[36m\u001b[1m│ \u001b[22m\u001b[39m  seconds_per_step = 0.0061\n",
      "\u001b[36m\u001b[1m│ \u001b[22m\u001b[39m  estimated_seconds_left = 1.2\n",
      "\u001b[36m\u001b[1m└ \u001b[22m\u001b[39m  ϵ = 0.402\n",
      "\u001b[36m\u001b[1m┌ \u001b[22m\u001b[39m\u001b[36m\u001b[1mInfo: \u001b[22m\u001b[39mMCMC progress\n",
      "\u001b[36m\u001b[1m│ \u001b[22m\u001b[39m  step = 101\n",
      "\u001b[36m\u001b[1m│ \u001b[22m\u001b[39m  seconds_per_step = 0.011\n",
      "\u001b[36m\u001b[1m│ \u001b[22m\u001b[39m  estimated_seconds_left = 1.1\n",
      "\u001b[36m\u001b[1m└ \u001b[22m\u001b[39m  ϵ = 0.323\n",
      "\u001b[36m\u001b[1m┌ \u001b[22m\u001b[39m\u001b[36m\u001b[1mInfo: \u001b[22m\u001b[39madaptation finished\n",
      "\u001b[36m\u001b[1m└ \u001b[22m\u001b[39m  adapted_kinetic_energy = Gaussian kinetic energy (Diagonal), √diag(M⁻¹): [2.582598804402381, 2.6341721632311534, 2.9450587926199954, 2.6362154939046936, 2.7484336587311398, 2.8697484546362713, 2.715722573476008, 2.834606639009586, 2.743467460601754, 2.9222053740126936, 2.536645420865105, 2.9753881863908336, 2.3951611467778746, 2.6249982067709765, 2.782700559735562, 2.517935176604445, 2.394074078127381, 2.689856294827716, 2.5774173671080107, 2.470553372539782, 2.649997669212612, 2.560670267704232, 2.5641056214102242, 3.0737300461346573, 2.5033869590545614, 2.3566067878011348, 2.695172097282546, 2.9628750343773187, 2.5954023758937894, 3.1344401869672955, 0.2541615075623629, 0.22734038089003492, 0.25785760148520825, 0.2684898215960057, 0.24968948076762312, 0.2256863674532765, 0.22320459351042832, 0.2432221664851722, 0.23303302917532423, 0.2552589859713576, 0.2404261483734029, 0.2697799884726705, 0.2528917670407, 0.22879802476091823, 0.21839391755521598, 0.22435424047654115, 0.23193487194213858, 0.25167243828624797, 0.2466048139342149, 0.22589647343668137, 0.21196281837414774, 0.24658221516519094, 0.26737518464262133, 0.2342656732231873, 0.24321731822664514, 0.28738857045888133, 0.25976188808805145, 0.24345917663194952, 0.25459830393036803, 0.26242548030013346, 0.16075094676719962, 2.785697649394309, 0.24847156698175474, 0.1141097118218523, 0.3439439382749692]\n",
      "\u001b[36m\u001b[1m┌ \u001b[22m\u001b[39m\u001b[36m\u001b[1mInfo: \u001b[22m\u001b[39mStarting MCMC\n",
      "\u001b[36m\u001b[1m│ \u001b[22m\u001b[39m  total_steps = 400\n",
      "\u001b[36m\u001b[1m└ \u001b[22m\u001b[39m  tuning = \"stepsize and LinearAlgebra.Diagonal metric\"\n",
      "\u001b[36m\u001b[1m┌ \u001b[22m\u001b[39m\u001b[36m\u001b[1mInfo: \u001b[22m\u001b[39mMCMC progress\n",
      "\u001b[36m\u001b[1m│ \u001b[22m\u001b[39m  step = 1\n",
      "\u001b[36m\u001b[1m│ \u001b[22m\u001b[39m  seconds_per_step = 0.0024\n",
      "\u001b[36m\u001b[1m│ \u001b[22m\u001b[39m  estimated_seconds_left = 0.94\n",
      "\u001b[36m\u001b[1m└ \u001b[22m\u001b[39m  ϵ = 0.479\n",
      "\u001b[36m\u001b[1m┌ \u001b[22m\u001b[39m\u001b[36m\u001b[1mInfo: \u001b[22m\u001b[39mMCMC progress\n",
      "\u001b[36m\u001b[1m│ \u001b[22m\u001b[39m  step = 101\n",
      "\u001b[36m\u001b[1m│ \u001b[22m\u001b[39m  seconds_per_step = 0.0093\n",
      "\u001b[36m\u001b[1m│ \u001b[22m\u001b[39m  estimated_seconds_left = 2.8\n",
      "\u001b[36m\u001b[1m└ \u001b[22m\u001b[39m  ϵ = 0.423\n",
      "\u001b[36m\u001b[1m┌ \u001b[22m\u001b[39m\u001b[36m\u001b[1mInfo: \u001b[22m\u001b[39mMCMC progress\n",
      "\u001b[36m\u001b[1m│ \u001b[22m\u001b[39m  step = 201\n",
      "\u001b[36m\u001b[1m│ \u001b[22m\u001b[39m  seconds_per_step = 0.0084\n",
      "\u001b[36m\u001b[1m│ \u001b[22m\u001b[39m  estimated_seconds_left = 1.7\n",
      "\u001b[36m\u001b[1m└ \u001b[22m\u001b[39m  ϵ = 0.499\n",
      "\u001b[36m\u001b[1m┌ \u001b[22m\u001b[39m\u001b[36m\u001b[1mInfo: \u001b[22m\u001b[39mMCMC progress\n",
      "\u001b[36m\u001b[1m│ \u001b[22m\u001b[39m  step = 301\n",
      "\u001b[36m\u001b[1m│ \u001b[22m\u001b[39m  seconds_per_step = 0.0073\n",
      "\u001b[36m\u001b[1m│ \u001b[22m\u001b[39m  estimated_seconds_left = 0.72\n",
      "\u001b[36m\u001b[1m└ \u001b[22m\u001b[39m  ϵ = 0.437\n",
      "\u001b[36m\u001b[1m┌ \u001b[22m\u001b[39m\u001b[36m\u001b[1mInfo: \u001b[22m\u001b[39madaptation finished\n",
      "\u001b[36m\u001b[1m└ \u001b[22m\u001b[39m  adapted_kinetic_energy = Gaussian kinetic energy (Diagonal), √diag(M⁻¹): [3.0227231028467005, 2.6635072605672034, 2.6419542766132924, 2.714660047634321, 2.5288079574158746, 2.809356576811251, 2.5871293983183725, 2.8655508984762608, 2.6684632696848696, 2.84629754991325, 2.4570376455776692, 2.4265363162416325, 2.786938905729888, 2.6642641695402594, 2.8561125268365437, 2.838515878455228, 2.67905890405772, 2.69968591362268, 2.8139785115944154, 2.68571989345336, 2.751357240713144, 2.8118266514422237, 2.6287881198369596, 2.793634861540216, 2.614557227977408, 2.6288476905451628, 2.7559615849632766, 2.821797685304008, 2.5004509977326688, 2.839871483837416, 0.2605753340874165, 0.26066049131353086, 0.24113629789584456, 0.23745502202732052, 0.25532363029613897, 0.23475949678806324, 0.21810882173171142, 0.23539764379614406, 0.251738810352558, 0.24324976227331882, 0.24924174626863496, 0.25835716679811804, 0.24010195286685435, 0.27473043846423245, 0.2437086014428362, 0.20965099412801497, 0.25628000824637587, 0.244447384215874, 0.2526074195390778, 0.2582080336082427, 0.251608625545687, 0.22508770015037624, 0.2388352127902816, 0.21247421698555607, 0.2568480894219598, 0.24703574806827502, 0.22768124107588314, 0.21815041853024192, 0.24680094894002544, 0.2268141882315857, 0.1478158212457085, 2.507973364348869, 0.2534503891650976, 0.10953806697699339, 0.3405267384577395]\n",
      "\u001b[36m\u001b[1m┌ \u001b[22m\u001b[39m\u001b[36m\u001b[1mInfo: \u001b[22m\u001b[39mStarting MCMC\n",
      "\u001b[36m\u001b[1m│ \u001b[22m\u001b[39m  total_steps = 50\n",
      "\u001b[36m\u001b[1m└ \u001b[22m\u001b[39m  tuning = \"stepsize\"\n",
      "\u001b[36m\u001b[1m┌ \u001b[22m\u001b[39m\u001b[36m\u001b[1mInfo: \u001b[22m\u001b[39mMCMC progress\n",
      "\u001b[36m\u001b[1m│ \u001b[22m\u001b[39m  step = 1\n",
      "\u001b[36m\u001b[1m│ \u001b[22m\u001b[39m  seconds_per_step = 0.0028\n",
      "\u001b[36m\u001b[1m│ \u001b[22m\u001b[39m  estimated_seconds_left = 0.14\n",
      "\u001b[36m\u001b[1m└ \u001b[22m\u001b[39m  ϵ = 0.505\n",
      "\u001b[36m\u001b[1m┌ \u001b[22m\u001b[39m\u001b[36m\u001b[1mInfo: \u001b[22m\u001b[39mStarting MCMC\n",
      "\u001b[36m\u001b[1m└ \u001b[22m\u001b[39m  total_steps = 1000\n",
      "\u001b[36m\u001b[1m┌ \u001b[22m\u001b[39m\u001b[36m\u001b[1mInfo: \u001b[22m\u001b[39mMCMC progress\n",
      "\u001b[36m\u001b[1m│ \u001b[22m\u001b[39m  step = 1\n",
      "\u001b[36m\u001b[1m│ \u001b[22m\u001b[39m  seconds_per_step = 0.0027\n",
      "\u001b[36m\u001b[1m└ \u001b[22m\u001b[39m  estimated_seconds_left = 2.7\n",
      "\u001b[36m\u001b[1m┌ \u001b[22m\u001b[39m\u001b[36m\u001b[1mInfo: \u001b[22m\u001b[39mMCMC progress\n",
      "\u001b[36m\u001b[1m│ \u001b[22m\u001b[39m  step = 101\n",
      "\u001b[36m\u001b[1m│ \u001b[22m\u001b[39m  seconds_per_step = 0.0097\n",
      "\u001b[36m\u001b[1m└ \u001b[22m\u001b[39m  estimated_seconds_left = 8.7\n",
      "\u001b[36m\u001b[1m┌ \u001b[22m\u001b[39m\u001b[36m\u001b[1mInfo: \u001b[22m\u001b[39mMCMC progress\n",
      "\u001b[36m\u001b[1m│ \u001b[22m\u001b[39m  step = 201\n",
      "\u001b[36m\u001b[1m│ \u001b[22m\u001b[39m  seconds_per_step = 0.01\n",
      "\u001b[36m\u001b[1m└ \u001b[22m\u001b[39m  estimated_seconds_left = 8.0\n",
      "\u001b[36m\u001b[1m┌ \u001b[22m\u001b[39m\u001b[36m\u001b[1mInfo: \u001b[22m\u001b[39mMCMC progress\n",
      "\u001b[36m\u001b[1m│ \u001b[22m\u001b[39m  step = 301\n",
      "\u001b[36m\u001b[1m│ \u001b[22m\u001b[39m  seconds_per_step = 0.01\n",
      "\u001b[36m\u001b[1m└ \u001b[22m\u001b[39m  estimated_seconds_left = 7.0\n",
      "\u001b[36m\u001b[1m┌ \u001b[22m\u001b[39m\u001b[36m\u001b[1mInfo: \u001b[22m\u001b[39mMCMC progress\n",
      "\u001b[36m\u001b[1m│ \u001b[22m\u001b[39m  step = 401\n",
      "\u001b[36m\u001b[1m│ \u001b[22m\u001b[39m  seconds_per_step = 0.0095\n",
      "\u001b[36m\u001b[1m└ \u001b[22m\u001b[39m  estimated_seconds_left = 5.7\n",
      "\u001b[36m\u001b[1m┌ \u001b[22m\u001b[39m\u001b[36m\u001b[1mInfo: \u001b[22m\u001b[39mMCMC progress\n",
      "\u001b[36m\u001b[1m│ \u001b[22m\u001b[39m  step = 501\n",
      "\u001b[36m\u001b[1m│ \u001b[22m\u001b[39m  seconds_per_step = 0.01\n",
      "\u001b[36m\u001b[1m└ \u001b[22m\u001b[39m  estimated_seconds_left = 5.0\n",
      "\u001b[36m\u001b[1m┌ \u001b[22m\u001b[39m\u001b[36m\u001b[1mInfo: \u001b[22m\u001b[39mMCMC progress\n",
      "\u001b[36m\u001b[1m│ \u001b[22m\u001b[39m  step = 601\n",
      "\u001b[36m\u001b[1m│ \u001b[22m\u001b[39m  seconds_per_step = 0.011\n",
      "\u001b[36m\u001b[1m└ \u001b[22m\u001b[39m  estimated_seconds_left = 4.4\n",
      "\u001b[36m\u001b[1m┌ \u001b[22m\u001b[39m\u001b[36m\u001b[1mInfo: \u001b[22m\u001b[39mMCMC progress\n",
      "\u001b[36m\u001b[1m│ \u001b[22m\u001b[39m  step = 701\n",
      "\u001b[36m\u001b[1m│ \u001b[22m\u001b[39m  seconds_per_step = 0.0094\n",
      "\u001b[36m\u001b[1m└ \u001b[22m\u001b[39m  estimated_seconds_left = 2.8\n",
      "\u001b[36m\u001b[1m┌ \u001b[22m\u001b[39m\u001b[36m\u001b[1mInfo: \u001b[22m\u001b[39mMCMC progress\n",
      "\u001b[36m\u001b[1m│ \u001b[22m\u001b[39m  step = 801\n",
      "\u001b[36m\u001b[1m│ \u001b[22m\u001b[39m  seconds_per_step = 0.0093\n",
      "\u001b[36m\u001b[1m└ \u001b[22m\u001b[39m  estimated_seconds_left = 1.9\n",
      "\u001b[36m\u001b[1m┌ \u001b[22m\u001b[39m\u001b[36m\u001b[1mInfo: \u001b[22m\u001b[39mMCMC progress\n",
      "\u001b[36m\u001b[1m│ \u001b[22m\u001b[39m  step = 901\n",
      "\u001b[36m\u001b[1m│ \u001b[22m\u001b[39m  seconds_per_step = 0.0091\n",
      "\u001b[36m\u001b[1m└ \u001b[22m\u001b[39m  estimated_seconds_left = 0.9\n"
     ]
    },
    {
     "data": {
      "text/plain": [
       "(posterior_matrix = [239.16736575397027 241.7092598032288 … 238.2792733214518 241.46839714371438; 248.7863674414097 251.68958835068656 … 242.81601352826175 252.11604258612698; … ; 6.274318598875769 6.378869008280547 … 6.160539691083838 6.211124371437655; 1.803314069077694 1.045205378301353 … 2.060169705641662 1.563414753325403], tree_statistics = DynamicHMC.TreeStatisticsNUTS[DynamicHMC.TreeStatisticsNUTS(-688.536982818734, 3, turning at positions -6:1, 0.8567878658413584, 7, DynamicHMC.Directions(0x22485ec1)), DynamicHMC.TreeStatisticsNUTS(-688.047539447077, 3, turning at positions -6:1, 0.7584446227793616, 7, DynamicHMC.Directions(0x2f377e79)), DynamicHMC.TreeStatisticsNUTS(-682.4031378477603, 3, turning at positions -6:1, 0.9432550867882135, 7, DynamicHMC.Directions(0x02f307a9)), DynamicHMC.TreeStatisticsNUTS(-685.4571039394845, 3, turning at positions -5:2, 0.9769022097153529, 7, DynamicHMC.Directions(0x023198aa)), DynamicHMC.TreeStatisticsNUTS(-686.1855205318818, 3, turning at positions -4:3, 0.9318785873497463, 7, DynamicHMC.Directions(0x78ebe7fb)), DynamicHMC.TreeStatisticsNUTS(-685.4396353263658, 4, turning at positions -8:7, 0.7640174453882217, 15, DynamicHMC.Directions(0x60f04ff7)), DynamicHMC.TreeStatisticsNUTS(-703.3943818210122, 3, turning at positions -7:0, 0.5222413290992084, 7, DynamicHMC.Directions(0x008aa390)), DynamicHMC.TreeStatisticsNUTS(-706.0466325252949, 4, turning at positions -7:8, 0.9987026910529122, 15, DynamicHMC.Directions(0xa6de6be8)), DynamicHMC.TreeStatisticsNUTS(-700.9865811532111, 3, turning at positions -6:1, 0.8876747216382519, 7, DynamicHMC.Directions(0x7d327891)), DynamicHMC.TreeStatisticsNUTS(-703.9214826393124, 3, turning at positions 2:9, 0.9047088721758911, 15, DynamicHMC.Directions(0x09946509))  …  DynamicHMC.TreeStatisticsNUTS(-686.0352710070691, 3, turning at positions -6:1, 0.9916002524670482, 7, DynamicHMC.Directions(0xa4914bf1)), DynamicHMC.TreeStatisticsNUTS(-684.1411917772967, 3, turning at positions -1:6, 0.8973421672196056, 7, DynamicHMC.Directions(0xadde3c2e)), DynamicHMC.TreeStatisticsNUTS(-681.0896940134903, 3, turning at positions -1:6, 0.8128154228844162, 7, DynamicHMC.Directions(0xb4cbd0ee)), DynamicHMC.TreeStatisticsNUTS(-685.0232264020424, 3, turning at positions -5:2, 0.7362277035733662, 7, DynamicHMC.Directions(0x20e945c2)), DynamicHMC.TreeStatisticsNUTS(-696.5073163231722, 3, turning at positions -1:6, 0.9195442253357522, 7, DynamicHMC.Directions(0x8b7f8a36)), DynamicHMC.TreeStatisticsNUTS(-698.2836215347071, 3, turning at positions 5:12, 0.9857168059545066, 15, DynamicHMC.Directions(0x929b8dfc)), DynamicHMC.TreeStatisticsNUTS(-700.3800399505404, 3, turning at positions -6:1, 0.8292684087233465, 7, DynamicHMC.Directions(0x12223519)), DynamicHMC.TreeStatisticsNUTS(-703.8100203048365, 3, turning at positions -2:-9, 0.9859702118966922, 15, DynamicHMC.Directions(0x23bd7306)), DynamicHMC.TreeStatisticsNUTS(-698.874407050482, 4, turning at positions -8:7, 0.9966543473999414, 15, DynamicHMC.Directions(0x077eced7)), DynamicHMC.TreeStatisticsNUTS(-701.8561850403252, 3, turning at positions -5:2, 0.8328386187069363, 7, DynamicHMC.Directions(0x09a1ad2a))], κ = Gaussian kinetic energy (Diagonal), √diag(M⁻¹): [3.0227231028467005, 2.6635072605672034, 2.6419542766132924, 2.714660047634321, 2.5288079574158746, 2.809356576811251, 2.5871293983183725, 2.8655508984762608, 2.6684632696848696, 2.84629754991325, 2.4570376455776692, 2.4265363162416325, 2.786938905729888, 2.6642641695402594, 2.8561125268365437, 2.838515878455228, 2.67905890405772, 2.69968591362268, 2.8139785115944154, 2.68571989345336, 2.751357240713144, 2.8118266514422237, 2.6287881198369596, 2.793634861540216, 2.614557227977408, 2.6288476905451628, 2.7559615849632766, 2.821797685304008, 2.5004509977326688, 2.839871483837416, 0.2605753340874165, 0.26066049131353086, 0.24113629789584456, 0.23745502202732052, 0.25532363029613897, 0.23475949678806324, 0.21810882173171142, 0.23539764379614406, 0.251738810352558, 0.24324976227331882, 0.24924174626863496, 0.25835716679811804, 0.24010195286685435, 0.27473043846423245, 0.2437086014428362, 0.20965099412801497, 0.25628000824637587, 0.244447384215874, 0.2526074195390778, 0.2582080336082427, 0.251608625545687, 0.22508770015037624, 0.2388352127902816, 0.21247421698555607, 0.2568480894219598, 0.24703574806827502, 0.22768124107588314, 0.21815041853024192, 0.24680094894002544, 0.2268141882315857, 0.1478158212457085, 2.507973364348869, 0.2534503891650976, 0.10953806697699339, 0.3405267384577395], ϵ = 0.41486405224234113)"
      ]
     },
     "execution_count": 9,
     "metadata": {},
     "output_type": "execute_result"
    }
   ],
   "source": [
    "inits = (alpha = alpha, beta = beta, tau_c = tau_c, alpha_c = alpha_c, alpha_tau = alpha_tau, beta_c = beta_c, beta_tau = beta_tau)\n",
    "results = mcmc_with_warmup(Random.GLOBAL_RNG, ∇P, 1000)"
   ]
  },
  {
   "cell_type": "code",
   "execution_count": 10,
   "id": "79281717-5e63-4be5-be95-48821cef6b1a",
   "metadata": {},
   "outputs": [
    {
     "data": {
      "text/plain": [
       "(6.187927942084446, 0.10527951971888205)"
      ]
     },
     "execution_count": 10,
     "metadata": {},
     "output_type": "execute_result"
    }
   ],
   "source": [
    "# check the posterior of variable `beta_c`\n",
    "transformed_results = transform.(t, eachcol(results.posterior_matrix))\n",
    "beta_c_samples = [transformed_results[s][:beta_c] for s in 1:length(transformed_results)]\n",
    "stats = mean(beta_c_samples), std(beta_c_samples) # reference results: mean 6.186, variance 0.1088"
   ]
  }
 ],
 "metadata": {
  "kernelspec": {
   "display_name": "Julia nodeps 1.9.0-beta4",
   "language": "julia",
   "name": "julia-nodeps-1.9"
  },
  "language_info": {
   "file_extension": ".jl",
   "mimetype": "application/julia",
   "name": "julia",
   "version": "1.9.0"
  }
 },
 "nbformat": 4,
 "nbformat_minor": 5
}
